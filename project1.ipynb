{
 "cells": [
  {
   "cell_type": "markdown",
   "id": "bea7dc68",
   "metadata": {},
   "source": [
    "# Importing Pandas, numpy"
   ]
  },
  {
   "cell_type": "code",
   "execution_count": 1,
   "id": "d52de9b3",
   "metadata": {},
   "outputs": [],
   "source": [
    "import os\n",
    "import pandas as pd\n",
    "import numpy as np\n",
    "\n",
    "import warnings\n",
    "warnings.filterwarnings('ignore')"
   ]
  },
  {
   "cell_type": "markdown",
   "id": "38879719",
   "metadata": {},
   "source": [
    "# Reading, Sorting and Merging Data"
   ]
  },
  {
   "cell_type": "code",
   "execution_count": 2,
   "id": "f7779eba",
   "metadata": {},
   "outputs": [],
   "source": [
    "train_one=pd.read_csv(\"Insurance_Claim_Info_data.csv\",na_values=(\"?\",'#'))\n",
    "train_two=pd.read_csv(\"Insurance_Date_data.csv\",na_values=(\"?\",'#'))\n",
    "train_three=pd.read_csv(\"Insurance_Result_data.csv\",na_values=(\"?\",'#'))\n",
    "test=pd.read_excel(\"test_data-1663477366404.xlsx\",na_values='?,#')"
   ]
  },
  {
   "cell_type": "code",
   "execution_count": 3,
   "id": "39b9dcfa",
   "metadata": {},
   "outputs": [
    {
     "data": {
      "text/html": [
       "<div>\n",
       "<style scoped>\n",
       "    .dataframe tbody tr th:only-of-type {\n",
       "        vertical-align: middle;\n",
       "    }\n",
       "\n",
       "    .dataframe tbody tr th {\n",
       "        vertical-align: top;\n",
       "    }\n",
       "\n",
       "    .dataframe thead th {\n",
       "        text-align: right;\n",
       "    }\n",
       "</style>\n",
       "<table border=\"1\" class=\"dataframe\">\n",
       "  <thead>\n",
       "    <tr style=\"text-align: right;\">\n",
       "      <th></th>\n",
       "      <th>Claim Number</th>\n",
       "      <th>City Code</th>\n",
       "      <th>City</th>\n",
       "      <th>Enterprise Type</th>\n",
       "      <th>Claim Type</th>\n",
       "      <th>Claim Site</th>\n",
       "      <th>Product Insured</th>\n",
       "    </tr>\n",
       "  </thead>\n",
       "  <tbody>\n",
       "    <tr>\n",
       "      <th>0</th>\n",
       "      <td>DQW1NZO0PL</td>\n",
       "      <td>NSK</td>\n",
       "      <td>Nashik</td>\n",
       "      <td>Public Limited Company</td>\n",
       "      <td>Property Loss</td>\n",
       "      <td>In Transit</td>\n",
       "      <td>Inventory - Raw Material</td>\n",
       "    </tr>\n",
       "    <tr>\n",
       "      <th>1</th>\n",
       "      <td>JS5GAPRN5B</td>\n",
       "      <td>BOM</td>\n",
       "      <td>Mumbai</td>\n",
       "      <td>One Person Company</td>\n",
       "      <td>Property Loss</td>\n",
       "      <td>In Transit</td>\n",
       "      <td>Cameras and other Misc. Security Equipment</td>\n",
       "    </tr>\n",
       "    <tr>\n",
       "      <th>2</th>\n",
       "      <td>ZTSVAQSEAQ</td>\n",
       "      <td>LKO</td>\n",
       "      <td>Lucknow</td>\n",
       "      <td>Public Limited Company</td>\n",
       "      <td>Property Loss</td>\n",
       "      <td>In Transit</td>\n",
       "      <td>Fixtures</td>\n",
       "    </tr>\n",
       "    <tr>\n",
       "      <th>3</th>\n",
       "      <td>EW7NWHI7LI</td>\n",
       "      <td>DEL</td>\n",
       "      <td>Delhi</td>\n",
       "      <td>Sole Proprietorship</td>\n",
       "      <td>Property Loss</td>\n",
       "      <td>In Transit</td>\n",
       "      <td>Pumps and Motors</td>\n",
       "    </tr>\n",
       "    <tr>\n",
       "      <th>4</th>\n",
       "      <td>UJOFDC41EL</td>\n",
       "      <td>DEL</td>\n",
       "      <td>Delhi</td>\n",
       "      <td>One Person Company</td>\n",
       "      <td>Property Loss</td>\n",
       "      <td>In Transit</td>\n",
       "      <td>Misc. Engineering Tools</td>\n",
       "    </tr>\n",
       "  </tbody>\n",
       "</table>\n",
       "</div>"
      ],
      "text/plain": [
       "  Claim Number City Code     City         Enterprise Type     Claim Type  \\\n",
       "0   DQW1NZO0PL       NSK   Nashik  Public Limited Company  Property Loss   \n",
       "1   JS5GAPRN5B       BOM   Mumbai      One Person Company  Property Loss   \n",
       "2   ZTSVAQSEAQ       LKO  Lucknow  Public Limited Company  Property Loss   \n",
       "3   EW7NWHI7LI       DEL    Delhi     Sole Proprietorship  Property Loss   \n",
       "4   UJOFDC41EL       DEL    Delhi      One Person Company  Property Loss   \n",
       "\n",
       "   Claim Site                             Product Insured  \n",
       "0  In Transit                    Inventory - Raw Material  \n",
       "1  In Transit  Cameras and other Misc. Security Equipment  \n",
       "2  In Transit                                    Fixtures  \n",
       "3  In Transit                            Pumps and Motors  \n",
       "4  In Transit                     Misc. Engineering Tools  "
      ]
     },
     "execution_count": 3,
     "metadata": {},
     "output_type": "execute_result"
    }
   ],
   "source": [
    "train_one.head()"
   ]
  },
  {
   "cell_type": "code",
   "execution_count": 4,
   "id": "d66ff8b3",
   "metadata": {},
   "outputs": [
    {
     "data": {
      "text/html": [
       "<div>\n",
       "<style scoped>\n",
       "    .dataframe tbody tr th:only-of-type {\n",
       "        vertical-align: middle;\n",
       "    }\n",
       "\n",
       "    .dataframe tbody tr th {\n",
       "        vertical-align: top;\n",
       "    }\n",
       "\n",
       "    .dataframe thead th {\n",
       "        text-align: right;\n",
       "    }\n",
       "</style>\n",
       "<table border=\"1\" class=\"dataframe\">\n",
       "  <thead>\n",
       "    <tr style=\"text-align: right;\">\n",
       "      <th></th>\n",
       "      <th>Claim Number</th>\n",
       "      <th>Incident Date</th>\n",
       "      <th>Date Received</th>\n",
       "    </tr>\n",
       "  </thead>\n",
       "  <tbody>\n",
       "    <tr>\n",
       "      <th>0</th>\n",
       "      <td>BCHKRDM32K</td>\n",
       "      <td>21-10-2007</td>\n",
       "      <td>31-10-2007</td>\n",
       "    </tr>\n",
       "    <tr>\n",
       "      <th>1</th>\n",
       "      <td>B3GPD5IZQW</td>\n",
       "      <td>26-05-2006</td>\n",
       "      <td>14-06-2006</td>\n",
       "    </tr>\n",
       "    <tr>\n",
       "      <th>2</th>\n",
       "      <td>EB757CV6XW</td>\n",
       "      <td>18-01-2004</td>\n",
       "      <td>10-02-2004</td>\n",
       "    </tr>\n",
       "    <tr>\n",
       "      <th>3</th>\n",
       "      <td>SP0Z0Q95OV</td>\n",
       "      <td>28-04-2004</td>\n",
       "      <td>06-05-2004</td>\n",
       "    </tr>\n",
       "    <tr>\n",
       "      <th>4</th>\n",
       "      <td>VKZUK7J3KK</td>\n",
       "      <td>04-11-2007</td>\n",
       "      <td>14-11-2007</td>\n",
       "    </tr>\n",
       "  </tbody>\n",
       "</table>\n",
       "</div>"
      ],
      "text/plain": [
       "  Claim Number Incident Date Date Received\n",
       "0   BCHKRDM32K    21-10-2007    31-10-2007\n",
       "1   B3GPD5IZQW    26-05-2006    14-06-2006\n",
       "2   EB757CV6XW    18-01-2004    10-02-2004\n",
       "3   SP0Z0Q95OV    28-04-2004    06-05-2004\n",
       "4   VKZUK7J3KK    04-11-2007    14-11-2007"
      ]
     },
     "execution_count": 4,
     "metadata": {},
     "output_type": "execute_result"
    }
   ],
   "source": [
    "train_two.head()"
   ]
  },
  {
   "cell_type": "code",
   "execution_count": 5,
   "id": "b9558688",
   "metadata": {},
   "outputs": [
    {
     "data": {
      "text/html": [
       "<div>\n",
       "<style scoped>\n",
       "    .dataframe tbody tr th:only-of-type {\n",
       "        vertical-align: middle;\n",
       "    }\n",
       "\n",
       "    .dataframe tbody tr th {\n",
       "        vertical-align: top;\n",
       "    }\n",
       "\n",
       "    .dataframe thead th {\n",
       "        text-align: right;\n",
       "    }\n",
       "</style>\n",
       "<table border=\"1\" class=\"dataframe\">\n",
       "  <thead>\n",
       "    <tr style=\"text-align: right;\">\n",
       "      <th></th>\n",
       "      <th>Claim Number</th>\n",
       "      <th>Claim Amount</th>\n",
       "      <th>Close Amount</th>\n",
       "      <th>Disposition</th>\n",
       "    </tr>\n",
       "  </thead>\n",
       "  <tbody>\n",
       "    <tr>\n",
       "      <th>0</th>\n",
       "      <td>Y5VA9KOE89</td>\n",
       "      <td>100.00</td>\n",
       "      <td>0.00</td>\n",
       "      <td>Deny</td>\n",
       "    </tr>\n",
       "    <tr>\n",
       "      <th>1</th>\n",
       "      <td>P51DOJLR8W</td>\n",
       "      <td>199.99</td>\n",
       "      <td>0.00</td>\n",
       "      <td>Deny</td>\n",
       "    </tr>\n",
       "    <tr>\n",
       "      <th>2</th>\n",
       "      <td>OUUZFP7EFL</td>\n",
       "      <td>410.00</td>\n",
       "      <td>59.85</td>\n",
       "      <td>Settle</td>\n",
       "    </tr>\n",
       "    <tr>\n",
       "      <th>3</th>\n",
       "      <td>CGP3L1CCP2</td>\n",
       "      <td>240.00</td>\n",
       "      <td>0.00</td>\n",
       "      <td>Deny</td>\n",
       "    </tr>\n",
       "    <tr>\n",
       "      <th>4</th>\n",
       "      <td>JDFLPD7J9Z</td>\n",
       "      <td>11.36</td>\n",
       "      <td>11.36</td>\n",
       "      <td>Approve in Full</td>\n",
       "    </tr>\n",
       "  </tbody>\n",
       "</table>\n",
       "</div>"
      ],
      "text/plain": [
       "  Claim Number  Claim Amount  Close Amount      Disposition\n",
       "0   Y5VA9KOE89        100.00          0.00             Deny\n",
       "1   P51DOJLR8W        199.99          0.00             Deny\n",
       "2   OUUZFP7EFL        410.00         59.85           Settle\n",
       "3   CGP3L1CCP2        240.00          0.00             Deny\n",
       "4   JDFLPD7J9Z         11.36         11.36  Approve in Full"
      ]
     },
     "execution_count": 5,
     "metadata": {},
     "output_type": "execute_result"
    }
   ],
   "source": [
    "train_three.head()"
   ]
  },
  {
   "cell_type": "code",
   "execution_count": 6,
   "id": "896967b7",
   "metadata": {},
   "outputs": [],
   "source": [
    "train_one=train_one.sort_values(\"Claim Number\")"
   ]
  },
  {
   "cell_type": "code",
   "execution_count": 7,
   "id": "93d2c841",
   "metadata": {},
   "outputs": [
    {
     "data": {
      "text/html": [
       "<div>\n",
       "<style scoped>\n",
       "    .dataframe tbody tr th:only-of-type {\n",
       "        vertical-align: middle;\n",
       "    }\n",
       "\n",
       "    .dataframe tbody tr th {\n",
       "        vertical-align: top;\n",
       "    }\n",
       "\n",
       "    .dataframe thead th {\n",
       "        text-align: right;\n",
       "    }\n",
       "</style>\n",
       "<table border=\"1\" class=\"dataframe\">\n",
       "  <thead>\n",
       "    <tr style=\"text-align: right;\">\n",
       "      <th></th>\n",
       "      <th>Claim Number</th>\n",
       "      <th>City Code</th>\n",
       "      <th>City</th>\n",
       "      <th>Enterprise Type</th>\n",
       "      <th>Claim Type</th>\n",
       "      <th>Claim Site</th>\n",
       "      <th>Product Insured</th>\n",
       "    </tr>\n",
       "  </thead>\n",
       "  <tbody>\n",
       "    <tr>\n",
       "      <th>1685</th>\n",
       "      <td>000TQE7Z0O</td>\n",
       "      <td>KNU</td>\n",
       "      <td>Kanpur</td>\n",
       "      <td>Limited Liability Parterneship (LLP)</td>\n",
       "      <td>Property Loss</td>\n",
       "      <td>In Transit</td>\n",
       "      <td>Misc. Sensors</td>\n",
       "    </tr>\n",
       "    <tr>\n",
       "      <th>5541</th>\n",
       "      <td>000ZZJ33Q4</td>\n",
       "      <td>CCU</td>\n",
       "      <td>Kolkata</td>\n",
       "      <td>Private Ltd. MSME - Medium</td>\n",
       "      <td>Property Loss</td>\n",
       "      <td>In Transit</td>\n",
       "      <td>Inventory - Finished Goods</td>\n",
       "    </tr>\n",
       "    <tr>\n",
       "      <th>10876</th>\n",
       "      <td>0015BJJOZB</td>\n",
       "      <td>CJB</td>\n",
       "      <td>Coimbatore</td>\n",
       "      <td>Joint-Venture Company</td>\n",
       "      <td>Property Damage</td>\n",
       "      <td>In Transit</td>\n",
       "      <td>Misc. Engineering Tools</td>\n",
       "    </tr>\n",
       "    <tr>\n",
       "      <th>25869</th>\n",
       "      <td>002WLESYK3</td>\n",
       "      <td>DEL</td>\n",
       "      <td>Delhi</td>\n",
       "      <td>Foreign Subsidary</td>\n",
       "      <td>Property Damage</td>\n",
       "      <td>In Transit</td>\n",
       "      <td>Misc. Electronic Items</td>\n",
       "    </tr>\n",
       "    <tr>\n",
       "      <th>10610</th>\n",
       "      <td>003BPVIC9T</td>\n",
       "      <td>DEL</td>\n",
       "      <td>Delhi</td>\n",
       "      <td>One Person Company</td>\n",
       "      <td>Property Loss</td>\n",
       "      <td>In Transit</td>\n",
       "      <td>Misc. Engineering Tools</td>\n",
       "    </tr>\n",
       "  </tbody>\n",
       "</table>\n",
       "</div>"
      ],
      "text/plain": [
       "      Claim Number City Code        City  \\\n",
       "1685    000TQE7Z0O       KNU      Kanpur   \n",
       "5541    000ZZJ33Q4       CCU     Kolkata   \n",
       "10876   0015BJJOZB       CJB  Coimbatore   \n",
       "25869   002WLESYK3       DEL       Delhi   \n",
       "10610   003BPVIC9T       DEL       Delhi   \n",
       "\n",
       "                            Enterprise Type       Claim Type  Claim Site  \\\n",
       "1685   Limited Liability Parterneship (LLP)    Property Loss  In Transit   \n",
       "5541             Private Ltd. MSME - Medium    Property Loss  In Transit   \n",
       "10876                 Joint-Venture Company  Property Damage  In Transit   \n",
       "25869                     Foreign Subsidary  Property Damage  In Transit   \n",
       "10610                    One Person Company    Property Loss  In Transit   \n",
       "\n",
       "                  Product Insured  \n",
       "1685                Misc. Sensors  \n",
       "5541   Inventory - Finished Goods  \n",
       "10876     Misc. Engineering Tools  \n",
       "25869      Misc. Electronic Items  \n",
       "10610     Misc. Engineering Tools  "
      ]
     },
     "execution_count": 7,
     "metadata": {},
     "output_type": "execute_result"
    }
   ],
   "source": [
    "train_one.head()"
   ]
  },
  {
   "cell_type": "code",
   "execution_count": 8,
   "id": "d6bdfa47",
   "metadata": {},
   "outputs": [],
   "source": [
    "train_two=train_two.sort_values(\"Claim Number\")"
   ]
  },
  {
   "cell_type": "code",
   "execution_count": 9,
   "id": "8c785091",
   "metadata": {},
   "outputs": [
    {
     "data": {
      "text/html": [
       "<div>\n",
       "<style scoped>\n",
       "    .dataframe tbody tr th:only-of-type {\n",
       "        vertical-align: middle;\n",
       "    }\n",
       "\n",
       "    .dataframe tbody tr th {\n",
       "        vertical-align: top;\n",
       "    }\n",
       "\n",
       "    .dataframe thead th {\n",
       "        text-align: right;\n",
       "    }\n",
       "</style>\n",
       "<table border=\"1\" class=\"dataframe\">\n",
       "  <thead>\n",
       "    <tr style=\"text-align: right;\">\n",
       "      <th></th>\n",
       "      <th>Claim Number</th>\n",
       "      <th>Incident Date</th>\n",
       "      <th>Date Received</th>\n",
       "    </tr>\n",
       "  </thead>\n",
       "  <tbody>\n",
       "    <tr>\n",
       "      <th>12271</th>\n",
       "      <td>000TQE7Z0O</td>\n",
       "      <td>27-03-2004</td>\n",
       "      <td>23-04-2004</td>\n",
       "    </tr>\n",
       "    <tr>\n",
       "      <th>16905</th>\n",
       "      <td>000ZZJ33Q4</td>\n",
       "      <td>07-04-2007</td>\n",
       "      <td>30-04-2007</td>\n",
       "    </tr>\n",
       "    <tr>\n",
       "      <th>16629</th>\n",
       "      <td>0015BJJOZB</td>\n",
       "      <td>13-05-2004</td>\n",
       "      <td>18-03-2005</td>\n",
       "    </tr>\n",
       "    <tr>\n",
       "      <th>29943</th>\n",
       "      <td>002WLESYK3</td>\n",
       "      <td>28-08-2007</td>\n",
       "      <td>06-09-2007</td>\n",
       "    </tr>\n",
       "    <tr>\n",
       "      <th>14646</th>\n",
       "      <td>003BPVIC9T</td>\n",
       "      <td>04-01-2004</td>\n",
       "      <td>29-01-2004</td>\n",
       "    </tr>\n",
       "  </tbody>\n",
       "</table>\n",
       "</div>"
      ],
      "text/plain": [
       "      Claim Number Incident Date Date Received\n",
       "12271   000TQE7Z0O    27-03-2004    23-04-2004\n",
       "16905   000ZZJ33Q4    07-04-2007    30-04-2007\n",
       "16629   0015BJJOZB    13-05-2004    18-03-2005\n",
       "29943   002WLESYK3    28-08-2007    06-09-2007\n",
       "14646   003BPVIC9T    04-01-2004    29-01-2004"
      ]
     },
     "execution_count": 9,
     "metadata": {},
     "output_type": "execute_result"
    }
   ],
   "source": [
    "train_two.head()"
   ]
  },
  {
   "cell_type": "code",
   "execution_count": 10,
   "id": "ba223c0d",
   "metadata": {},
   "outputs": [],
   "source": [
    "train_three=train_three.sort_values(\"Claim Number\")"
   ]
  },
  {
   "cell_type": "code",
   "execution_count": 11,
   "id": "415606f8",
   "metadata": {},
   "outputs": [
    {
     "data": {
      "text/html": [
       "<div>\n",
       "<style scoped>\n",
       "    .dataframe tbody tr th:only-of-type {\n",
       "        vertical-align: middle;\n",
       "    }\n",
       "\n",
       "    .dataframe tbody tr th {\n",
       "        vertical-align: top;\n",
       "    }\n",
       "\n",
       "    .dataframe thead th {\n",
       "        text-align: right;\n",
       "    }\n",
       "</style>\n",
       "<table border=\"1\" class=\"dataframe\">\n",
       "  <thead>\n",
       "    <tr style=\"text-align: right;\">\n",
       "      <th></th>\n",
       "      <th>Claim Number</th>\n",
       "      <th>Claim Amount</th>\n",
       "      <th>Close Amount</th>\n",
       "      <th>Disposition</th>\n",
       "    </tr>\n",
       "  </thead>\n",
       "  <tbody>\n",
       "    <tr>\n",
       "      <th>14991</th>\n",
       "      <td>000TQE7Z0O</td>\n",
       "      <td>100.0</td>\n",
       "      <td>100.0</td>\n",
       "      <td>Approve in Full</td>\n",
       "    </tr>\n",
       "    <tr>\n",
       "      <th>21703</th>\n",
       "      <td>000ZZJ33Q4</td>\n",
       "      <td>45.0</td>\n",
       "      <td>45.0</td>\n",
       "      <td>Approve in Full</td>\n",
       "    </tr>\n",
       "    <tr>\n",
       "      <th>7789</th>\n",
       "      <td>0015BJJOZB</td>\n",
       "      <td>124.8</td>\n",
       "      <td>124.8</td>\n",
       "      <td>Approve in Full</td>\n",
       "    </tr>\n",
       "    <tr>\n",
       "      <th>27920</th>\n",
       "      <td>002WLESYK3</td>\n",
       "      <td>300.0</td>\n",
       "      <td>0.0</td>\n",
       "      <td>Deny</td>\n",
       "    </tr>\n",
       "    <tr>\n",
       "      <th>9668</th>\n",
       "      <td>003BPVIC9T</td>\n",
       "      <td>150.0</td>\n",
       "      <td>150.0</td>\n",
       "      <td>Approve in Full</td>\n",
       "    </tr>\n",
       "  </tbody>\n",
       "</table>\n",
       "</div>"
      ],
      "text/plain": [
       "      Claim Number  Claim Amount  Close Amount      Disposition\n",
       "14991   000TQE7Z0O         100.0         100.0  Approve in Full\n",
       "21703   000ZZJ33Q4          45.0          45.0  Approve in Full\n",
       "7789    0015BJJOZB         124.8         124.8  Approve in Full\n",
       "27920   002WLESYK3         300.0           0.0             Deny\n",
       "9668    003BPVIC9T         150.0         150.0  Approve in Full"
      ]
     },
     "execution_count": 11,
     "metadata": {},
     "output_type": "execute_result"
    }
   ],
   "source": [
    "train_three.head()"
   ]
  },
  {
   "cell_type": "code",
   "execution_count": 12,
   "id": "e69a09b2",
   "metadata": {},
   "outputs": [],
   "source": [
    "train=pd.merge(pd.merge(train_one,train_two,on='Claim Number'),train_three,on='Claim Number')"
   ]
  },
  {
   "cell_type": "code",
   "execution_count": 13,
   "id": "e181d034",
   "metadata": {
    "scrolled": true
   },
   "outputs": [
    {
     "data": {
      "text/html": [
       "<div>\n",
       "<style scoped>\n",
       "    .dataframe tbody tr th:only-of-type {\n",
       "        vertical-align: middle;\n",
       "    }\n",
       "\n",
       "    .dataframe tbody tr th {\n",
       "        vertical-align: top;\n",
       "    }\n",
       "\n",
       "    .dataframe thead th {\n",
       "        text-align: right;\n",
       "    }\n",
       "</style>\n",
       "<table border=\"1\" class=\"dataframe\">\n",
       "  <thead>\n",
       "    <tr style=\"text-align: right;\">\n",
       "      <th></th>\n",
       "      <th>Claim Number</th>\n",
       "      <th>City Code</th>\n",
       "      <th>City</th>\n",
       "      <th>Enterprise Type</th>\n",
       "      <th>Claim Type</th>\n",
       "      <th>Claim Site</th>\n",
       "      <th>Product Insured</th>\n",
       "      <th>Incident Date</th>\n",
       "      <th>Date Received</th>\n",
       "      <th>Claim Amount</th>\n",
       "      <th>Close Amount</th>\n",
       "      <th>Disposition</th>\n",
       "    </tr>\n",
       "  </thead>\n",
       "  <tbody>\n",
       "    <tr>\n",
       "      <th>0</th>\n",
       "      <td>000TQE7Z0O</td>\n",
       "      <td>KNU</td>\n",
       "      <td>Kanpur</td>\n",
       "      <td>Limited Liability Parterneship (LLP)</td>\n",
       "      <td>Property Loss</td>\n",
       "      <td>In Transit</td>\n",
       "      <td>Misc. Sensors</td>\n",
       "      <td>27-03-2004</td>\n",
       "      <td>23-04-2004</td>\n",
       "      <td>100.0</td>\n",
       "      <td>100.0</td>\n",
       "      <td>Approve in Full</td>\n",
       "    </tr>\n",
       "    <tr>\n",
       "      <th>1</th>\n",
       "      <td>000ZZJ33Q4</td>\n",
       "      <td>CCU</td>\n",
       "      <td>Kolkata</td>\n",
       "      <td>Private Ltd. MSME - Medium</td>\n",
       "      <td>Property Loss</td>\n",
       "      <td>In Transit</td>\n",
       "      <td>Inventory - Finished Goods</td>\n",
       "      <td>07-04-2007</td>\n",
       "      <td>30-04-2007</td>\n",
       "      <td>45.0</td>\n",
       "      <td>45.0</td>\n",
       "      <td>Approve in Full</td>\n",
       "    </tr>\n",
       "    <tr>\n",
       "      <th>2</th>\n",
       "      <td>0015BJJOZB</td>\n",
       "      <td>CJB</td>\n",
       "      <td>Coimbatore</td>\n",
       "      <td>Joint-Venture Company</td>\n",
       "      <td>Property Damage</td>\n",
       "      <td>In Transit</td>\n",
       "      <td>Misc. Engineering Tools</td>\n",
       "      <td>13-05-2004</td>\n",
       "      <td>18-03-2005</td>\n",
       "      <td>124.8</td>\n",
       "      <td>124.8</td>\n",
       "      <td>Approve in Full</td>\n",
       "    </tr>\n",
       "    <tr>\n",
       "      <th>3</th>\n",
       "      <td>002WLESYK3</td>\n",
       "      <td>DEL</td>\n",
       "      <td>Delhi</td>\n",
       "      <td>Foreign Subsidary</td>\n",
       "      <td>Property Damage</td>\n",
       "      <td>In Transit</td>\n",
       "      <td>Misc. Electronic Items</td>\n",
       "      <td>28-08-2007</td>\n",
       "      <td>06-09-2007</td>\n",
       "      <td>300.0</td>\n",
       "      <td>0.0</td>\n",
       "      <td>Deny</td>\n",
       "    </tr>\n",
       "    <tr>\n",
       "      <th>4</th>\n",
       "      <td>003BPVIC9T</td>\n",
       "      <td>DEL</td>\n",
       "      <td>Delhi</td>\n",
       "      <td>One Person Company</td>\n",
       "      <td>Property Loss</td>\n",
       "      <td>In Transit</td>\n",
       "      <td>Misc. Engineering Tools</td>\n",
       "      <td>04-01-2004</td>\n",
       "      <td>29-01-2004</td>\n",
       "      <td>150.0</td>\n",
       "      <td>150.0</td>\n",
       "      <td>Approve in Full</td>\n",
       "    </tr>\n",
       "  </tbody>\n",
       "</table>\n",
       "</div>"
      ],
      "text/plain": [
       "  Claim Number City Code        City                       Enterprise Type  \\\n",
       "0   000TQE7Z0O       KNU      Kanpur  Limited Liability Parterneship (LLP)   \n",
       "1   000ZZJ33Q4       CCU     Kolkata            Private Ltd. MSME - Medium   \n",
       "2   0015BJJOZB       CJB  Coimbatore                 Joint-Venture Company   \n",
       "3   002WLESYK3       DEL       Delhi                     Foreign Subsidary   \n",
       "4   003BPVIC9T       DEL       Delhi                    One Person Company   \n",
       "\n",
       "        Claim Type  Claim Site             Product Insured Incident Date  \\\n",
       "0    Property Loss  In Transit               Misc. Sensors    27-03-2004   \n",
       "1    Property Loss  In Transit  Inventory - Finished Goods    07-04-2007   \n",
       "2  Property Damage  In Transit     Misc. Engineering Tools    13-05-2004   \n",
       "3  Property Damage  In Transit      Misc. Electronic Items    28-08-2007   \n",
       "4    Property Loss  In Transit     Misc. Engineering Tools    04-01-2004   \n",
       "\n",
       "  Date Received  Claim Amount  Close Amount      Disposition  \n",
       "0    23-04-2004         100.0         100.0  Approve in Full  \n",
       "1    30-04-2007          45.0          45.0  Approve in Full  \n",
       "2    18-03-2005         124.8         124.8  Approve in Full  \n",
       "3    06-09-2007         300.0           0.0             Deny  \n",
       "4    29-01-2004         150.0         150.0  Approve in Full  "
      ]
     },
     "execution_count": 13,
     "metadata": {},
     "output_type": "execute_result"
    }
   ],
   "source": [
    "train.head()"
   ]
  },
  {
   "cell_type": "code",
   "execution_count": 14,
   "id": "7158ed92",
   "metadata": {
    "scrolled": false
   },
   "outputs": [
    {
     "data": {
      "text/html": [
       "<div>\n",
       "<style scoped>\n",
       "    .dataframe tbody tr th:only-of-type {\n",
       "        vertical-align: middle;\n",
       "    }\n",
       "\n",
       "    .dataframe tbody tr th {\n",
       "        vertical-align: top;\n",
       "    }\n",
       "\n",
       "    .dataframe thead th {\n",
       "        text-align: right;\n",
       "    }\n",
       "</style>\n",
       "<table border=\"1\" class=\"dataframe\">\n",
       "  <thead>\n",
       "    <tr style=\"text-align: right;\">\n",
       "      <th></th>\n",
       "      <th>Claim Number</th>\n",
       "      <th>City Code</th>\n",
       "      <th>City</th>\n",
       "      <th>Enterprise Type</th>\n",
       "      <th>Claim Type</th>\n",
       "      <th>Claim Site</th>\n",
       "      <th>Product Insured</th>\n",
       "      <th>Incident Date</th>\n",
       "      <th>Date Received</th>\n",
       "      <th>Claim Amount</th>\n",
       "      <th>Close Amount</th>\n",
       "      <th>Disposition</th>\n",
       "    </tr>\n",
       "  </thead>\n",
       "  <tbody>\n",
       "    <tr>\n",
       "      <th>34105</th>\n",
       "      <td>ZZOC3X9YBS</td>\n",
       "      <td>MAA</td>\n",
       "      <td>Chennai</td>\n",
       "      <td>Private Ltd. MSME - Micro</td>\n",
       "      <td>Property Loss</td>\n",
       "      <td>In Transit</td>\n",
       "      <td>Inventory - Raw Material</td>\n",
       "      <td>09-02-2007</td>\n",
       "      <td>19-03-2007</td>\n",
       "      <td>23.45</td>\n",
       "      <td>23.45</td>\n",
       "      <td>Approve in Full</td>\n",
       "    </tr>\n",
       "    <tr>\n",
       "      <th>34106</th>\n",
       "      <td>ZZSP4FNLEG</td>\n",
       "      <td>PAT</td>\n",
       "      <td>Patna</td>\n",
       "      <td>Foreign Subsidary</td>\n",
       "      <td>Property Loss</td>\n",
       "      <td>In Transit</td>\n",
       "      <td>Misc. Electronic Items</td>\n",
       "      <td>06-06-2003</td>\n",
       "      <td>07-08-2003</td>\n",
       "      <td>134.50</td>\n",
       "      <td>67.25</td>\n",
       "      <td>Settle</td>\n",
       "    </tr>\n",
       "    <tr>\n",
       "      <th>34107</th>\n",
       "      <td>ZZT3H2ZL75</td>\n",
       "      <td>CJB</td>\n",
       "      <td>Coimbatore</td>\n",
       "      <td>Joint-Venture Company</td>\n",
       "      <td>Property Loss</td>\n",
       "      <td>In Transit</td>\n",
       "      <td>Fixtures</td>\n",
       "      <td>11-11-2007</td>\n",
       "      <td>21-04-2008</td>\n",
       "      <td>120.55</td>\n",
       "      <td>0.00</td>\n",
       "      <td>Deny</td>\n",
       "    </tr>\n",
       "    <tr>\n",
       "      <th>34108</th>\n",
       "      <td>ZZVIKPQQQD</td>\n",
       "      <td>AMD</td>\n",
       "      <td>Ahmedabad</td>\n",
       "      <td>Partnership Firm</td>\n",
       "      <td>Property Damage</td>\n",
       "      <td>In Transit</td>\n",
       "      <td>Misc. Electronic Items</td>\n",
       "      <td>17-10-2009</td>\n",
       "      <td>29-12-2009</td>\n",
       "      <td>32.48</td>\n",
       "      <td>0.00</td>\n",
       "      <td>Deny</td>\n",
       "    </tr>\n",
       "    <tr>\n",
       "      <th>34109</th>\n",
       "      <td>ZZW9JKTJMJ</td>\n",
       "      <td>HYD</td>\n",
       "      <td>Hyderabad</td>\n",
       "      <td>Foreign Subsidary</td>\n",
       "      <td>Property Loss</td>\n",
       "      <td>In Transit</td>\n",
       "      <td>Inventory - Raw Material</td>\n",
       "      <td>06-05-2009</td>\n",
       "      <td>13-07-2009</td>\n",
       "      <td>160.00</td>\n",
       "      <td>0.00</td>\n",
       "      <td>Deny</td>\n",
       "    </tr>\n",
       "  </tbody>\n",
       "</table>\n",
       "</div>"
      ],
      "text/plain": [
       "      Claim Number City Code        City            Enterprise Type  \\\n",
       "34105   ZZOC3X9YBS       MAA     Chennai  Private Ltd. MSME - Micro   \n",
       "34106   ZZSP4FNLEG       PAT       Patna          Foreign Subsidary   \n",
       "34107   ZZT3H2ZL75       CJB  Coimbatore      Joint-Venture Company   \n",
       "34108   ZZVIKPQQQD       AMD   Ahmedabad           Partnership Firm   \n",
       "34109   ZZW9JKTJMJ       HYD   Hyderabad          Foreign Subsidary   \n",
       "\n",
       "            Claim Type  Claim Site           Product Insured Incident Date  \\\n",
       "34105    Property Loss  In Transit  Inventory - Raw Material    09-02-2007   \n",
       "34106    Property Loss  In Transit    Misc. Electronic Items    06-06-2003   \n",
       "34107    Property Loss  In Transit                  Fixtures    11-11-2007   \n",
       "34108  Property Damage  In Transit    Misc. Electronic Items    17-10-2009   \n",
       "34109    Property Loss  In Transit  Inventory - Raw Material    06-05-2009   \n",
       "\n",
       "      Date Received  Claim Amount  Close Amount      Disposition  \n",
       "34105    19-03-2007         23.45         23.45  Approve in Full  \n",
       "34106    07-08-2003        134.50         67.25           Settle  \n",
       "34107    21-04-2008        120.55          0.00             Deny  \n",
       "34108    29-12-2009         32.48          0.00             Deny  \n",
       "34109    13-07-2009        160.00          0.00             Deny  "
      ]
     },
     "execution_count": 14,
     "metadata": {},
     "output_type": "execute_result"
    }
   ],
   "source": [
    "train.tail()"
   ]
  },
  {
   "cell_type": "code",
   "execution_count": 15,
   "id": "f93b9105",
   "metadata": {},
   "outputs": [],
   "source": [
    "test=test.sort_values(\"Claim Number\")"
   ]
  },
  {
   "cell_type": "code",
   "execution_count": 16,
   "id": "b4f2cde5",
   "metadata": {
    "scrolled": false
   },
   "outputs": [
    {
     "data": {
      "text/html": [
       "<div>\n",
       "<style scoped>\n",
       "    .dataframe tbody tr th:only-of-type {\n",
       "        vertical-align: middle;\n",
       "    }\n",
       "\n",
       "    .dataframe tbody tr th {\n",
       "        vertical-align: top;\n",
       "    }\n",
       "\n",
       "    .dataframe thead th {\n",
       "        text-align: right;\n",
       "    }\n",
       "</style>\n",
       "<table border=\"1\" class=\"dataframe\">\n",
       "  <thead>\n",
       "    <tr style=\"text-align: right;\">\n",
       "      <th></th>\n",
       "      <th>Claim Number</th>\n",
       "      <th>Incident Date</th>\n",
       "      <th>Date Received</th>\n",
       "      <th>City Code</th>\n",
       "      <th>City</th>\n",
       "      <th>Enterprise Type</th>\n",
       "      <th>Claim Type</th>\n",
       "      <th>Claim Site</th>\n",
       "      <th>Product Insured</th>\n",
       "    </tr>\n",
       "  </thead>\n",
       "  <tbody>\n",
       "    <tr>\n",
       "      <th>1915</th>\n",
       "      <td>00LTK2A09U</td>\n",
       "      <td>28-01-2003</td>\n",
       "      <td>2003-11-02 00:00:00</td>\n",
       "      <td>KNU</td>\n",
       "      <td>Kanpur</td>\n",
       "      <td>Sole Proprietorship</td>\n",
       "      <td>Property Damage</td>\n",
       "      <td>Warehouse</td>\n",
       "      <td>Inventory - Raw Material</td>\n",
       "    </tr>\n",
       "    <tr>\n",
       "      <th>3176</th>\n",
       "      <td>00TNO7I9XD</td>\n",
       "      <td>16-06-2005</td>\n",
       "      <td>2006-06-07 00:00:00</td>\n",
       "      <td>KNU</td>\n",
       "      <td>Kanpur</td>\n",
       "      <td>Sole Proprietorship</td>\n",
       "      <td>Property Loss</td>\n",
       "      <td>In Transit</td>\n",
       "      <td>Inventory - Finished Goods</td>\n",
       "    </tr>\n",
       "    <tr>\n",
       "      <th>311</th>\n",
       "      <td>00YBMA2GVY</td>\n",
       "      <td>2004-02-10 00:00:00</td>\n",
       "      <td>28-12-2004</td>\n",
       "      <td>AMD</td>\n",
       "      <td>Ahmedabad</td>\n",
       "      <td>Public Limited Company</td>\n",
       "      <td>Property Loss</td>\n",
       "      <td>In Transit</td>\n",
       "      <td>Fixtures</td>\n",
       "    </tr>\n",
       "    <tr>\n",
       "      <th>525</th>\n",
       "      <td>01YMPCBPFM</td>\n",
       "      <td>30-04-2007</td>\n",
       "      <td>16-05-2007</td>\n",
       "      <td>PAT</td>\n",
       "      <td>Patna</td>\n",
       "      <td>Sole Proprietorship</td>\n",
       "      <td>Property Damage</td>\n",
       "      <td>Warehouse</td>\n",
       "      <td>Inventory - Finished Goods</td>\n",
       "    </tr>\n",
       "    <tr>\n",
       "      <th>92</th>\n",
       "      <td>02CF66I634</td>\n",
       "      <td>24-04-2005</td>\n",
       "      <td>29-04-2005</td>\n",
       "      <td>HYD</td>\n",
       "      <td>Hyderabad</td>\n",
       "      <td>Sole Proprietorship</td>\n",
       "      <td>Property Damage</td>\n",
       "      <td>In Transit</td>\n",
       "      <td>Inventory - Raw Material</td>\n",
       "    </tr>\n",
       "  </tbody>\n",
       "</table>\n",
       "</div>"
      ],
      "text/plain": [
       "     Claim Number        Incident Date        Date Received City Code  \\\n",
       "1915   00LTK2A09U           28-01-2003  2003-11-02 00:00:00       KNU   \n",
       "3176   00TNO7I9XD           16-06-2005  2006-06-07 00:00:00       KNU   \n",
       "311    00YBMA2GVY  2004-02-10 00:00:00           28-12-2004       AMD   \n",
       "525    01YMPCBPFM           30-04-2007           16-05-2007       PAT   \n",
       "92     02CF66I634           24-04-2005           29-04-2005       HYD   \n",
       "\n",
       "           City         Enterprise Type       Claim Type  Claim Site  \\\n",
       "1915     Kanpur     Sole Proprietorship  Property Damage   Warehouse   \n",
       "3176     Kanpur     Sole Proprietorship    Property Loss  In Transit   \n",
       "311   Ahmedabad  Public Limited Company    Property Loss  In Transit   \n",
       "525       Patna     Sole Proprietorship  Property Damage   Warehouse   \n",
       "92    Hyderabad     Sole Proprietorship  Property Damage  In Transit   \n",
       "\n",
       "                 Product Insured  \n",
       "1915    Inventory - Raw Material  \n",
       "3176  Inventory - Finished Goods  \n",
       "311                     Fixtures  \n",
       "525   Inventory - Finished Goods  \n",
       "92      Inventory - Raw Material  "
      ]
     },
     "execution_count": 16,
     "metadata": {},
     "output_type": "execute_result"
    }
   ],
   "source": [
    "test.head()"
   ]
  },
  {
   "cell_type": "markdown",
   "id": "b061b535",
   "metadata": {},
   "source": [
    "# extracting test claim id into another data set"
   ]
  },
  {
   "cell_type": "code",
   "execution_count": 17,
   "id": "cd5cd102",
   "metadata": {},
   "outputs": [],
   "source": [
    "extra=pd.DataFrame(data=test,columns=(['Claim Number']))"
   ]
  },
  {
   "cell_type": "code",
   "execution_count": 18,
   "id": "00c4d027",
   "metadata": {},
   "outputs": [
    {
     "data": {
      "text/html": [
       "<div>\n",
       "<style scoped>\n",
       "    .dataframe tbody tr th:only-of-type {\n",
       "        vertical-align: middle;\n",
       "    }\n",
       "\n",
       "    .dataframe tbody tr th {\n",
       "        vertical-align: top;\n",
       "    }\n",
       "\n",
       "    .dataframe thead th {\n",
       "        text-align: right;\n",
       "    }\n",
       "</style>\n",
       "<table border=\"1\" class=\"dataframe\">\n",
       "  <thead>\n",
       "    <tr style=\"text-align: right;\">\n",
       "      <th></th>\n",
       "      <th>Claim Number</th>\n",
       "    </tr>\n",
       "  </thead>\n",
       "  <tbody>\n",
       "    <tr>\n",
       "      <th>1915</th>\n",
       "      <td>00LTK2A09U</td>\n",
       "    </tr>\n",
       "    <tr>\n",
       "      <th>3176</th>\n",
       "      <td>00TNO7I9XD</td>\n",
       "    </tr>\n",
       "    <tr>\n",
       "      <th>311</th>\n",
       "      <td>00YBMA2GVY</td>\n",
       "    </tr>\n",
       "    <tr>\n",
       "      <th>525</th>\n",
       "      <td>01YMPCBPFM</td>\n",
       "    </tr>\n",
       "    <tr>\n",
       "      <th>92</th>\n",
       "      <td>02CF66I634</td>\n",
       "    </tr>\n",
       "  </tbody>\n",
       "</table>\n",
       "</div>"
      ],
      "text/plain": [
       "     Claim Number\n",
       "1915   00LTK2A09U\n",
       "3176   00TNO7I9XD\n",
       "311    00YBMA2GVY\n",
       "525    01YMPCBPFM\n",
       "92     02CF66I634"
      ]
     },
     "execution_count": 18,
     "metadata": {},
     "output_type": "execute_result"
    }
   ],
   "source": [
    "extra.head()"
   ]
  },
  {
   "cell_type": "markdown",
   "id": "80760e4d",
   "metadata": {},
   "source": [
    "# converting datetime into date"
   ]
  },
  {
   "cell_type": "code",
   "execution_count": 19,
   "id": "885eee3d",
   "metadata": {},
   "outputs": [],
   "source": [
    "train['Date of incident']=pd.to_datetime(train['Incident Date']).dt.date"
   ]
  },
  {
   "cell_type": "code",
   "execution_count": 20,
   "id": "5834cb97",
   "metadata": {},
   "outputs": [],
   "source": [
    "train['Date of Received']=pd.to_datetime(train['Date Received']).dt.date"
   ]
  },
  {
   "cell_type": "code",
   "execution_count": 21,
   "id": "33f5eee3",
   "metadata": {},
   "outputs": [],
   "source": [
    "train.drop(['Incident Date','Date Received'],axis=1,inplace=True)"
   ]
  },
  {
   "cell_type": "code",
   "execution_count": 22,
   "id": "53d459b0",
   "metadata": {
    "scrolled": true
   },
   "outputs": [
    {
     "data": {
      "text/html": [
       "<div>\n",
       "<style scoped>\n",
       "    .dataframe tbody tr th:only-of-type {\n",
       "        vertical-align: middle;\n",
       "    }\n",
       "\n",
       "    .dataframe tbody tr th {\n",
       "        vertical-align: top;\n",
       "    }\n",
       "\n",
       "    .dataframe thead th {\n",
       "        text-align: right;\n",
       "    }\n",
       "</style>\n",
       "<table border=\"1\" class=\"dataframe\">\n",
       "  <thead>\n",
       "    <tr style=\"text-align: right;\">\n",
       "      <th></th>\n",
       "      <th>Claim Number</th>\n",
       "      <th>City Code</th>\n",
       "      <th>City</th>\n",
       "      <th>Enterprise Type</th>\n",
       "      <th>Claim Type</th>\n",
       "      <th>Claim Site</th>\n",
       "      <th>Product Insured</th>\n",
       "      <th>Claim Amount</th>\n",
       "      <th>Close Amount</th>\n",
       "      <th>Disposition</th>\n",
       "      <th>Date of incident</th>\n",
       "      <th>Date of Received</th>\n",
       "    </tr>\n",
       "  </thead>\n",
       "  <tbody>\n",
       "    <tr>\n",
       "      <th>0</th>\n",
       "      <td>000TQE7Z0O</td>\n",
       "      <td>KNU</td>\n",
       "      <td>Kanpur</td>\n",
       "      <td>Limited Liability Parterneship (LLP)</td>\n",
       "      <td>Property Loss</td>\n",
       "      <td>In Transit</td>\n",
       "      <td>Misc. Sensors</td>\n",
       "      <td>100.0</td>\n",
       "      <td>100.0</td>\n",
       "      <td>Approve in Full</td>\n",
       "      <td>2004-03-27</td>\n",
       "      <td>2004-04-23</td>\n",
       "    </tr>\n",
       "    <tr>\n",
       "      <th>1</th>\n",
       "      <td>000ZZJ33Q4</td>\n",
       "      <td>CCU</td>\n",
       "      <td>Kolkata</td>\n",
       "      <td>Private Ltd. MSME - Medium</td>\n",
       "      <td>Property Loss</td>\n",
       "      <td>In Transit</td>\n",
       "      <td>Inventory - Finished Goods</td>\n",
       "      <td>45.0</td>\n",
       "      <td>45.0</td>\n",
       "      <td>Approve in Full</td>\n",
       "      <td>2007-07-04</td>\n",
       "      <td>2007-04-30</td>\n",
       "    </tr>\n",
       "    <tr>\n",
       "      <th>2</th>\n",
       "      <td>0015BJJOZB</td>\n",
       "      <td>CJB</td>\n",
       "      <td>Coimbatore</td>\n",
       "      <td>Joint-Venture Company</td>\n",
       "      <td>Property Damage</td>\n",
       "      <td>In Transit</td>\n",
       "      <td>Misc. Engineering Tools</td>\n",
       "      <td>124.8</td>\n",
       "      <td>124.8</td>\n",
       "      <td>Approve in Full</td>\n",
       "      <td>2004-05-13</td>\n",
       "      <td>2005-03-18</td>\n",
       "    </tr>\n",
       "    <tr>\n",
       "      <th>3</th>\n",
       "      <td>002WLESYK3</td>\n",
       "      <td>DEL</td>\n",
       "      <td>Delhi</td>\n",
       "      <td>Foreign Subsidary</td>\n",
       "      <td>Property Damage</td>\n",
       "      <td>In Transit</td>\n",
       "      <td>Misc. Electronic Items</td>\n",
       "      <td>300.0</td>\n",
       "      <td>0.0</td>\n",
       "      <td>Deny</td>\n",
       "      <td>2007-08-28</td>\n",
       "      <td>2007-06-09</td>\n",
       "    </tr>\n",
       "    <tr>\n",
       "      <th>4</th>\n",
       "      <td>003BPVIC9T</td>\n",
       "      <td>DEL</td>\n",
       "      <td>Delhi</td>\n",
       "      <td>One Person Company</td>\n",
       "      <td>Property Loss</td>\n",
       "      <td>In Transit</td>\n",
       "      <td>Misc. Engineering Tools</td>\n",
       "      <td>150.0</td>\n",
       "      <td>150.0</td>\n",
       "      <td>Approve in Full</td>\n",
       "      <td>2004-04-01</td>\n",
       "      <td>2004-01-29</td>\n",
       "    </tr>\n",
       "  </tbody>\n",
       "</table>\n",
       "</div>"
      ],
      "text/plain": [
       "  Claim Number City Code        City                       Enterprise Type  \\\n",
       "0   000TQE7Z0O       KNU      Kanpur  Limited Liability Parterneship (LLP)   \n",
       "1   000ZZJ33Q4       CCU     Kolkata            Private Ltd. MSME - Medium   \n",
       "2   0015BJJOZB       CJB  Coimbatore                 Joint-Venture Company   \n",
       "3   002WLESYK3       DEL       Delhi                     Foreign Subsidary   \n",
       "4   003BPVIC9T       DEL       Delhi                    One Person Company   \n",
       "\n",
       "        Claim Type  Claim Site             Product Insured  Claim Amount  \\\n",
       "0    Property Loss  In Transit               Misc. Sensors         100.0   \n",
       "1    Property Loss  In Transit  Inventory - Finished Goods          45.0   \n",
       "2  Property Damage  In Transit     Misc. Engineering Tools         124.8   \n",
       "3  Property Damage  In Transit      Misc. Electronic Items         300.0   \n",
       "4    Property Loss  In Transit     Misc. Engineering Tools         150.0   \n",
       "\n",
       "   Close Amount      Disposition Date of incident Date of Received  \n",
       "0         100.0  Approve in Full       2004-03-27       2004-04-23  \n",
       "1          45.0  Approve in Full       2007-07-04       2007-04-30  \n",
       "2         124.8  Approve in Full       2004-05-13       2005-03-18  \n",
       "3           0.0             Deny       2007-08-28       2007-06-09  \n",
       "4         150.0  Approve in Full       2004-04-01       2004-01-29  "
      ]
     },
     "execution_count": 22,
     "metadata": {},
     "output_type": "execute_result"
    }
   ],
   "source": [
    "train.head()"
   ]
  },
  {
   "cell_type": "code",
   "execution_count": 23,
   "id": "48cdb720",
   "metadata": {},
   "outputs": [],
   "source": [
    "test['Date of incident']=pd.to_datetime(test['Incident Date']).dt.date"
   ]
  },
  {
   "cell_type": "code",
   "execution_count": 24,
   "id": "301383f6",
   "metadata": {},
   "outputs": [],
   "source": [
    "test['Date of Received']=pd.to_datetime(test['Date Received']).dt.date"
   ]
  },
  {
   "cell_type": "code",
   "execution_count": 25,
   "id": "a30222e4",
   "metadata": {},
   "outputs": [],
   "source": [
    "test.drop(['Incident Date','Date Received'],axis=1,inplace=True)"
   ]
  },
  {
   "cell_type": "code",
   "execution_count": 26,
   "id": "7f853fc8",
   "metadata": {},
   "outputs": [
    {
     "data": {
      "text/html": [
       "<div>\n",
       "<style scoped>\n",
       "    .dataframe tbody tr th:only-of-type {\n",
       "        vertical-align: middle;\n",
       "    }\n",
       "\n",
       "    .dataframe tbody tr th {\n",
       "        vertical-align: top;\n",
       "    }\n",
       "\n",
       "    .dataframe thead th {\n",
       "        text-align: right;\n",
       "    }\n",
       "</style>\n",
       "<table border=\"1\" class=\"dataframe\">\n",
       "  <thead>\n",
       "    <tr style=\"text-align: right;\">\n",
       "      <th></th>\n",
       "      <th>Claim Number</th>\n",
       "      <th>City Code</th>\n",
       "      <th>City</th>\n",
       "      <th>Enterprise Type</th>\n",
       "      <th>Claim Type</th>\n",
       "      <th>Claim Site</th>\n",
       "      <th>Product Insured</th>\n",
       "      <th>Date of incident</th>\n",
       "      <th>Date of Received</th>\n",
       "    </tr>\n",
       "  </thead>\n",
       "  <tbody>\n",
       "    <tr>\n",
       "      <th>1915</th>\n",
       "      <td>00LTK2A09U</td>\n",
       "      <td>KNU</td>\n",
       "      <td>Kanpur</td>\n",
       "      <td>Sole Proprietorship</td>\n",
       "      <td>Property Damage</td>\n",
       "      <td>Warehouse</td>\n",
       "      <td>Inventory - Raw Material</td>\n",
       "      <td>2003-01-28</td>\n",
       "      <td>2003-11-02</td>\n",
       "    </tr>\n",
       "    <tr>\n",
       "      <th>3176</th>\n",
       "      <td>00TNO7I9XD</td>\n",
       "      <td>KNU</td>\n",
       "      <td>Kanpur</td>\n",
       "      <td>Sole Proprietorship</td>\n",
       "      <td>Property Loss</td>\n",
       "      <td>In Transit</td>\n",
       "      <td>Inventory - Finished Goods</td>\n",
       "      <td>2005-06-16</td>\n",
       "      <td>2006-06-07</td>\n",
       "    </tr>\n",
       "    <tr>\n",
       "      <th>311</th>\n",
       "      <td>00YBMA2GVY</td>\n",
       "      <td>AMD</td>\n",
       "      <td>Ahmedabad</td>\n",
       "      <td>Public Limited Company</td>\n",
       "      <td>Property Loss</td>\n",
       "      <td>In Transit</td>\n",
       "      <td>Fixtures</td>\n",
       "      <td>2004-02-10</td>\n",
       "      <td>2004-12-28</td>\n",
       "    </tr>\n",
       "    <tr>\n",
       "      <th>525</th>\n",
       "      <td>01YMPCBPFM</td>\n",
       "      <td>PAT</td>\n",
       "      <td>Patna</td>\n",
       "      <td>Sole Proprietorship</td>\n",
       "      <td>Property Damage</td>\n",
       "      <td>Warehouse</td>\n",
       "      <td>Inventory - Finished Goods</td>\n",
       "      <td>2007-04-30</td>\n",
       "      <td>2007-05-16</td>\n",
       "    </tr>\n",
       "    <tr>\n",
       "      <th>92</th>\n",
       "      <td>02CF66I634</td>\n",
       "      <td>HYD</td>\n",
       "      <td>Hyderabad</td>\n",
       "      <td>Sole Proprietorship</td>\n",
       "      <td>Property Damage</td>\n",
       "      <td>In Transit</td>\n",
       "      <td>Inventory - Raw Material</td>\n",
       "      <td>2005-04-24</td>\n",
       "      <td>2005-04-29</td>\n",
       "    </tr>\n",
       "  </tbody>\n",
       "</table>\n",
       "</div>"
      ],
      "text/plain": [
       "     Claim Number City Code       City         Enterprise Type  \\\n",
       "1915   00LTK2A09U       KNU     Kanpur     Sole Proprietorship   \n",
       "3176   00TNO7I9XD       KNU     Kanpur     Sole Proprietorship   \n",
       "311    00YBMA2GVY       AMD  Ahmedabad  Public Limited Company   \n",
       "525    01YMPCBPFM       PAT      Patna     Sole Proprietorship   \n",
       "92     02CF66I634       HYD  Hyderabad     Sole Proprietorship   \n",
       "\n",
       "           Claim Type  Claim Site             Product Insured  \\\n",
       "1915  Property Damage   Warehouse    Inventory - Raw Material   \n",
       "3176    Property Loss  In Transit  Inventory - Finished Goods   \n",
       "311     Property Loss  In Transit                    Fixtures   \n",
       "525   Property Damage   Warehouse  Inventory - Finished Goods   \n",
       "92    Property Damage  In Transit    Inventory - Raw Material   \n",
       "\n",
       "     Date of incident Date of Received  \n",
       "1915       2003-01-28       2003-11-02  \n",
       "3176       2005-06-16       2006-06-07  \n",
       "311        2004-02-10       2004-12-28  \n",
       "525        2007-04-30       2007-05-16  \n",
       "92         2005-04-24       2005-04-29  "
      ]
     },
     "execution_count": 26,
     "metadata": {},
     "output_type": "execute_result"
    }
   ],
   "source": [
    "test.head()"
   ]
  },
  {
   "cell_type": "code",
   "execution_count": 27,
   "id": "351518bf",
   "metadata": {},
   "outputs": [
    {
     "data": {
      "text/plain": [
       "(34110, 12)"
      ]
     },
     "execution_count": 27,
     "metadata": {},
     "output_type": "execute_result"
    }
   ],
   "source": [
    "train.shape"
   ]
  },
  {
   "cell_type": "code",
   "execution_count": 28,
   "id": "62e14eda",
   "metadata": {},
   "outputs": [
    {
     "data": {
      "text/plain": [
       "(3791, 9)"
      ]
     },
     "execution_count": 28,
     "metadata": {},
     "output_type": "execute_result"
    }
   ],
   "source": [
    "test.shape"
   ]
  },
  {
   "cell_type": "markdown",
   "id": "49bf4252",
   "metadata": {},
   "source": [
    "# finding number of days between incident and receive"
   ]
  },
  {
   "cell_type": "code",
   "execution_count": 29,
   "id": "15897a26",
   "metadata": {},
   "outputs": [],
   "source": [
    "no_of_days=[]\n",
    "import datetime\n",
    "for i in range(len(train)):\n",
    "    incident=train['Date of incident'][i]\n",
    "    received=train['Date of Received'][i]\n",
    "    inc = datetime.datetime.strptime(str(incident), \"%Y-%m-%d\").date()\n",
    "    rec = datetime.datetime.strptime(str(received), \"%Y-%m-%d\").date()\n",
    "    no_of_days.append((abs(rec - inc).days))\n"
   ]
  },
  {
   "cell_type": "code",
   "execution_count": 30,
   "id": "421b1dcd",
   "metadata": {},
   "outputs": [],
   "source": [
    "no_of_days=pd.DataFrame(no_of_days)"
   ]
  },
  {
   "cell_type": "code",
   "execution_count": 31,
   "id": "3b4c3f19",
   "metadata": {},
   "outputs": [
    {
     "data": {
      "text/html": [
       "<div>\n",
       "<style scoped>\n",
       "    .dataframe tbody tr th:only-of-type {\n",
       "        vertical-align: middle;\n",
       "    }\n",
       "\n",
       "    .dataframe tbody tr th {\n",
       "        vertical-align: top;\n",
       "    }\n",
       "\n",
       "    .dataframe thead th {\n",
       "        text-align: right;\n",
       "    }\n",
       "</style>\n",
       "<table border=\"1\" class=\"dataframe\">\n",
       "  <thead>\n",
       "    <tr style=\"text-align: right;\">\n",
       "      <th></th>\n",
       "      <th>0</th>\n",
       "    </tr>\n",
       "  </thead>\n",
       "  <tbody>\n",
       "    <tr>\n",
       "      <th>0</th>\n",
       "      <td>27</td>\n",
       "    </tr>\n",
       "    <tr>\n",
       "      <th>1</th>\n",
       "      <td>65</td>\n",
       "    </tr>\n",
       "    <tr>\n",
       "      <th>2</th>\n",
       "      <td>309</td>\n",
       "    </tr>\n",
       "    <tr>\n",
       "      <th>3</th>\n",
       "      <td>80</td>\n",
       "    </tr>\n",
       "    <tr>\n",
       "      <th>4</th>\n",
       "      <td>63</td>\n",
       "    </tr>\n",
       "  </tbody>\n",
       "</table>\n",
       "</div>"
      ],
      "text/plain": [
       "     0\n",
       "0   27\n",
       "1   65\n",
       "2  309\n",
       "3   80\n",
       "4   63"
      ]
     },
     "execution_count": 31,
     "metadata": {},
     "output_type": "execute_result"
    }
   ],
   "source": [
    "no_of_days.head()"
   ]
  },
  {
   "cell_type": "code",
   "execution_count": 32,
   "id": "02f83ed0",
   "metadata": {},
   "outputs": [],
   "source": [
    "train=pd.concat([train,no_of_days],axis=1)"
   ]
  },
  {
   "cell_type": "code",
   "execution_count": 33,
   "id": "4ffd6a07",
   "metadata": {
    "scrolled": true
   },
   "outputs": [
    {
     "data": {
      "text/html": [
       "<div>\n",
       "<style scoped>\n",
       "    .dataframe tbody tr th:only-of-type {\n",
       "        vertical-align: middle;\n",
       "    }\n",
       "\n",
       "    .dataframe tbody tr th {\n",
       "        vertical-align: top;\n",
       "    }\n",
       "\n",
       "    .dataframe thead th {\n",
       "        text-align: right;\n",
       "    }\n",
       "</style>\n",
       "<table border=\"1\" class=\"dataframe\">\n",
       "  <thead>\n",
       "    <tr style=\"text-align: right;\">\n",
       "      <th></th>\n",
       "      <th>Claim Number</th>\n",
       "      <th>City Code</th>\n",
       "      <th>City</th>\n",
       "      <th>Enterprise Type</th>\n",
       "      <th>Claim Type</th>\n",
       "      <th>Claim Site</th>\n",
       "      <th>Product Insured</th>\n",
       "      <th>Claim Amount</th>\n",
       "      <th>Close Amount</th>\n",
       "      <th>Disposition</th>\n",
       "      <th>Date of incident</th>\n",
       "      <th>Date of Received</th>\n",
       "      <th>0</th>\n",
       "    </tr>\n",
       "  </thead>\n",
       "  <tbody>\n",
       "    <tr>\n",
       "      <th>0</th>\n",
       "      <td>000TQE7Z0O</td>\n",
       "      <td>KNU</td>\n",
       "      <td>Kanpur</td>\n",
       "      <td>Limited Liability Parterneship (LLP)</td>\n",
       "      <td>Property Loss</td>\n",
       "      <td>In Transit</td>\n",
       "      <td>Misc. Sensors</td>\n",
       "      <td>100.0</td>\n",
       "      <td>100.0</td>\n",
       "      <td>Approve in Full</td>\n",
       "      <td>2004-03-27</td>\n",
       "      <td>2004-04-23</td>\n",
       "      <td>27</td>\n",
       "    </tr>\n",
       "    <tr>\n",
       "      <th>1</th>\n",
       "      <td>000ZZJ33Q4</td>\n",
       "      <td>CCU</td>\n",
       "      <td>Kolkata</td>\n",
       "      <td>Private Ltd. MSME - Medium</td>\n",
       "      <td>Property Loss</td>\n",
       "      <td>In Transit</td>\n",
       "      <td>Inventory - Finished Goods</td>\n",
       "      <td>45.0</td>\n",
       "      <td>45.0</td>\n",
       "      <td>Approve in Full</td>\n",
       "      <td>2007-07-04</td>\n",
       "      <td>2007-04-30</td>\n",
       "      <td>65</td>\n",
       "    </tr>\n",
       "    <tr>\n",
       "      <th>2</th>\n",
       "      <td>0015BJJOZB</td>\n",
       "      <td>CJB</td>\n",
       "      <td>Coimbatore</td>\n",
       "      <td>Joint-Venture Company</td>\n",
       "      <td>Property Damage</td>\n",
       "      <td>In Transit</td>\n",
       "      <td>Misc. Engineering Tools</td>\n",
       "      <td>124.8</td>\n",
       "      <td>124.8</td>\n",
       "      <td>Approve in Full</td>\n",
       "      <td>2004-05-13</td>\n",
       "      <td>2005-03-18</td>\n",
       "      <td>309</td>\n",
       "    </tr>\n",
       "    <tr>\n",
       "      <th>3</th>\n",
       "      <td>002WLESYK3</td>\n",
       "      <td>DEL</td>\n",
       "      <td>Delhi</td>\n",
       "      <td>Foreign Subsidary</td>\n",
       "      <td>Property Damage</td>\n",
       "      <td>In Transit</td>\n",
       "      <td>Misc. Electronic Items</td>\n",
       "      <td>300.0</td>\n",
       "      <td>0.0</td>\n",
       "      <td>Deny</td>\n",
       "      <td>2007-08-28</td>\n",
       "      <td>2007-06-09</td>\n",
       "      <td>80</td>\n",
       "    </tr>\n",
       "    <tr>\n",
       "      <th>4</th>\n",
       "      <td>003BPVIC9T</td>\n",
       "      <td>DEL</td>\n",
       "      <td>Delhi</td>\n",
       "      <td>One Person Company</td>\n",
       "      <td>Property Loss</td>\n",
       "      <td>In Transit</td>\n",
       "      <td>Misc. Engineering Tools</td>\n",
       "      <td>150.0</td>\n",
       "      <td>150.0</td>\n",
       "      <td>Approve in Full</td>\n",
       "      <td>2004-04-01</td>\n",
       "      <td>2004-01-29</td>\n",
       "      <td>63</td>\n",
       "    </tr>\n",
       "  </tbody>\n",
       "</table>\n",
       "</div>"
      ],
      "text/plain": [
       "  Claim Number City Code        City                       Enterprise Type  \\\n",
       "0   000TQE7Z0O       KNU      Kanpur  Limited Liability Parterneship (LLP)   \n",
       "1   000ZZJ33Q4       CCU     Kolkata            Private Ltd. MSME - Medium   \n",
       "2   0015BJJOZB       CJB  Coimbatore                 Joint-Venture Company   \n",
       "3   002WLESYK3       DEL       Delhi                     Foreign Subsidary   \n",
       "4   003BPVIC9T       DEL       Delhi                    One Person Company   \n",
       "\n",
       "        Claim Type  Claim Site             Product Insured  Claim Amount  \\\n",
       "0    Property Loss  In Transit               Misc. Sensors         100.0   \n",
       "1    Property Loss  In Transit  Inventory - Finished Goods          45.0   \n",
       "2  Property Damage  In Transit     Misc. Engineering Tools         124.8   \n",
       "3  Property Damage  In Transit      Misc. Electronic Items         300.0   \n",
       "4    Property Loss  In Transit     Misc. Engineering Tools         150.0   \n",
       "\n",
       "   Close Amount      Disposition Date of incident Date of Received    0  \n",
       "0         100.0  Approve in Full       2004-03-27       2004-04-23   27  \n",
       "1          45.0  Approve in Full       2007-07-04       2007-04-30   65  \n",
       "2         124.8  Approve in Full       2004-05-13       2005-03-18  309  \n",
       "3           0.0             Deny       2007-08-28       2007-06-09   80  \n",
       "4         150.0  Approve in Full       2004-04-01       2004-01-29   63  "
      ]
     },
     "execution_count": 33,
     "metadata": {},
     "output_type": "execute_result"
    }
   ],
   "source": [
    "train.head()"
   ]
  },
  {
   "cell_type": "code",
   "execution_count": 34,
   "id": "2e97783c",
   "metadata": {},
   "outputs": [],
   "source": [
    "for i in train[0]:\n",
    "    if i<0:\n",
    "        print(i)"
   ]
  },
  {
   "cell_type": "code",
   "execution_count": 35,
   "id": "1bd0bac2",
   "metadata": {},
   "outputs": [],
   "source": [
    "no_of_days=[]\n",
    "import datetime\n",
    "for i in range(len(test)):\n",
    "    incident=test['Date of incident'][i]\n",
    "    received=test['Date of Received'][i]\n",
    "    inc = datetime.datetime.strptime(str(incident), \"%Y-%m-%d\").date()\n",
    "    rec = datetime.datetime.strptime(str(received), \"%Y-%m-%d\").date()\n",
    "    no_of_days.append((abs(rec - inc).days))\n"
   ]
  },
  {
   "cell_type": "code",
   "execution_count": 36,
   "id": "53909e86",
   "metadata": {},
   "outputs": [],
   "source": [
    "no_of_days=pd.DataFrame(no_of_days)"
   ]
  },
  {
   "cell_type": "code",
   "execution_count": 37,
   "id": "eff9d577",
   "metadata": {},
   "outputs": [
    {
     "data": {
      "text/html": [
       "<div>\n",
       "<style scoped>\n",
       "    .dataframe tbody tr th:only-of-type {\n",
       "        vertical-align: middle;\n",
       "    }\n",
       "\n",
       "    .dataframe tbody tr th {\n",
       "        vertical-align: top;\n",
       "    }\n",
       "\n",
       "    .dataframe thead th {\n",
       "        text-align: right;\n",
       "    }\n",
       "</style>\n",
       "<table border=\"1\" class=\"dataframe\">\n",
       "  <thead>\n",
       "    <tr style=\"text-align: right;\">\n",
       "      <th></th>\n",
       "      <th>0</th>\n",
       "    </tr>\n",
       "  </thead>\n",
       "  <tbody>\n",
       "    <tr>\n",
       "      <th>0</th>\n",
       "      <td>96</td>\n",
       "    </tr>\n",
       "    <tr>\n",
       "      <th>1</th>\n",
       "      <td>291</td>\n",
       "    </tr>\n",
       "    <tr>\n",
       "      <th>2</th>\n",
       "      <td>220</td>\n",
       "    </tr>\n",
       "    <tr>\n",
       "      <th>3</th>\n",
       "      <td>40</td>\n",
       "    </tr>\n",
       "    <tr>\n",
       "      <th>4</th>\n",
       "      <td>72</td>\n",
       "    </tr>\n",
       "  </tbody>\n",
       "</table>\n",
       "</div>"
      ],
      "text/plain": [
       "     0\n",
       "0   96\n",
       "1  291\n",
       "2  220\n",
       "3   40\n",
       "4   72"
      ]
     },
     "execution_count": 37,
     "metadata": {},
     "output_type": "execute_result"
    }
   ],
   "source": [
    "no_of_days.head()"
   ]
  },
  {
   "cell_type": "code",
   "execution_count": 38,
   "id": "71cade94",
   "metadata": {},
   "outputs": [],
   "source": [
    "test=pd.concat([test,no_of_days],axis=1)"
   ]
  },
  {
   "cell_type": "code",
   "execution_count": 39,
   "id": "cc0bcd21",
   "metadata": {},
   "outputs": [
    {
     "data": {
      "text/html": [
       "<div>\n",
       "<style scoped>\n",
       "    .dataframe tbody tr th:only-of-type {\n",
       "        vertical-align: middle;\n",
       "    }\n",
       "\n",
       "    .dataframe tbody tr th {\n",
       "        vertical-align: top;\n",
       "    }\n",
       "\n",
       "    .dataframe thead th {\n",
       "        text-align: right;\n",
       "    }\n",
       "</style>\n",
       "<table border=\"1\" class=\"dataframe\">\n",
       "  <thead>\n",
       "    <tr style=\"text-align: right;\">\n",
       "      <th></th>\n",
       "      <th>Claim Number</th>\n",
       "      <th>City Code</th>\n",
       "      <th>City</th>\n",
       "      <th>Enterprise Type</th>\n",
       "      <th>Claim Type</th>\n",
       "      <th>Claim Site</th>\n",
       "      <th>Product Insured</th>\n",
       "      <th>Date of incident</th>\n",
       "      <th>Date of Received</th>\n",
       "      <th>0</th>\n",
       "    </tr>\n",
       "  </thead>\n",
       "  <tbody>\n",
       "    <tr>\n",
       "      <th>1915</th>\n",
       "      <td>00LTK2A09U</td>\n",
       "      <td>KNU</td>\n",
       "      <td>Kanpur</td>\n",
       "      <td>Sole Proprietorship</td>\n",
       "      <td>Property Damage</td>\n",
       "      <td>Warehouse</td>\n",
       "      <td>Inventory - Raw Material</td>\n",
       "      <td>2003-01-28</td>\n",
       "      <td>2003-11-02</td>\n",
       "      <td>278</td>\n",
       "    </tr>\n",
       "    <tr>\n",
       "      <th>3176</th>\n",
       "      <td>00TNO7I9XD</td>\n",
       "      <td>KNU</td>\n",
       "      <td>Kanpur</td>\n",
       "      <td>Sole Proprietorship</td>\n",
       "      <td>Property Loss</td>\n",
       "      <td>In Transit</td>\n",
       "      <td>Inventory - Finished Goods</td>\n",
       "      <td>2005-06-16</td>\n",
       "      <td>2006-06-07</td>\n",
       "      <td>356</td>\n",
       "    </tr>\n",
       "    <tr>\n",
       "      <th>311</th>\n",
       "      <td>00YBMA2GVY</td>\n",
       "      <td>AMD</td>\n",
       "      <td>Ahmedabad</td>\n",
       "      <td>Public Limited Company</td>\n",
       "      <td>Property Loss</td>\n",
       "      <td>In Transit</td>\n",
       "      <td>Fixtures</td>\n",
       "      <td>2004-02-10</td>\n",
       "      <td>2004-12-28</td>\n",
       "      <td>322</td>\n",
       "    </tr>\n",
       "    <tr>\n",
       "      <th>525</th>\n",
       "      <td>01YMPCBPFM</td>\n",
       "      <td>PAT</td>\n",
       "      <td>Patna</td>\n",
       "      <td>Sole Proprietorship</td>\n",
       "      <td>Property Damage</td>\n",
       "      <td>Warehouse</td>\n",
       "      <td>Inventory - Finished Goods</td>\n",
       "      <td>2007-04-30</td>\n",
       "      <td>2007-05-16</td>\n",
       "      <td>16</td>\n",
       "    </tr>\n",
       "    <tr>\n",
       "      <th>92</th>\n",
       "      <td>02CF66I634</td>\n",
       "      <td>HYD</td>\n",
       "      <td>Hyderabad</td>\n",
       "      <td>Sole Proprietorship</td>\n",
       "      <td>Property Damage</td>\n",
       "      <td>In Transit</td>\n",
       "      <td>Inventory - Raw Material</td>\n",
       "      <td>2005-04-24</td>\n",
       "      <td>2005-04-29</td>\n",
       "      <td>5</td>\n",
       "    </tr>\n",
       "  </tbody>\n",
       "</table>\n",
       "</div>"
      ],
      "text/plain": [
       "     Claim Number City Code       City         Enterprise Type  \\\n",
       "1915   00LTK2A09U       KNU     Kanpur     Sole Proprietorship   \n",
       "3176   00TNO7I9XD       KNU     Kanpur     Sole Proprietorship   \n",
       "311    00YBMA2GVY       AMD  Ahmedabad  Public Limited Company   \n",
       "525    01YMPCBPFM       PAT      Patna     Sole Proprietorship   \n",
       "92     02CF66I634       HYD  Hyderabad     Sole Proprietorship   \n",
       "\n",
       "           Claim Type  Claim Site             Product Insured  \\\n",
       "1915  Property Damage   Warehouse    Inventory - Raw Material   \n",
       "3176    Property Loss  In Transit  Inventory - Finished Goods   \n",
       "311     Property Loss  In Transit                    Fixtures   \n",
       "525   Property Damage   Warehouse  Inventory - Finished Goods   \n",
       "92    Property Damage  In Transit    Inventory - Raw Material   \n",
       "\n",
       "     Date of incident Date of Received    0  \n",
       "1915       2003-01-28       2003-11-02  278  \n",
       "3176       2005-06-16       2006-06-07  356  \n",
       "311        2004-02-10       2004-12-28  322  \n",
       "525        2007-04-30       2007-05-16   16  \n",
       "92         2005-04-24       2005-04-29    5  "
      ]
     },
     "execution_count": 39,
     "metadata": {},
     "output_type": "execute_result"
    }
   ],
   "source": [
    "test.head()"
   ]
  },
  {
   "cell_type": "markdown",
   "id": "358e1b0b",
   "metadata": {},
   "source": [
    "# Importing SeaBorn and Matplotlib"
   ]
  },
  {
   "cell_type": "code",
   "execution_count": 42,
   "id": "029129cb",
   "metadata": {},
   "outputs": [
    {
     "data": {
      "text/plain": [
       "<AxesSubplot:xlabel='City', ylabel='count'>"
      ]
     },
     "execution_count": 42,
     "metadata": {},
     "output_type": "execute_result"
    },
    {
     "data": {
      "image/png": "[encoded data removed]",
      "text/plain": [
       "<Figure size 432x288 with 1 Axes>"
      ]
     },
     "metadata": {
      "needs_background": "light"
     },
     "output_type": "display_data"
    }
   ],
   "source": [
    "\n",
    "sns.countplot(hue=\"Disposition\",x=\"City\",data=train)"
   ]
  },
  {
   "cell_type": "code",
   "execution_count": 41,
   "id": "5260bacf",
   "metadata": {},
   "outputs": [],
   "source": [
    "import matplotlib.pyplot as plt\n",
    "import seaborn as sns"
   ]
  },
  {
   "cell_type": "markdown",
   "id": "1680bf78",
   "metadata": {},
   "source": [
    "# barplot for delay in days and product insured"
   ]
  },
  {
   "cell_type": "code",
   "execution_count": 43,
   "id": "a57762e7",
   "metadata": {},
   "outputs": [
    {
     "data": {
      "text/plain": [
       "<AxesSubplot:xlabel='Product Insured', ylabel='0'>"
      ]
     },
     "execution_count": 43,
     "metadata": {},
     "output_type": "execute_result"
    },
    {
     "data": {
      "image/png": "[encoded data removed]",
      "text/plain": [
       "<Figure size 2160x720 with 1 Axes>"
      ]
     },
     "metadata": {
      "needs_background": "light"
     },
     "output_type": "display_data"
    }
   ],
   "source": [
    "plt.figure(figsize=(30,10))\n",
    "sns.barplot(data=train,x='Product Insured',y=0)"
   ]
  },
  {
   "cell_type": "code",
   "execution_count": 44,
   "id": "484b0d7c",
   "metadata": {
    "scrolled": true
   },
   "outputs": [
    {
     "name": "stdout",
     "output_type": "stream",
     "text": [
      "3825016.8000000506\n",
      "19305424.460000027\n",
      "1355223.6399999831\n"
     ]
    }
   ],
   "source": [
    "d=0\n",
    "e=0\n",
    "f=0\n",
    "for i in range(len(train)):\n",
    "    if train['Disposition'][i]=='Settle':\n",
    "        d=d+train['Claim Amount'][i]\n",
    "    elif train['Disposition'][i]=='Deny':\n",
    "        e=e+train['Claim Amount'][i]\n",
    "    else:\n",
    "        f=f+train['Claim Amount'][i]\n",
    "print(d)\n",
    "print(e)\n",
    "print(f)"
   ]
  },
  {
   "cell_type": "code",
   "execution_count": 45,
   "id": "3cac6af4",
   "metadata": {},
   "outputs": [
    {
     "name": "stdout",
     "output_type": "stream",
     "text": [
      "7210\n",
      "17848\n",
      "9052\n"
     ]
    }
   ],
   "source": [
    "x=0\n",
    "y=0\n",
    "z=0\n",
    "for i in range(len(train)):\n",
    "    if train['Disposition'][i]=='Settle':\n",
    "        x=x+1\n",
    "    elif train['Disposition'][i]=='Deny':\n",
    "        y=y+1\n",
    "    else:\n",
    "        z=z+1\n",
    "print(x)\n",
    "print(y)\n",
    "print(z)\n"
   ]
  },
  {
   "cell_type": "code",
   "execution_count": 46,
   "id": "97e41ff3",
   "metadata": {},
   "outputs": [],
   "source": [
    "d=(d/x)\n",
    "e=(e/y)\n",
    "f=(f/z)"
   ]
  },
  {
   "cell_type": "code",
   "execution_count": 47,
   "id": "34918f35",
   "metadata": {},
   "outputs": [],
   "source": [
    "percent=[]\n",
    "import datetime\n",
    "for i in range(len(train)):\n",
    "    if train['Disposition'][i]=='Settle':\n",
    "        percent.append(d/100)\n",
    "    elif train['Disposition'][i]=='Deny':\n",
    "        percent.append(e/100)\n",
    "    else:\n",
    "        percent.append(f/100)\n",
    "    "
   ]
  },
  {
   "cell_type": "code",
   "execution_count": 48,
   "id": "f933af5b",
   "metadata": {},
   "outputs": [],
   "source": [
    "percent=pd.DataFrame(percent)"
   ]
  },
  {
   "cell_type": "code",
   "execution_count": 49,
   "id": "6b202ee8",
   "metadata": {},
   "outputs": [
    {
     "data": {
      "text/html": [
       "<div>\n",
       "<style scoped>\n",
       "    .dataframe tbody tr th:only-of-type {\n",
       "        vertical-align: middle;\n",
       "    }\n",
       "\n",
       "    .dataframe tbody tr th {\n",
       "        vertical-align: top;\n",
       "    }\n",
       "\n",
       "    .dataframe thead th {\n",
       "        text-align: right;\n",
       "    }\n",
       "</style>\n",
       "<table border=\"1\" class=\"dataframe\">\n",
       "  <thead>\n",
       "    <tr style=\"text-align: right;\">\n",
       "      <th></th>\n",
       "      <th>0</th>\n",
       "    </tr>\n",
       "  </thead>\n",
       "  <tbody>\n",
       "    <tr>\n",
       "      <th>0</th>\n",
       "      <td>1.497154</td>\n",
       "    </tr>\n",
       "    <tr>\n",
       "      <th>1</th>\n",
       "      <td>1.497154</td>\n",
       "    </tr>\n",
       "    <tr>\n",
       "      <th>2</th>\n",
       "      <td>1.497154</td>\n",
       "    </tr>\n",
       "    <tr>\n",
       "      <th>3</th>\n",
       "      <td>10.816576</td>\n",
       "    </tr>\n",
       "    <tr>\n",
       "      <th>4</th>\n",
       "      <td>1.497154</td>\n",
       "    </tr>\n",
       "  </tbody>\n",
       "</table>\n",
       "</div>"
      ],
      "text/plain": [
       "           0\n",
       "0   1.497154\n",
       "1   1.497154\n",
       "2   1.497154\n",
       "3  10.816576\n",
       "4   1.497154"
      ]
     },
     "execution_count": 49,
     "metadata": {},
     "output_type": "execute_result"
    }
   ],
   "source": [
    "percent.head()"
   ]
  },
  {
   "cell_type": "code",
   "execution_count": null,
   "id": "802cdcd6",
   "metadata": {},
   "outputs": [],
   "source": []
  },
  {
   "cell_type": "code",
   "execution_count": null,
   "id": "1416d4e3",
   "metadata": {},
   "outputs": [],
   "source": []
  },
  {
   "cell_type": "markdown",
   "id": "b8ed841c",
   "metadata": {},
   "source": [
    "# countplot for Target"
   ]
  },
  {
   "cell_type": "code",
   "execution_count": 50,
   "id": "78e8a364",
   "metadata": {},
   "outputs": [],
   "source": [
    "yaxis=train['Disposition'].value_counts()"
   ]
  },
  {
   "cell_type": "code",
   "execution_count": 51,
   "id": "706bea0f",
   "metadata": {
    "scrolled": true
   },
   "outputs": [
    {
     "data": {
      "text/plain": [
       "<AxesSubplot:xlabel='Disposition', ylabel='count'>"
      ]
     },
     "execution_count": 51,
     "metadata": {},
     "output_type": "execute_result"
    },
    {
     "data": {
      "image/png": "[encoded data removed]",
      "text/plain": [
       "<Figure size 576x360 with 1 Axes>"
      ]
     },
     "metadata": {
      "needs_background": "light"
     },
     "output_type": "display_data"
    }
   ],
   "source": [
    "plt.figure(figsize=(8,5))\n",
    "sns.countplot(train['Disposition'])"
   ]
  },
  {
   "cell_type": "markdown",
   "id": "b960173a",
   "metadata": {},
   "source": [
    "# Countplot for Claim Type"
   ]
  },
  {
   "cell_type": "code",
   "execution_count": 52,
   "id": "350b0162",
   "metadata": {
    "scrolled": true
   },
   "outputs": [
    {
     "data": {
      "text/plain": [
       "<AxesSubplot:xlabel='Claim Type', ylabel='count'>"
      ]
     },
     "execution_count": 52,
     "metadata": {},
     "output_type": "execute_result"
    },
    {
     "data": {
      "image/png": "[encoded data removed]",
      "text/plain": [
       "<Figure size 576x360 with 1 Axes>"
      ]
     },
     "metadata": {
      "needs_background": "light"
     },
     "output_type": "display_data"
    }
   ],
   "source": [
    "plt.figure(figsize=(8,5))\n",
    "sns.countplot(train['Claim Type'])"
   ]
  },
  {
   "cell_type": "markdown",
   "id": "306173e2",
   "metadata": {},
   "source": [
    "# Countplot for city\n"
   ]
  },
  {
   "cell_type": "code",
   "execution_count": 53,
   "id": "25780753",
   "metadata": {},
   "outputs": [
    {
     "data": {
      "text/plain": [
       "<AxesSubplot:xlabel='City', ylabel='count'>"
      ]
     },
     "execution_count": 53,
     "metadata": {},
     "output_type": "execute_result"
    },
    {
     "data": {
      "image/png": "[encoded data removed]",
      "text/plain": [
       "<Figure size 2160x720 with 1 Axes>"
      ]
     },
     "metadata": {
      "needs_background": "light"
     },
     "output_type": "display_data"
    }
   ],
   "source": [
    "plt.figure(figsize=(30,10))\n",
    "sns.countplot(train['City'])"
   ]
  },
  {
   "cell_type": "markdown",
   "id": "286c89e7",
   "metadata": {},
   "source": [
    "# boxplot for Numaric features"
   ]
  },
  {
   "cell_type": "code",
   "execution_count": 54,
   "id": "b87264d0",
   "metadata": {},
   "outputs": [
    {
     "data": {
      "text/plain": [
       "Claim Amount     AxesSubplot(0.44569,0.749828;0.133621x0.130172)\n",
       "Close Amount    AxesSubplot(0.285345,0.749828;0.133621x0.130172)\n",
       "dtype: object"
      ]
     },
     "execution_count": 54,
     "metadata": {},
     "output_type": "execute_result"
    },
    {
     "data": {
      "image/png": "[encoded data removed]",
      "text/plain": [
       "<Figure size 1080x1080 with 25 Axes>"
      ]
     },
     "metadata": {
      "needs_background": "light"
     },
     "output_type": "display_data"
    }
   ],
   "source": [
    "train.plot(kind='box',subplots=True,sharex=False,sharey=False,layout=(5,5),figsize=(15,15))"
   ]
  },
  {
   "cell_type": "code",
   "execution_count": 55,
   "id": "58a1b6a3",
   "metadata": {},
   "outputs": [
    {
     "data": {
      "text/plain": [
       "Claim Number         object\n",
       "City Code            object\n",
       "City                 object\n",
       "Enterprise Type      object\n",
       "Claim Type           object\n",
       "Claim Site           object\n",
       "Product Insured      object\n",
       "Claim Amount        float64\n",
       "Close Amount        float64\n",
       "Disposition          object\n",
       "Date of incident     object\n",
       "Date of Received     object\n",
       "0                     int64\n",
       "dtype: object"
      ]
     },
     "execution_count": 55,
     "metadata": {},
     "output_type": "execute_result"
    }
   ],
   "source": [
    "train.dtypes"
   ]
  },
  {
   "cell_type": "code",
   "execution_count": 56,
   "id": "964acd9b",
   "metadata": {},
   "outputs": [
    {
     "data": {
      "text/html": [
       "<div>\n",
       "<style scoped>\n",
       "    .dataframe tbody tr th:only-of-type {\n",
       "        vertical-align: middle;\n",
       "    }\n",
       "\n",
       "    .dataframe tbody tr th {\n",
       "        vertical-align: top;\n",
       "    }\n",
       "\n",
       "    .dataframe thead th {\n",
       "        text-align: right;\n",
       "    }\n",
       "</style>\n",
       "<table border=\"1\" class=\"dataframe\">\n",
       "  <thead>\n",
       "    <tr style=\"text-align: right;\">\n",
       "      <th></th>\n",
       "      <th>Claim Amount</th>\n",
       "      <th>Close Amount</th>\n",
       "      <th>0</th>\n",
       "    </tr>\n",
       "  </thead>\n",
       "  <tbody>\n",
       "    <tr>\n",
       "      <th>count</th>\n",
       "      <td>34110.000000</td>\n",
       "      <td>34110.000000</td>\n",
       "      <td>34110.000000</td>\n",
       "    </tr>\n",
       "    <tr>\n",
       "      <th>mean</th>\n",
       "      <td>717.844178</td>\n",
       "      <td>104.883016</td>\n",
       "      <td>102.560774</td>\n",
       "    </tr>\n",
       "    <tr>\n",
       "      <th>std</th>\n",
       "      <td>8290.881802</td>\n",
       "      <td>1393.564677</td>\n",
       "      <td>145.418042</td>\n",
       "    </tr>\n",
       "    <tr>\n",
       "      <th>min</th>\n",
       "      <td>0.000000</td>\n",
       "      <td>0.000000</td>\n",
       "      <td>0.000000</td>\n",
       "    </tr>\n",
       "    <tr>\n",
       "      <th>25%</th>\n",
       "      <td>60.000000</td>\n",
       "      <td>0.000000</td>\n",
       "      <td>26.000000</td>\n",
       "    </tr>\n",
       "    <tr>\n",
       "      <th>50%</th>\n",
       "      <td>175.000000</td>\n",
       "      <td>0.000000</td>\n",
       "      <td>68.000000</td>\n",
       "    </tr>\n",
       "    <tr>\n",
       "      <th>75%</th>\n",
       "      <td>460.000000</td>\n",
       "      <td>75.000000</td>\n",
       "      <td>153.000000</td>\n",
       "    </tr>\n",
       "    <tr>\n",
       "      <th>max</th>\n",
       "      <td>900000.000000</td>\n",
       "      <td>250000.000000</td>\n",
       "      <td>18279.000000</td>\n",
       "    </tr>\n",
       "  </tbody>\n",
       "</table>\n",
       "</div>"
      ],
      "text/plain": [
       "        Claim Amount   Close Amount             0\n",
       "count   34110.000000   34110.000000  34110.000000\n",
       "mean      717.844178     104.883016    102.560774\n",
       "std      8290.881802    1393.564677    145.418042\n",
       "min         0.000000       0.000000      0.000000\n",
       "25%        60.000000       0.000000     26.000000\n",
       "50%       175.000000       0.000000     68.000000\n",
       "75%       460.000000      75.000000    153.000000\n",
       "max    900000.000000  250000.000000  18279.000000"
      ]
     },
     "execution_count": 56,
     "metadata": {},
     "output_type": "execute_result"
    }
   ],
   "source": [
    "train.describe()"
   ]
  },
  {
   "cell_type": "code",
   "execution_count": 57,
   "id": "780b61f3",
   "metadata": {},
   "outputs": [],
   "source": [
    "Q1 = train.quantile(0.25)\n",
    "Q3 = train.quantile(0.75)\n",
    "IQR = Q3 - Q1"
   ]
  },
  {
   "cell_type": "code",
   "execution_count": 58,
   "id": "2a1c7612",
   "metadata": {},
   "outputs": [
    {
     "name": "stdout",
     "output_type": "stream",
     "text": [
      "Claim Amount    1060.0\n",
      "Close Amount     187.5\n",
      "0                343.5\n",
      "dtype: float64\n",
      "Claim Amount   -540.0\n",
      "Close Amount   -112.5\n",
      "0              -164.5\n",
      "dtype: float64\n"
     ]
    }
   ],
   "source": [
    "upp_vis = (Q3 + 1.5*IQR)\n",
    "low_vis = (Q1-1.5*IQR)\n",
    "print(upp_vis)\n",
    "\n",
    "print(low_vis)"
   ]
  },
  {
   "cell_type": "code",
   "execution_count": 59,
   "id": "110a5470",
   "metadata": {},
   "outputs": [],
   "source": [
    "# m=0\n",
    "# for i in range(len(train[\"Close Amount\"])):\n",
    "#     if train[\"Close Amount\"][i]>upp_vis['Close Amount']:\n",
    "#         m=m+1\n",
    "# m "
   ]
  },
  {
   "cell_type": "code",
   "execution_count": 60,
   "id": "1447c432",
   "metadata": {},
   "outputs": [],
   "source": [
    "# v=0\n",
    "# for i in range(len(train[\"Claim Amount\"])):\n",
    "#     if train[\"Claim Amount\"][i]>upp_vis['Claim Amount']:\n",
    "#         v=v+1\n",
    "# v  "
   ]
  },
  {
   "cell_type": "code",
   "execution_count": 61,
   "id": "6c982d67",
   "metadata": {},
   "outputs": [],
   "source": [
    "# for i in range(len(train['Claim Amount'])):\n",
    "#     if train['Claim Amount'][i]>upp_vis['Claim Amount']:\n",
    "#         train['Claim Amount'][i]=upp_vis['Claim Amount']\n",
    "#     elif  train['Claim Amount'][i]<low_vis['Claim Amount']:\n",
    "#          train['Claim Amount'][i]=low_vis['Claim Amount']"
   ]
  },
  {
   "cell_type": "code",
   "execution_count": 62,
   "id": "f7d717ef",
   "metadata": {},
   "outputs": [],
   "source": [
    "# for i in range(len(train['Close Amount'])):\n",
    "#     if train['Close Amount'][i]>upp_vis['Close Amount']:\n",
    "#         train['Close Amount'][i]=upp_vis['Close Amount']\n",
    "#     elif  train['Close Amount'][i]<low_vis['Close Amount']:\n",
    "#          train['Close Amount'][i]=low_vis['Close Amount']"
   ]
  },
  {
   "cell_type": "code",
   "execution_count": 63,
   "id": "485230fb",
   "metadata": {},
   "outputs": [],
   "source": [
    "train.drop(['Claim Number','City Code','City','Claim Amount','Close Amount',0],axis=1,inplace=True)"
   ]
  },
  {
   "cell_type": "code",
   "execution_count": 64,
   "id": "d6442990",
   "metadata": {},
   "outputs": [
    {
     "data": {
      "text/plain": [
       "Enterprise Type     object\n",
       "Claim Type          object\n",
       "Claim Site          object\n",
       "Product Insured     object\n",
       "Disposition         object\n",
       "Date of incident    object\n",
       "Date of Received    object\n",
       "dtype: object"
      ]
     },
     "execution_count": 64,
     "metadata": {},
     "output_type": "execute_result"
    }
   ],
   "source": [
    "train.dtypes"
   ]
  },
  {
   "cell_type": "code",
   "execution_count": 65,
   "id": "a38b01eb",
   "metadata": {},
   "outputs": [],
   "source": [
    "#test.drop(['Claim Number','City Code','City',0],axis=1,inplace=True)"
   ]
  },
  {
   "cell_type": "code",
   "execution_count": 66,
   "id": "7658e660",
   "metadata": {},
   "outputs": [
    {
     "data": {
      "text/plain": [
       "Claim Number        object\n",
       "City Code           object\n",
       "City                object\n",
       "Enterprise Type     object\n",
       "Claim Type          object\n",
       "Claim Site          object\n",
       "Product Insured     object\n",
       "Date of incident    object\n",
       "Date of Received    object\n",
       "0                    int64\n",
       "dtype: object"
      ]
     },
     "execution_count": 66,
     "metadata": {},
     "output_type": "execute_result"
    }
   ],
   "source": [
    "test.dtypes"
   ]
  },
  {
   "cell_type": "code",
   "execution_count": 67,
   "id": "ad304fd3",
   "metadata": {},
   "outputs": [],
   "source": [
    "cat_cols=['Enterprise Type','Claim Type','Claim Site','Product Insured']\n",
    "#num_cols=[0]"
   ]
  },
  {
   "cell_type": "code",
   "execution_count": 68,
   "id": "583f1bf6",
   "metadata": {},
   "outputs": [],
   "source": [
    "train[cat_cols]=train[cat_cols].astype('category')"
   ]
  },
  {
   "cell_type": "code",
   "execution_count": 69,
   "id": "fb7fcb59",
   "metadata": {},
   "outputs": [],
   "source": [
    "test[cat_cols]=test[cat_cols].astype('category')"
   ]
  },
  {
   "cell_type": "code",
   "execution_count": 70,
   "id": "c7c052e8",
   "metadata": {},
   "outputs": [
    {
     "data": {
      "text/plain": [
       "Enterprise Type     category\n",
       "Claim Type          category\n",
       "Claim Site          category\n",
       "Product Insured     category\n",
       "Disposition           object\n",
       "Date of incident      object\n",
       "Date of Received      object\n",
       "dtype: object"
      ]
     },
     "execution_count": 70,
     "metadata": {},
     "output_type": "execute_result"
    }
   ],
   "source": [
    "train.dtypes"
   ]
  },
  {
   "cell_type": "code",
   "execution_count": 71,
   "id": "21f244bc",
   "metadata": {},
   "outputs": [
    {
     "data": {
      "text/plain": [
       "Claim Number          object\n",
       "City Code             object\n",
       "City                  object\n",
       "Enterprise Type     category\n",
       "Claim Type          category\n",
       "Claim Site          category\n",
       "Product Insured     category\n",
       "Date of incident      object\n",
       "Date of Received      object\n",
       "0                      int64\n",
       "dtype: object"
      ]
     },
     "execution_count": 71,
     "metadata": {},
     "output_type": "execute_result"
    }
   ],
   "source": [
    "test.dtypes"
   ]
  },
  {
   "cell_type": "code",
   "execution_count": null,
   "id": "32786b68",
   "metadata": {},
   "outputs": [],
   "source": []
  },
  {
   "cell_type": "markdown",
   "id": "60cd8514",
   "metadata": {},
   "source": [
    "# Importing and splitting data"
   ]
  },
  {
   "cell_type": "code",
   "execution_count": 72,
   "id": "40115a0b",
   "metadata": {},
   "outputs": [],
   "source": [
    "from sklearn.model_selection import train_test_split\n"
   ]
  },
  {
   "cell_type": "code",
   "execution_count": 73,
   "id": "633a70b6",
   "metadata": {},
   "outputs": [],
   "source": [
    "X_train, validation, y_train, y_test = train_test_split(train.drop(['Disposition'],axis=1),train['Disposition'] , test_size = 0.3, random_state = 123,)"
   ]
  },
  {
   "cell_type": "code",
   "execution_count": null,
   "id": "bc8fa9b9",
   "metadata": {},
   "outputs": [],
   "source": []
  },
  {
   "cell_type": "code",
   "execution_count": 74,
   "id": "d36d0d22",
   "metadata": {},
   "outputs": [],
   "source": [
    "df_cat_train = X_train[cat_cols]\n",
    "df_cat_validation = validation[cat_cols]\n",
    "df_cat_test=test[cat_cols]"
   ]
  },
  {
   "cell_type": "markdown",
   "id": "4144cb70",
   "metadata": {},
   "source": [
    "# Imputing missing values"
   ]
  },
  {
   "cell_type": "code",
   "execution_count": 75,
   "id": "ad3bad1f",
   "metadata": {},
   "outputs": [
    {
     "data": {
      "text/html": [
       "<style>#sk-container-id-1 {color: black;background-color: white;}#sk-container-id-1 pre{padding: 0;}#sk-container-id-1 div.sk-toggleable {background-color: white;}#sk-container-id-1 label.sk-toggleable__label {cursor: pointer;display: block;width: 100%;margin-bottom: 0;padding: 0.3em;box-sizing: border-box;text-align: center;}#sk-container-id-1 label.sk-toggleable__label-arrow:before {content: \"▸\";float: left;margin-right: 0.25em;color: #696969;}#sk-container-id-1 label.sk-toggleable__label-arrow:hover:before {color: black;}#sk-container-id-1 div.sk-estimator:hover label.sk-toggleable__label-arrow:before {color: black;}#sk-container-id-1 div.sk-toggleable__content {max-height: 0;max-width: 0;overflow: hidden;text-align: left;background-color: #f0f8ff;}#sk-container-id-1 div.sk-toggleable__content pre {margin: 0.2em;color: black;border-radius: 0.25em;background-color: #f0f8ff;}#sk-container-id-1 input.sk-toggleable__control:checked~div.sk-toggleable__content {max-height: 200px;max-width: 100%;overflow: auto;}#sk-container-id-1 input.sk-toggleable__control:checked~label.sk-toggleable__label-arrow:before {content: \"▾\";}#sk-container-id-1 div.sk-estimator input.sk-toggleable__control:checked~label.sk-toggleable__label {background-color: #d4ebff;}#sk-container-id-1 div.sk-label input.sk-toggleable__control:checked~label.sk-toggleable__label {background-color: #d4ebff;}#sk-container-id-1 input.sk-hidden--visually {border: 0;clip: rect(1px 1px 1px 1px);clip: rect(1px, 1px, 1px, 1px);height: 1px;margin: -1px;overflow: hidden;padding: 0;position: absolute;width: 1px;}#sk-container-id-1 div.sk-estimator {font-family: monospace;background-color: #f0f8ff;border: 1px dotted black;border-radius: 0.25em;box-sizing: border-box;margin-bottom: 0.5em;}#sk-container-id-1 div.sk-estimator:hover {background-color: #d4ebff;}#sk-container-id-1 div.sk-parallel-item::after {content: \"\";width: 100%;border-bottom: 1px solid gray;flex-grow: 1;}#sk-container-id-1 div.sk-label:hover label.sk-toggleable__label {background-color: #d4ebff;}#sk-container-id-1 div.sk-serial::before {content: \"\";position: absolute;border-left: 1px solid gray;box-sizing: border-box;top: 0;bottom: 0;left: 50%;z-index: 0;}#sk-container-id-1 div.sk-serial {display: flex;flex-direction: column;align-items: center;background-color: white;padding-right: 0.2em;padding-left: 0.2em;position: relative;}#sk-container-id-1 div.sk-item {position: relative;z-index: 1;}#sk-container-id-1 div.sk-parallel {display: flex;align-items: stretch;justify-content: center;background-color: white;position: relative;}#sk-container-id-1 div.sk-item::before, #sk-container-id-1 div.sk-parallel-item::before {content: \"\";position: absolute;border-left: 1px solid gray;box-sizing: border-box;top: 0;bottom: 0;left: 50%;z-index: -1;}#sk-container-id-1 div.sk-parallel-item {display: flex;flex-direction: column;z-index: 1;position: relative;background-color: white;}#sk-container-id-1 div.sk-parallel-item:first-child::after {align-self: flex-end;width: 50%;}#sk-container-id-1 div.sk-parallel-item:last-child::after {align-self: flex-start;width: 50%;}#sk-container-id-1 div.sk-parallel-item:only-child::after {width: 0;}#sk-container-id-1 div.sk-dashed-wrapped {border: 1px dashed gray;margin: 0 0.4em 0.5em 0.4em;box-sizing: border-box;padding-bottom: 0.4em;background-color: white;}#sk-container-id-1 div.sk-label label {font-family: monospace;font-weight: bold;display: inline-block;line-height: 1.2em;}#sk-container-id-1 div.sk-label-container {text-align: center;}#sk-container-id-1 div.sk-container {/* jupyter's `normalize.less` sets `[hidden] { display: none; }` but bootstrap.min.css set `[hidden] { display: none !important; }` so we also need the `!important` here to be able to override the default hidden behavior on the sphinx rendered scikit-learn.org. See: https://github.com/scikit-learn/scikit-learn/issues/21755 */display: inline-block !important;position: relative;}#sk-container-id-1 div.sk-text-repr-fallback {display: none;}</style><div id=\"sk-container-id-1\" class=\"sk-top-container\"><div class=\"sk-text-repr-fallback\"><pre>SimpleImputer(strategy=&#x27;most_frequent&#x27;)</pre><b>In a Jupyter environment, please rerun this cell to show the HTML representation or trust the notebook. <br />On GitHub, the HTML representation is unable to render, please try loading this page with nbviewer.org.</b></div><div class=\"sk-container\" hidden><div class=\"sk-item\"><div class=\"sk-estimator sk-toggleable\"><input class=\"sk-toggleable__control sk-hidden--visually\" id=\"sk-estimator-id-1\" type=\"checkbox\" checked><label for=\"sk-estimator-id-1\" class=\"sk-toggleable__label sk-toggleable__label-arrow\">SimpleImputer</label><div class=\"sk-toggleable__content\"><pre>SimpleImputer(strategy=&#x27;most_frequent&#x27;)</pre></div></div></div></div></div>"
      ],
      "text/plain": [
       "SimpleImputer(strategy='most_frequent')"
      ]
     },
     "execution_count": 75,
     "metadata": {},
     "output_type": "execute_result"
    }
   ],
   "source": [
    "from sklearn.impute import SimpleImputer\n",
    "cat_imputer = SimpleImputer(strategy='most_frequent')\n",
    "cat_imputer.fit(df_cat_train)"
   ]
  },
  {
   "cell_type": "code",
   "execution_count": 76,
   "id": "83112738",
   "metadata": {},
   "outputs": [],
   "source": [
    "df_cat_train = pd.DataFrame(cat_imputer.transform(df_cat_train), columns=cat_cols)"
   ]
  },
  {
   "cell_type": "code",
   "execution_count": 77,
   "id": "87be5149",
   "metadata": {},
   "outputs": [],
   "source": [
    "df_cat_test = pd.DataFrame(cat_imputer.transform(df_cat_validation), columns=cat_cols)"
   ]
  },
  {
   "cell_type": "code",
   "execution_count": 78,
   "id": "e8dbffe2",
   "metadata": {},
   "outputs": [],
   "source": [
    "df_cat_test = pd.DataFrame(cat_imputer.transform(df_cat_test), columns=cat_cols)"
   ]
  },
  {
   "cell_type": "code",
   "execution_count": 79,
   "id": "063b0e41",
   "metadata": {},
   "outputs": [],
   "source": [
    "# df_num_train = X_train[num_cols]\n",
    "# df_num_validation = X_validation[num_cols]"
   ]
  },
  {
   "cell_type": "code",
   "execution_count": 80,
   "id": "a05daa62",
   "metadata": {},
   "outputs": [],
   "source": [
    "# num_imputer = SimpleImputer()\n",
    "# num_imputer.fit(df_num_train[num_cols])"
   ]
  },
  {
   "cell_type": "code",
   "execution_count": 81,
   "id": "85842b02",
   "metadata": {},
   "outputs": [],
   "source": [
    "# df_num_train = pd.DataFrame (num_imputer.transform(df_num_train), columns= num_cols)"
   ]
  },
  {
   "cell_type": "code",
   "execution_count": 82,
   "id": "a1df4075",
   "metadata": {},
   "outputs": [],
   "source": [
    "# df_num_validation =  pd.DataFrame(num_imputer.transform(df_num_valodation), columns=num_cols)"
   ]
  },
  {
   "cell_type": "code",
   "execution_count": 83,
   "id": "fefd6143",
   "metadata": {},
   "outputs": [],
   "source": [
    "# X_train = pd.concat([df_num_train, df_cat_train], axis = 1)\n",
    "\n",
    "\n",
    "# X_validation = pd.concat([df_num_validation, df_cat_validation], axis = 1)"
   ]
  },
  {
   "cell_type": "code",
   "execution_count": null,
   "id": "2fdb9919",
   "metadata": {},
   "outputs": [],
   "source": []
  },
  {
   "cell_type": "markdown",
   "id": "dcf96a06",
   "metadata": {},
   "source": [
    "# Standardization"
   ]
  },
  {
   "cell_type": "code",
   "execution_count": 84,
   "id": "9116f75b",
   "metadata": {},
   "outputs": [],
   "source": [
    "from sklearn.preprocessing import StandardScaler, OneHotEncoder"
   ]
  },
  {
   "cell_type": "code",
   "execution_count": 85,
   "id": "7559892a",
   "metadata": {},
   "outputs": [],
   "source": [
    "# scaler=StandardScaler()\n",
    "\n",
    "# X_train_num=pd.DataFrame(scaler.fit_transform(X_train[num_cols]),columns=X_train[num_cols].columns)\n",
    "\n",
    "# X_validation_num=pd.DataFrame(scaler.transform(X_validation[num_cols]),columns=X_validation[num_cols].columns)"
   ]
  },
  {
   "cell_type": "markdown",
   "id": "482dc245",
   "metadata": {},
   "source": [
    "# encoding cat cols"
   ]
  },
  {
   "cell_type": "code",
   "execution_count": 86,
   "id": "72ff8b21",
   "metadata": {},
   "outputs": [],
   "source": [
    "ohe=OneHotEncoder(sparse=False)\n",
    "ohe.fit(X_train[cat_cols])\n",
    "ohe.transform(X_train[cat_cols])\n",
    "\n",
    "cat_df_train = pd.DataFrame(ohe.transform(X_train[cat_cols]), columns = ohe.get_feature_names()).set_index(X_train[cat_cols].index)\n",
    "\n",
    "cat_df_validation = pd.DataFrame(ohe.transform(validation[cat_cols]), columns = ohe.get_feature_names()).set_index(validation[cat_cols].index)\n",
    "\n",
    "cat_df_test= pd.DataFrame(ohe.transform(test[cat_cols]), columns = ohe.get_feature_names()).set_index(test[cat_cols].index)\n",
    "\n",
    "\n",
    "Train=cat_df_train\n",
    "validation =cat_df_validation\n",
    "Test=cat_df_test"
   ]
  },
  {
   "cell_type": "code",
   "execution_count": 87,
   "id": "13bcb3cf",
   "metadata": {
    "scrolled": true
   },
   "outputs": [
    {
     "data": {
      "text/html": [
       "<div>\n",
       "<style scoped>\n",
       "    .dataframe tbody tr th:only-of-type {\n",
       "        vertical-align: middle;\n",
       "    }\n",
       "\n",
       "    .dataframe tbody tr th {\n",
       "        vertical-align: top;\n",
       "    }\n",
       "\n",
       "    .dataframe thead th {\n",
       "        text-align: right;\n",
       "    }\n",
       "</style>\n",
       "<table border=\"1\" class=\"dataframe\">\n",
       "  <thead>\n",
       "    <tr style=\"text-align: right;\">\n",
       "      <th></th>\n",
       "      <th>x0_Cooperative Society</th>\n",
       "      <th>x0_Foreign Subsidary</th>\n",
       "      <th>x0_Joint-Venture Company</th>\n",
       "      <th>x0_Limited Liability Parterneship (LLP)</th>\n",
       "      <th>x0_Non-Profit Organization (NPO)</th>\n",
       "      <th>x0_One Person Company</th>\n",
       "      <th>x0_Partnership Firm</th>\n",
       "      <th>x0_Private Limited Company</th>\n",
       "      <th>x0_Private Ltd. MSME - Medium</th>\n",
       "      <th>x0_Private Ltd. MSME - Micro</th>\n",
       "      <th>...</th>\n",
       "      <th>x3_Heating, ventilation, and air conditioning (HVAC) System</th>\n",
       "      <th>x3_Inventory - Finished Goods</th>\n",
       "      <th>x3_Inventory - Raw Material</th>\n",
       "      <th>x3_Misc. Electrical Equipment</th>\n",
       "      <th>x3_Misc. Electronic Items</th>\n",
       "      <th>x3_Misc. Engineering Tools</th>\n",
       "      <th>x3_Misc. Lab Equipment</th>\n",
       "      <th>x3_Misc. Sensors</th>\n",
       "      <th>x3_Property, Plant, and Equipment (PPE) Parts</th>\n",
       "      <th>x3_Pumps and Motors</th>\n",
       "    </tr>\n",
       "  </thead>\n",
       "  <tbody>\n",
       "    <tr>\n",
       "      <th>31310</th>\n",
       "      <td>0.0</td>\n",
       "      <td>0.0</td>\n",
       "      <td>0.0</td>\n",
       "      <td>0.0</td>\n",
       "      <td>0.0</td>\n",
       "      <td>1.0</td>\n",
       "      <td>0.0</td>\n",
       "      <td>0.0</td>\n",
       "      <td>0.0</td>\n",
       "      <td>0.0</td>\n",
       "      <td>...</td>\n",
       "      <td>0.0</td>\n",
       "      <td>0.0</td>\n",
       "      <td>0.0</td>\n",
       "      <td>0.0</td>\n",
       "      <td>1.0</td>\n",
       "      <td>0.0</td>\n",
       "      <td>0.0</td>\n",
       "      <td>0.0</td>\n",
       "      <td>0.0</td>\n",
       "      <td>0.0</td>\n",
       "    </tr>\n",
       "    <tr>\n",
       "      <th>663</th>\n",
       "      <td>0.0</td>\n",
       "      <td>1.0</td>\n",
       "      <td>0.0</td>\n",
       "      <td>0.0</td>\n",
       "      <td>0.0</td>\n",
       "      <td>0.0</td>\n",
       "      <td>0.0</td>\n",
       "      <td>0.0</td>\n",
       "      <td>0.0</td>\n",
       "      <td>0.0</td>\n",
       "      <td>...</td>\n",
       "      <td>0.0</td>\n",
       "      <td>0.0</td>\n",
       "      <td>0.0</td>\n",
       "      <td>0.0</td>\n",
       "      <td>0.0</td>\n",
       "      <td>0.0</td>\n",
       "      <td>0.0</td>\n",
       "      <td>0.0</td>\n",
       "      <td>0.0</td>\n",
       "      <td>0.0</td>\n",
       "    </tr>\n",
       "    <tr>\n",
       "      <th>7666</th>\n",
       "      <td>0.0</td>\n",
       "      <td>0.0</td>\n",
       "      <td>0.0</td>\n",
       "      <td>0.0</td>\n",
       "      <td>0.0</td>\n",
       "      <td>0.0</td>\n",
       "      <td>0.0</td>\n",
       "      <td>1.0</td>\n",
       "      <td>0.0</td>\n",
       "      <td>0.0</td>\n",
       "      <td>...</td>\n",
       "      <td>0.0</td>\n",
       "      <td>0.0</td>\n",
       "      <td>0.0</td>\n",
       "      <td>0.0</td>\n",
       "      <td>1.0</td>\n",
       "      <td>0.0</td>\n",
       "      <td>0.0</td>\n",
       "      <td>0.0</td>\n",
       "      <td>0.0</td>\n",
       "      <td>0.0</td>\n",
       "    </tr>\n",
       "    <tr>\n",
       "      <th>15753</th>\n",
       "      <td>0.0</td>\n",
       "      <td>1.0</td>\n",
       "      <td>0.0</td>\n",
       "      <td>0.0</td>\n",
       "      <td>0.0</td>\n",
       "      <td>0.0</td>\n",
       "      <td>0.0</td>\n",
       "      <td>0.0</td>\n",
       "      <td>0.0</td>\n",
       "      <td>0.0</td>\n",
       "      <td>...</td>\n",
       "      <td>0.0</td>\n",
       "      <td>0.0</td>\n",
       "      <td>1.0</td>\n",
       "      <td>0.0</td>\n",
       "      <td>0.0</td>\n",
       "      <td>0.0</td>\n",
       "      <td>0.0</td>\n",
       "      <td>0.0</td>\n",
       "      <td>0.0</td>\n",
       "      <td>0.0</td>\n",
       "    </tr>\n",
       "    <tr>\n",
       "      <th>19404</th>\n",
       "      <td>0.0</td>\n",
       "      <td>0.0</td>\n",
       "      <td>0.0</td>\n",
       "      <td>0.0</td>\n",
       "      <td>0.0</td>\n",
       "      <td>0.0</td>\n",
       "      <td>0.0</td>\n",
       "      <td>0.0</td>\n",
       "      <td>0.0</td>\n",
       "      <td>0.0</td>\n",
       "      <td>...</td>\n",
       "      <td>0.0</td>\n",
       "      <td>0.0</td>\n",
       "      <td>0.0</td>\n",
       "      <td>0.0</td>\n",
       "      <td>0.0</td>\n",
       "      <td>0.0</td>\n",
       "      <td>0.0</td>\n",
       "      <td>0.0</td>\n",
       "      <td>0.0</td>\n",
       "      <td>0.0</td>\n",
       "    </tr>\n",
       "  </tbody>\n",
       "</table>\n",
       "<p>5 rows × 31 columns</p>\n",
       "</div>"
      ],
      "text/plain": [
       "       x0_Cooperative Society  x0_Foreign Subsidary  x0_Joint-Venture Company  \\\n",
       "31310                     0.0                   0.0                       0.0   \n",
       "663                       0.0                   1.0                       0.0   \n",
       "7666                      0.0                   0.0                       0.0   \n",
       "15753                     0.0                   1.0                       0.0   \n",
       "19404                     0.0                   0.0                       0.0   \n",
       "\n",
       "       x0_Limited Liability Parterneship (LLP)  \\\n",
       "31310                                      0.0   \n",
       "663                                        0.0   \n",
       "7666                                       0.0   \n",
       "15753                                      0.0   \n",
       "19404                                      0.0   \n",
       "\n",
       "       x0_Non-Profit Organization (NPO)  x0_One Person Company  \\\n",
       "31310                               0.0                    1.0   \n",
       "663                                 0.0                    0.0   \n",
       "7666                                0.0                    0.0   \n",
       "15753                               0.0                    0.0   \n",
       "19404                               0.0                    0.0   \n",
       "\n",
       "       x0_Partnership Firm  x0_Private Limited Company  \\\n",
       "31310                  0.0                         0.0   \n",
       "663                    0.0                         0.0   \n",
       "7666                   0.0                         1.0   \n",
       "15753                  0.0                         0.0   \n",
       "19404                  0.0                         0.0   \n",
       "\n",
       "       x0_Private Ltd. MSME - Medium  x0_Private Ltd. MSME - Micro  ...  \\\n",
       "31310                            0.0                           0.0  ...   \n",
       "663                              0.0                           0.0  ...   \n",
       "7666                             0.0                           0.0  ...   \n",
       "15753                            0.0                           0.0  ...   \n",
       "19404                            0.0                           0.0  ...   \n",
       "\n",
       "       x3_Heating, ventilation, and air conditioning (HVAC) System  \\\n",
       "31310                                                0.0             \n",
       "663                                                  0.0             \n",
       "7666                                                 0.0             \n",
       "15753                                                0.0             \n",
       "19404                                                0.0             \n",
       "\n",
       "       x3_Inventory - Finished Goods  x3_Inventory - Raw Material  \\\n",
       "31310                            0.0                          0.0   \n",
       "663                              0.0                          0.0   \n",
       "7666                             0.0                          0.0   \n",
       "15753                            0.0                          1.0   \n",
       "19404                            0.0                          0.0   \n",
       "\n",
       "       x3_Misc. Electrical Equipment  x3_Misc. Electronic Items  \\\n",
       "31310                            0.0                        1.0   \n",
       "663                              0.0                        0.0   \n",
       "7666                             0.0                        1.0   \n",
       "15753                            0.0                        0.0   \n",
       "19404                            0.0                        0.0   \n",
       "\n",
       "       x3_Misc. Engineering Tools  x3_Misc. Lab Equipment  x3_Misc. Sensors  \\\n",
       "31310                         0.0                     0.0               0.0   \n",
       "663                           0.0                     0.0               0.0   \n",
       "7666                          0.0                     0.0               0.0   \n",
       "15753                         0.0                     0.0               0.0   \n",
       "19404                         0.0                     0.0               0.0   \n",
       "\n",
       "       x3_Property, Plant, and Equipment (PPE) Parts  x3_Pumps and Motors  \n",
       "31310                                            0.0                  0.0  \n",
       "663                                              0.0                  0.0  \n",
       "7666                                             0.0                  0.0  \n",
       "15753                                            0.0                  0.0  \n",
       "19404                                            0.0                  0.0  \n",
       "\n",
       "[5 rows x 31 columns]"
      ]
     },
     "execution_count": 87,
     "metadata": {},
     "output_type": "execute_result"
    }
   ],
   "source": [
    "Train.head()"
   ]
  },
  {
   "cell_type": "code",
   "execution_count": 88,
   "id": "a04bd579",
   "metadata": {},
   "outputs": [
    {
     "data": {
      "text/plain": [
       "(23877, 31)"
      ]
     },
     "execution_count": 88,
     "metadata": {},
     "output_type": "execute_result"
    }
   ],
   "source": [
    "Train.shape"
   ]
  },
  {
   "cell_type": "code",
   "execution_count": 89,
   "id": "449cbc90",
   "metadata": {},
   "outputs": [
    {
     "data": {
      "text/html": [
       "<div>\n",
       "<style scoped>\n",
       "    .dataframe tbody tr th:only-of-type {\n",
       "        vertical-align: middle;\n",
       "    }\n",
       "\n",
       "    .dataframe tbody tr th {\n",
       "        vertical-align: top;\n",
       "    }\n",
       "\n",
       "    .dataframe thead th {\n",
       "        text-align: right;\n",
       "    }\n",
       "</style>\n",
       "<table border=\"1\" class=\"dataframe\">\n",
       "  <thead>\n",
       "    <tr style=\"text-align: right;\">\n",
       "      <th></th>\n",
       "      <th>x0_Cooperative Society</th>\n",
       "      <th>x0_Foreign Subsidary</th>\n",
       "      <th>x0_Joint-Venture Company</th>\n",
       "      <th>x0_Limited Liability Parterneship (LLP)</th>\n",
       "      <th>x0_Non-Profit Organization (NPO)</th>\n",
       "      <th>x0_One Person Company</th>\n",
       "      <th>x0_Partnership Firm</th>\n",
       "      <th>x0_Private Limited Company</th>\n",
       "      <th>x0_Private Ltd. MSME - Medium</th>\n",
       "      <th>x0_Private Ltd. MSME - Micro</th>\n",
       "      <th>...</th>\n",
       "      <th>x3_Heating, ventilation, and air conditioning (HVAC) System</th>\n",
       "      <th>x3_Inventory - Finished Goods</th>\n",
       "      <th>x3_Inventory - Raw Material</th>\n",
       "      <th>x3_Misc. Electrical Equipment</th>\n",
       "      <th>x3_Misc. Electronic Items</th>\n",
       "      <th>x3_Misc. Engineering Tools</th>\n",
       "      <th>x3_Misc. Lab Equipment</th>\n",
       "      <th>x3_Misc. Sensors</th>\n",
       "      <th>x3_Property, Plant, and Equipment (PPE) Parts</th>\n",
       "      <th>x3_Pumps and Motors</th>\n",
       "    </tr>\n",
       "  </thead>\n",
       "  <tbody>\n",
       "    <tr>\n",
       "      <th>21201</th>\n",
       "      <td>0.0</td>\n",
       "      <td>0.0</td>\n",
       "      <td>0.0</td>\n",
       "      <td>0.0</td>\n",
       "      <td>0.0</td>\n",
       "      <td>0.0</td>\n",
       "      <td>0.0</td>\n",
       "      <td>0.0</td>\n",
       "      <td>0.0</td>\n",
       "      <td>0.0</td>\n",
       "      <td>...</td>\n",
       "      <td>0.0</td>\n",
       "      <td>0.0</td>\n",
       "      <td>0.0</td>\n",
       "      <td>0.0</td>\n",
       "      <td>0.0</td>\n",
       "      <td>1.0</td>\n",
       "      <td>0.0</td>\n",
       "      <td>0.0</td>\n",
       "      <td>0.0</td>\n",
       "      <td>0.0</td>\n",
       "    </tr>\n",
       "    <tr>\n",
       "      <th>28547</th>\n",
       "      <td>0.0</td>\n",
       "      <td>0.0</td>\n",
       "      <td>1.0</td>\n",
       "      <td>0.0</td>\n",
       "      <td>0.0</td>\n",
       "      <td>0.0</td>\n",
       "      <td>0.0</td>\n",
       "      <td>0.0</td>\n",
       "      <td>0.0</td>\n",
       "      <td>0.0</td>\n",
       "      <td>...</td>\n",
       "      <td>0.0</td>\n",
       "      <td>0.0</td>\n",
       "      <td>0.0</td>\n",
       "      <td>0.0</td>\n",
       "      <td>1.0</td>\n",
       "      <td>0.0</td>\n",
       "      <td>0.0</td>\n",
       "      <td>0.0</td>\n",
       "      <td>0.0</td>\n",
       "      <td>0.0</td>\n",
       "    </tr>\n",
       "    <tr>\n",
       "      <th>26417</th>\n",
       "      <td>0.0</td>\n",
       "      <td>0.0</td>\n",
       "      <td>0.0</td>\n",
       "      <td>0.0</td>\n",
       "      <td>0.0</td>\n",
       "      <td>0.0</td>\n",
       "      <td>0.0</td>\n",
       "      <td>0.0</td>\n",
       "      <td>0.0</td>\n",
       "      <td>0.0</td>\n",
       "      <td>...</td>\n",
       "      <td>0.0</td>\n",
       "      <td>1.0</td>\n",
       "      <td>0.0</td>\n",
       "      <td>0.0</td>\n",
       "      <td>0.0</td>\n",
       "      <td>0.0</td>\n",
       "      <td>0.0</td>\n",
       "      <td>0.0</td>\n",
       "      <td>0.0</td>\n",
       "      <td>0.0</td>\n",
       "    </tr>\n",
       "    <tr>\n",
       "      <th>22293</th>\n",
       "      <td>0.0</td>\n",
       "      <td>0.0</td>\n",
       "      <td>0.0</td>\n",
       "      <td>0.0</td>\n",
       "      <td>0.0</td>\n",
       "      <td>1.0</td>\n",
       "      <td>0.0</td>\n",
       "      <td>0.0</td>\n",
       "      <td>0.0</td>\n",
       "      <td>0.0</td>\n",
       "      <td>...</td>\n",
       "      <td>0.0</td>\n",
       "      <td>0.0</td>\n",
       "      <td>0.0</td>\n",
       "      <td>1.0</td>\n",
       "      <td>0.0</td>\n",
       "      <td>0.0</td>\n",
       "      <td>0.0</td>\n",
       "      <td>0.0</td>\n",
       "      <td>0.0</td>\n",
       "      <td>0.0</td>\n",
       "    </tr>\n",
       "    <tr>\n",
       "      <th>6275</th>\n",
       "      <td>0.0</td>\n",
       "      <td>0.0</td>\n",
       "      <td>0.0</td>\n",
       "      <td>0.0</td>\n",
       "      <td>1.0</td>\n",
       "      <td>0.0</td>\n",
       "      <td>0.0</td>\n",
       "      <td>0.0</td>\n",
       "      <td>0.0</td>\n",
       "      <td>0.0</td>\n",
       "      <td>...</td>\n",
       "      <td>0.0</td>\n",
       "      <td>0.0</td>\n",
       "      <td>0.0</td>\n",
       "      <td>0.0</td>\n",
       "      <td>0.0</td>\n",
       "      <td>1.0</td>\n",
       "      <td>0.0</td>\n",
       "      <td>0.0</td>\n",
       "      <td>0.0</td>\n",
       "      <td>0.0</td>\n",
       "    </tr>\n",
       "  </tbody>\n",
       "</table>\n",
       "<p>5 rows × 31 columns</p>\n",
       "</div>"
      ],
      "text/plain": [
       "       x0_Cooperative Society  x0_Foreign Subsidary  x0_Joint-Venture Company  \\\n",
       "21201                     0.0                   0.0                       0.0   \n",
       "28547                     0.0                   0.0                       1.0   \n",
       "26417                     0.0                   0.0                       0.0   \n",
       "22293                     0.0                   0.0                       0.0   \n",
       "6275                      0.0                   0.0                       0.0   \n",
       "\n",
       "       x0_Limited Liability Parterneship (LLP)  \\\n",
       "21201                                      0.0   \n",
       "28547                                      0.0   \n",
       "26417                                      0.0   \n",
       "22293                                      0.0   \n",
       "6275                                       0.0   \n",
       "\n",
       "       x0_Non-Profit Organization (NPO)  x0_One Person Company  \\\n",
       "21201                               0.0                    0.0   \n",
       "28547                               0.0                    0.0   \n",
       "26417                               0.0                    0.0   \n",
       "22293                               0.0                    1.0   \n",
       "6275                                1.0                    0.0   \n",
       "\n",
       "       x0_Partnership Firm  x0_Private Limited Company  \\\n",
       "21201                  0.0                         0.0   \n",
       "28547                  0.0                         0.0   \n",
       "26417                  0.0                         0.0   \n",
       "22293                  0.0                         0.0   \n",
       "6275                   0.0                         0.0   \n",
       "\n",
       "       x0_Private Ltd. MSME - Medium  x0_Private Ltd. MSME - Micro  ...  \\\n",
       "21201                            0.0                           0.0  ...   \n",
       "28547                            0.0                           0.0  ...   \n",
       "26417                            0.0                           0.0  ...   \n",
       "22293                            0.0                           0.0  ...   \n",
       "6275                             0.0                           0.0  ...   \n",
       "\n",
       "       x3_Heating, ventilation, and air conditioning (HVAC) System  \\\n",
       "21201                                                0.0             \n",
       "28547                                                0.0             \n",
       "26417                                                0.0             \n",
       "22293                                                0.0             \n",
       "6275                                                 0.0             \n",
       "\n",
       "       x3_Inventory - Finished Goods  x3_Inventory - Raw Material  \\\n",
       "21201                            0.0                          0.0   \n",
       "28547                            0.0                          0.0   \n",
       "26417                            1.0                          0.0   \n",
       "22293                            0.0                          0.0   \n",
       "6275                             0.0                          0.0   \n",
       "\n",
       "       x3_Misc. Electrical Equipment  x3_Misc. Electronic Items  \\\n",
       "21201                            0.0                        0.0   \n",
       "28547                            0.0                        1.0   \n",
       "26417                            0.0                        0.0   \n",
       "22293                            1.0                        0.0   \n",
       "6275                             0.0                        0.0   \n",
       "\n",
       "       x3_Misc. Engineering Tools  x3_Misc. Lab Equipment  x3_Misc. Sensors  \\\n",
       "21201                         1.0                     0.0               0.0   \n",
       "28547                         0.0                     0.0               0.0   \n",
       "26417                         0.0                     0.0               0.0   \n",
       "22293                         0.0                     0.0               0.0   \n",
       "6275                          1.0                     0.0               0.0   \n",
       "\n",
       "       x3_Property, Plant, and Equipment (PPE) Parts  x3_Pumps and Motors  \n",
       "21201                                            0.0                  0.0  \n",
       "28547                                            0.0                  0.0  \n",
       "26417                                            0.0                  0.0  \n",
       "22293                                            0.0                  0.0  \n",
       "6275                                             0.0                  0.0  \n",
       "\n",
       "[5 rows x 31 columns]"
      ]
     },
     "execution_count": 89,
     "metadata": {},
     "output_type": "execute_result"
    }
   ],
   "source": [
    "validation.head()"
   ]
  },
  {
   "cell_type": "code",
   "execution_count": 90,
   "id": "0c5dc919",
   "metadata": {
    "scrolled": true
   },
   "outputs": [
    {
     "data": {
      "text/plain": [
       "(10233, 31)"
      ]
     },
     "execution_count": 90,
     "metadata": {},
     "output_type": "execute_result"
    }
   ],
   "source": [
    "validation.shape"
   ]
  },
  {
   "cell_type": "code",
   "execution_count": 91,
   "id": "5242ad96",
   "metadata": {},
   "outputs": [
    {
     "data": {
      "text/html": [
       "<div>\n",
       "<style scoped>\n",
       "    .dataframe tbody tr th:only-of-type {\n",
       "        vertical-align: middle;\n",
       "    }\n",
       "\n",
       "    .dataframe tbody tr th {\n",
       "        vertical-align: top;\n",
       "    }\n",
       "\n",
       "    .dataframe thead th {\n",
       "        text-align: right;\n",
       "    }\n",
       "</style>\n",
       "<table border=\"1\" class=\"dataframe\">\n",
       "  <thead>\n",
       "    <tr style=\"text-align: right;\">\n",
       "      <th></th>\n",
       "      <th>x0_Cooperative Society</th>\n",
       "      <th>x0_Foreign Subsidary</th>\n",
       "      <th>x0_Joint-Venture Company</th>\n",
       "      <th>x0_Limited Liability Parterneship (LLP)</th>\n",
       "      <th>x0_Non-Profit Organization (NPO)</th>\n",
       "      <th>x0_One Person Company</th>\n",
       "      <th>x0_Partnership Firm</th>\n",
       "      <th>x0_Private Limited Company</th>\n",
       "      <th>x0_Private Ltd. MSME - Medium</th>\n",
       "      <th>x0_Private Ltd. MSME - Micro</th>\n",
       "      <th>...</th>\n",
       "      <th>x3_Heating, ventilation, and air conditioning (HVAC) System</th>\n",
       "      <th>x3_Inventory - Finished Goods</th>\n",
       "      <th>x3_Inventory - Raw Material</th>\n",
       "      <th>x3_Misc. Electrical Equipment</th>\n",
       "      <th>x3_Misc. Electronic Items</th>\n",
       "      <th>x3_Misc. Engineering Tools</th>\n",
       "      <th>x3_Misc. Lab Equipment</th>\n",
       "      <th>x3_Misc. Sensors</th>\n",
       "      <th>x3_Property, Plant, and Equipment (PPE) Parts</th>\n",
       "      <th>x3_Pumps and Motors</th>\n",
       "    </tr>\n",
       "  </thead>\n",
       "  <tbody>\n",
       "    <tr>\n",
       "      <th>1915</th>\n",
       "      <td>0.0</td>\n",
       "      <td>0.0</td>\n",
       "      <td>0.0</td>\n",
       "      <td>0.0</td>\n",
       "      <td>0.0</td>\n",
       "      <td>0.0</td>\n",
       "      <td>0.0</td>\n",
       "      <td>0.0</td>\n",
       "      <td>0.0</td>\n",
       "      <td>0.0</td>\n",
       "      <td>...</td>\n",
       "      <td>0.0</td>\n",
       "      <td>0.0</td>\n",
       "      <td>1.0</td>\n",
       "      <td>0.0</td>\n",
       "      <td>0.0</td>\n",
       "      <td>0.0</td>\n",
       "      <td>0.0</td>\n",
       "      <td>0.0</td>\n",
       "      <td>0.0</td>\n",
       "      <td>0.0</td>\n",
       "    </tr>\n",
       "    <tr>\n",
       "      <th>3176</th>\n",
       "      <td>0.0</td>\n",
       "      <td>0.0</td>\n",
       "      <td>0.0</td>\n",
       "      <td>0.0</td>\n",
       "      <td>0.0</td>\n",
       "      <td>0.0</td>\n",
       "      <td>0.0</td>\n",
       "      <td>0.0</td>\n",
       "      <td>0.0</td>\n",
       "      <td>0.0</td>\n",
       "      <td>...</td>\n",
       "      <td>0.0</td>\n",
       "      <td>1.0</td>\n",
       "      <td>0.0</td>\n",
       "      <td>0.0</td>\n",
       "      <td>0.0</td>\n",
       "      <td>0.0</td>\n",
       "      <td>0.0</td>\n",
       "      <td>0.0</td>\n",
       "      <td>0.0</td>\n",
       "      <td>0.0</td>\n",
       "    </tr>\n",
       "    <tr>\n",
       "      <th>311</th>\n",
       "      <td>0.0</td>\n",
       "      <td>0.0</td>\n",
       "      <td>0.0</td>\n",
       "      <td>0.0</td>\n",
       "      <td>0.0</td>\n",
       "      <td>0.0</td>\n",
       "      <td>0.0</td>\n",
       "      <td>0.0</td>\n",
       "      <td>0.0</td>\n",
       "      <td>0.0</td>\n",
       "      <td>...</td>\n",
       "      <td>0.0</td>\n",
       "      <td>0.0</td>\n",
       "      <td>0.0</td>\n",
       "      <td>0.0</td>\n",
       "      <td>0.0</td>\n",
       "      <td>0.0</td>\n",
       "      <td>0.0</td>\n",
       "      <td>0.0</td>\n",
       "      <td>0.0</td>\n",
       "      <td>0.0</td>\n",
       "    </tr>\n",
       "    <tr>\n",
       "      <th>525</th>\n",
       "      <td>0.0</td>\n",
       "      <td>0.0</td>\n",
       "      <td>0.0</td>\n",
       "      <td>0.0</td>\n",
       "      <td>0.0</td>\n",
       "      <td>0.0</td>\n",
       "      <td>0.0</td>\n",
       "      <td>0.0</td>\n",
       "      <td>0.0</td>\n",
       "      <td>0.0</td>\n",
       "      <td>...</td>\n",
       "      <td>0.0</td>\n",
       "      <td>1.0</td>\n",
       "      <td>0.0</td>\n",
       "      <td>0.0</td>\n",
       "      <td>0.0</td>\n",
       "      <td>0.0</td>\n",
       "      <td>0.0</td>\n",
       "      <td>0.0</td>\n",
       "      <td>0.0</td>\n",
       "      <td>0.0</td>\n",
       "    </tr>\n",
       "    <tr>\n",
       "      <th>92</th>\n",
       "      <td>0.0</td>\n",
       "      <td>0.0</td>\n",
       "      <td>0.0</td>\n",
       "      <td>0.0</td>\n",
       "      <td>0.0</td>\n",
       "      <td>0.0</td>\n",
       "      <td>0.0</td>\n",
       "      <td>0.0</td>\n",
       "      <td>0.0</td>\n",
       "      <td>0.0</td>\n",
       "      <td>...</td>\n",
       "      <td>0.0</td>\n",
       "      <td>0.0</td>\n",
       "      <td>1.0</td>\n",
       "      <td>0.0</td>\n",
       "      <td>0.0</td>\n",
       "      <td>0.0</td>\n",
       "      <td>0.0</td>\n",
       "      <td>0.0</td>\n",
       "      <td>0.0</td>\n",
       "      <td>0.0</td>\n",
       "    </tr>\n",
       "  </tbody>\n",
       "</table>\n",
       "<p>5 rows × 31 columns</p>\n",
       "</div>"
      ],
      "text/plain": [
       "      x0_Cooperative Society  x0_Foreign Subsidary  x0_Joint-Venture Company  \\\n",
       "1915                     0.0                   0.0                       0.0   \n",
       "3176                     0.0                   0.0                       0.0   \n",
       "311                      0.0                   0.0                       0.0   \n",
       "525                      0.0                   0.0                       0.0   \n",
       "92                       0.0                   0.0                       0.0   \n",
       "\n",
       "      x0_Limited Liability Parterneship (LLP)  \\\n",
       "1915                                      0.0   \n",
       "3176                                      0.0   \n",
       "311                                       0.0   \n",
       "525                                       0.0   \n",
       "92                                        0.0   \n",
       "\n",
       "      x0_Non-Profit Organization (NPO)  x0_One Person Company  \\\n",
       "1915                               0.0                    0.0   \n",
       "3176                               0.0                    0.0   \n",
       "311                                0.0                    0.0   \n",
       "525                                0.0                    0.0   \n",
       "92                                 0.0                    0.0   \n",
       "\n",
       "      x0_Partnership Firm  x0_Private Limited Company  \\\n",
       "1915                  0.0                         0.0   \n",
       "3176                  0.0                         0.0   \n",
       "311                   0.0                         0.0   \n",
       "525                   0.0                         0.0   \n",
       "92                    0.0                         0.0   \n",
       "\n",
       "      x0_Private Ltd. MSME - Medium  x0_Private Ltd. MSME - Micro  ...  \\\n",
       "1915                            0.0                           0.0  ...   \n",
       "3176                            0.0                           0.0  ...   \n",
       "311                             0.0                           0.0  ...   \n",
       "525                             0.0                           0.0  ...   \n",
       "92                              0.0                           0.0  ...   \n",
       "\n",
       "      x3_Heating, ventilation, and air conditioning (HVAC) System  \\\n",
       "1915                                                0.0             \n",
       "3176                                                0.0             \n",
       "311                                                 0.0             \n",
       "525                                                 0.0             \n",
       "92                                                  0.0             \n",
       "\n",
       "      x3_Inventory - Finished Goods  x3_Inventory - Raw Material  \\\n",
       "1915                            0.0                          1.0   \n",
       "3176                            1.0                          0.0   \n",
       "311                             0.0                          0.0   \n",
       "525                             1.0                          0.0   \n",
       "92                              0.0                          1.0   \n",
       "\n",
       "      x3_Misc. Electrical Equipment  x3_Misc. Electronic Items  \\\n",
       "1915                            0.0                        0.0   \n",
       "3176                            0.0                        0.0   \n",
       "311                             0.0                        0.0   \n",
       "525                             0.0                        0.0   \n",
       "92                              0.0                        0.0   \n",
       "\n",
       "      x3_Misc. Engineering Tools  x3_Misc. Lab Equipment  x3_Misc. Sensors  \\\n",
       "1915                         0.0                     0.0               0.0   \n",
       "3176                         0.0                     0.0               0.0   \n",
       "311                          0.0                     0.0               0.0   \n",
       "525                          0.0                     0.0               0.0   \n",
       "92                           0.0                     0.0               0.0   \n",
       "\n",
       "      x3_Property, Plant, and Equipment (PPE) Parts  x3_Pumps and Motors  \n",
       "1915                                            0.0                  0.0  \n",
       "3176                                            0.0                  0.0  \n",
       "311                                             0.0                  0.0  \n",
       "525                                             0.0                  0.0  \n",
       "92                                              0.0                  0.0  \n",
       "\n",
       "[5 rows x 31 columns]"
      ]
     },
     "execution_count": 91,
     "metadata": {},
     "output_type": "execute_result"
    }
   ],
   "source": [
    "Test.head()"
   ]
  },
  {
   "cell_type": "markdown",
   "id": "fca1624c",
   "metadata": {},
   "source": [
    "# encoding target"
   ]
  },
  {
   "cell_type": "code",
   "execution_count": 92,
   "id": "fb4f1e4a",
   "metadata": {},
   "outputs": [
    {
     "data": {
      "text/html": [
       "<style>#sk-container-id-2 {color: black;background-color: white;}#sk-container-id-2 pre{padding: 0;}#sk-container-id-2 div.sk-toggleable {background-color: white;}#sk-container-id-2 label.sk-toggleable__label {cursor: pointer;display: block;width: 100%;margin-bottom: 0;padding: 0.3em;box-sizing: border-box;text-align: center;}#sk-container-id-2 label.sk-toggleable__label-arrow:before {content: \"▸\";float: left;margin-right: 0.25em;color: #696969;}#sk-container-id-2 label.sk-toggleable__label-arrow:hover:before {color: black;}#sk-container-id-2 div.sk-estimator:hover label.sk-toggleable__label-arrow:before {color: black;}#sk-container-id-2 div.sk-toggleable__content {max-height: 0;max-width: 0;overflow: hidden;text-align: left;background-color: #f0f8ff;}#sk-container-id-2 div.sk-toggleable__content pre {margin: 0.2em;color: black;border-radius: 0.25em;background-color: #f0f8ff;}#sk-container-id-2 input.sk-toggleable__control:checked~div.sk-toggleable__content {max-height: 200px;max-width: 100%;overflow: auto;}#sk-container-id-2 input.sk-toggleable__control:checked~label.sk-toggleable__label-arrow:before {content: \"▾\";}#sk-container-id-2 div.sk-estimator input.sk-toggleable__control:checked~label.sk-toggleable__label {background-color: #d4ebff;}#sk-container-id-2 div.sk-label input.sk-toggleable__control:checked~label.sk-toggleable__label {background-color: #d4ebff;}#sk-container-id-2 input.sk-hidden--visually {border: 0;clip: rect(1px 1px 1px 1px);clip: rect(1px, 1px, 1px, 1px);height: 1px;margin: -1px;overflow: hidden;padding: 0;position: absolute;width: 1px;}#sk-container-id-2 div.sk-estimator {font-family: monospace;background-color: #f0f8ff;border: 1px dotted black;border-radius: 0.25em;box-sizing: border-box;margin-bottom: 0.5em;}#sk-container-id-2 div.sk-estimator:hover {background-color: #d4ebff;}#sk-container-id-2 div.sk-parallel-item::after {content: \"\";width: 100%;border-bottom: 1px solid gray;flex-grow: 1;}#sk-container-id-2 div.sk-label:hover label.sk-toggleable__label {background-color: #d4ebff;}#sk-container-id-2 div.sk-serial::before {content: \"\";position: absolute;border-left: 1px solid gray;box-sizing: border-box;top: 0;bottom: 0;left: 50%;z-index: 0;}#sk-container-id-2 div.sk-serial {display: flex;flex-direction: column;align-items: center;background-color: white;padding-right: 0.2em;padding-left: 0.2em;position: relative;}#sk-container-id-2 div.sk-item {position: relative;z-index: 1;}#sk-container-id-2 div.sk-parallel {display: flex;align-items: stretch;justify-content: center;background-color: white;position: relative;}#sk-container-id-2 div.sk-item::before, #sk-container-id-2 div.sk-parallel-item::before {content: \"\";position: absolute;border-left: 1px solid gray;box-sizing: border-box;top: 0;bottom: 0;left: 50%;z-index: -1;}#sk-container-id-2 div.sk-parallel-item {display: flex;flex-direction: column;z-index: 1;position: relative;background-color: white;}#sk-container-id-2 div.sk-parallel-item:first-child::after {align-self: flex-end;width: 50%;}#sk-container-id-2 div.sk-parallel-item:last-child::after {align-self: flex-start;width: 50%;}#sk-container-id-2 div.sk-parallel-item:only-child::after {width: 0;}#sk-container-id-2 div.sk-dashed-wrapped {border: 1px dashed gray;margin: 0 0.4em 0.5em 0.4em;box-sizing: border-box;padding-bottom: 0.4em;background-color: white;}#sk-container-id-2 div.sk-label label {font-family: monospace;font-weight: bold;display: inline-block;line-height: 1.2em;}#sk-container-id-2 div.sk-label-container {text-align: center;}#sk-container-id-2 div.sk-container {/* jupyter's `normalize.less` sets `[hidden] { display: none; }` but bootstrap.min.css set `[hidden] { display: none !important; }` so we also need the `!important` here to be able to override the default hidden behavior on the sphinx rendered scikit-learn.org. See: https://github.com/scikit-learn/scikit-learn/issues/21755 */display: inline-block !important;position: relative;}#sk-container-id-2 div.sk-text-repr-fallback {display: none;}</style><div id=\"sk-container-id-2\" class=\"sk-top-container\"><div class=\"sk-text-repr-fallback\"><pre>LabelEncoder()</pre><b>In a Jupyter environment, please rerun this cell to show the HTML representation or trust the notebook. <br />On GitHub, the HTML representation is unable to render, please try loading this page with nbviewer.org.</b></div><div class=\"sk-container\" hidden><div class=\"sk-item\"><div class=\"sk-estimator sk-toggleable\"><input class=\"sk-toggleable__control sk-hidden--visually\" id=\"sk-estimator-id-2\" type=\"checkbox\" checked><label for=\"sk-estimator-id-2\" class=\"sk-toggleable__label sk-toggleable__label-arrow\">LabelEncoder</label><div class=\"sk-toggleable__content\"><pre>LabelEncoder()</pre></div></div></div></div></div>"
      ],
      "text/plain": [
       "LabelEncoder()"
      ]
     },
     "execution_count": 92,
     "metadata": {},
     "output_type": "execute_result"
    }
   ],
   "source": [
    "from sklearn.preprocessing import LabelEncoder\n",
    "coder=LabelEncoder()\n",
    "coder.fit(y_train)"
   ]
  },
  {
   "cell_type": "code",
   "execution_count": 93,
   "id": "6ae25210",
   "metadata": {},
   "outputs": [],
   "source": [
    "y_train=coder.transform(y_train)"
   ]
  },
  {
   "cell_type": "code",
   "execution_count": 94,
   "id": "f316d466",
   "metadata": {},
   "outputs": [],
   "source": [
    "y_train=pd.DataFrame(y_train)"
   ]
  },
  {
   "cell_type": "code",
   "execution_count": 95,
   "id": "b5e7e3d1",
   "metadata": {},
   "outputs": [],
   "source": [
    "y_test=coder.transform(y_test)"
   ]
  },
  {
   "cell_type": "code",
   "execution_count": 96,
   "id": "988ed790",
   "metadata": {},
   "outputs": [],
   "source": [
    "y_test=pd.DataFrame(y_test)"
   ]
  },
  {
   "cell_type": "markdown",
   "id": "089ca1bf",
   "metadata": {},
   "source": [
    "# Logistic Regression"
   ]
  },
  {
   "cell_type": "code",
   "execution_count": 97,
   "id": "f4b4eb0f",
   "metadata": {},
   "outputs": [],
   "source": [
    "from sklearn.linear_model import LogisticRegression"
   ]
  },
  {
   "cell_type": "code",
   "execution_count": 98,
   "id": "444e298e",
   "metadata": {},
   "outputs": [],
   "source": [
    "model = LogisticRegression(multi_class='multinomial',solver='lbfgs')"
   ]
  },
  {
   "cell_type": "code",
   "execution_count": 99,
   "id": "dacc9481",
   "metadata": {},
   "outputs": [
    {
     "data": {
      "text/html": [
       "<style>#sk-container-id-3 {color: black;background-color: white;}#sk-container-id-3 pre{padding: 0;}#sk-container-id-3 div.sk-toggleable {background-color: white;}#sk-container-id-3 label.sk-toggleable__label {cursor: pointer;display: block;width: 100%;margin-bottom: 0;padding: 0.3em;box-sizing: border-box;text-align: center;}#sk-container-id-3 label.sk-toggleable__label-arrow:before {content: \"▸\";float: left;margin-right: 0.25em;color: #696969;}#sk-container-id-3 label.sk-toggleable__label-arrow:hover:before {color: black;}#sk-container-id-3 div.sk-estimator:hover label.sk-toggleable__label-arrow:before {color: black;}#sk-container-id-3 div.sk-toggleable__content {max-height: 0;max-width: 0;overflow: hidden;text-align: left;background-color: #f0f8ff;}#sk-container-id-3 div.sk-toggleable__content pre {margin: 0.2em;color: black;border-radius: 0.25em;background-color: #f0f8ff;}#sk-container-id-3 input.sk-toggleable__control:checked~div.sk-toggleable__content {max-height: 200px;max-width: 100%;overflow: auto;}#sk-container-id-3 input.sk-toggleable__control:checked~label.sk-toggleable__label-arrow:before {content: \"▾\";}#sk-container-id-3 div.sk-estimator input.sk-toggleable__control:checked~label.sk-toggleable__label {background-color: #d4ebff;}#sk-container-id-3 div.sk-label input.sk-toggleable__control:checked~label.sk-toggleable__label {background-color: #d4ebff;}#sk-container-id-3 input.sk-hidden--visually {border: 0;clip: rect(1px 1px 1px 1px);clip: rect(1px, 1px, 1px, 1px);height: 1px;margin: -1px;overflow: hidden;padding: 0;position: absolute;width: 1px;}#sk-container-id-3 div.sk-estimator {font-family: monospace;background-color: #f0f8ff;border: 1px dotted black;border-radius: 0.25em;box-sizing: border-box;margin-bottom: 0.5em;}#sk-container-id-3 div.sk-estimator:hover {background-color: #d4ebff;}#sk-container-id-3 div.sk-parallel-item::after {content: \"\";width: 100%;border-bottom: 1px solid gray;flex-grow: 1;}#sk-container-id-3 div.sk-label:hover label.sk-toggleable__label {background-color: #d4ebff;}#sk-container-id-3 div.sk-serial::before {content: \"\";position: absolute;border-left: 1px solid gray;box-sizing: border-box;top: 0;bottom: 0;left: 50%;z-index: 0;}#sk-container-id-3 div.sk-serial {display: flex;flex-direction: column;align-items: center;background-color: white;padding-right: 0.2em;padding-left: 0.2em;position: relative;}#sk-container-id-3 div.sk-item {position: relative;z-index: 1;}#sk-container-id-3 div.sk-parallel {display: flex;align-items: stretch;justify-content: center;background-color: white;position: relative;}#sk-container-id-3 div.sk-item::before, #sk-container-id-3 div.sk-parallel-item::before {content: \"\";position: absolute;border-left: 1px solid gray;box-sizing: border-box;top: 0;bottom: 0;left: 50%;z-index: -1;}#sk-container-id-3 div.sk-parallel-item {display: flex;flex-direction: column;z-index: 1;position: relative;background-color: white;}#sk-container-id-3 div.sk-parallel-item:first-child::after {align-self: flex-end;width: 50%;}#sk-container-id-3 div.sk-parallel-item:last-child::after {align-self: flex-start;width: 50%;}#sk-container-id-3 div.sk-parallel-item:only-child::after {width: 0;}#sk-container-id-3 div.sk-dashed-wrapped {border: 1px dashed gray;margin: 0 0.4em 0.5em 0.4em;box-sizing: border-box;padding-bottom: 0.4em;background-color: white;}#sk-container-id-3 div.sk-label label {font-family: monospace;font-weight: bold;display: inline-block;line-height: 1.2em;}#sk-container-id-3 div.sk-label-container {text-align: center;}#sk-container-id-3 div.sk-container {/* jupyter's `normalize.less` sets `[hidden] { display: none; }` but bootstrap.min.css set `[hidden] { display: none !important; }` so we also need the `!important` here to be able to override the default hidden behavior on the sphinx rendered scikit-learn.org. See: https://github.com/scikit-learn/scikit-learn/issues/21755 */display: inline-block !important;position: relative;}#sk-container-id-3 div.sk-text-repr-fallback {display: none;}</style><div id=\"sk-container-id-3\" class=\"sk-top-container\"><div class=\"sk-text-repr-fallback\"><pre>LogisticRegression(multi_class=&#x27;multinomial&#x27;)</pre><b>In a Jupyter environment, please rerun this cell to show the HTML representation or trust the notebook. <br />On GitHub, the HTML representation is unable to render, please try loading this page with nbviewer.org.</b></div><div class=\"sk-container\" hidden><div class=\"sk-item\"><div class=\"sk-estimator sk-toggleable\"><input class=\"sk-toggleable__control sk-hidden--visually\" id=\"sk-estimator-id-3\" type=\"checkbox\" checked><label for=\"sk-estimator-id-3\" class=\"sk-toggleable__label sk-toggleable__label-arrow\">LogisticRegression</label><div class=\"sk-toggleable__content\"><pre>LogisticRegression(multi_class=&#x27;multinomial&#x27;)</pre></div></div></div></div></div>"
      ],
      "text/plain": [
       "LogisticRegression(multi_class='multinomial')"
      ]
     },
     "execution_count": 99,
     "metadata": {},
     "output_type": "execute_result"
    }
   ],
   "source": [
    "model.fit(Train,y_train)"
   ]
  },
  {
   "cell_type": "code",
   "execution_count": 100,
   "id": "24cbb3a2",
   "metadata": {},
   "outputs": [],
   "source": [
    "train_pred=model.predict(Train)"
   ]
  },
  {
   "cell_type": "code",
   "execution_count": 101,
   "id": "83f12c9c",
   "metadata": {},
   "outputs": [],
   "source": [
    "v_pred=model.predict(validation)"
   ]
  },
  {
   "cell_type": "code",
   "execution_count": 102,
   "id": "4c570b74",
   "metadata": {},
   "outputs": [],
   "source": [
    "res_pret=model.predict(Test)"
   ]
  },
  {
   "cell_type": "code",
   "execution_count": 103,
   "id": "b47ddea9",
   "metadata": {},
   "outputs": [],
   "source": [
    "from sklearn.metrics import classification_report,confusion_matrix, mean_squared_error, r2_score"
   ]
  },
  {
   "cell_type": "code",
   "execution_count": 104,
   "id": "9743cb03",
   "metadata": {},
   "outputs": [
    {
     "name": "stdout",
     "output_type": "stream",
     "text": [
      "              precision    recall  f1-score   support\n",
      "\n",
      "           0       0.15      0.41      0.22      2280\n",
      "           1       0.92      0.53      0.68     21584\n",
      "           2       0.00      0.38      0.00        13\n",
      "\n",
      "    accuracy                           0.52     23877\n",
      "   macro avg       0.36      0.44      0.30     23877\n",
      "weighted avg       0.85      0.52      0.63     23877\n",
      "\n"
     ]
    }
   ],
   "source": [
    "print(classification_report(train_pred,y_train))"
   ]
  },
  {
   "cell_type": "code",
   "execution_count": 105,
   "id": "910bac2f",
   "metadata": {
    "scrolled": true
   },
   "outputs": [
    {
     "name": "stdout",
     "output_type": "stream",
     "text": [
      "              precision    recall  f1-score   support\n",
      "\n",
      "           0       0.14      0.40      0.21       997\n",
      "           1       0.91      0.53      0.67      9230\n",
      "           2       0.00      0.00      0.00         6\n",
      "\n",
      "    accuracy                           0.51     10233\n",
      "   macro avg       0.35      0.31      0.29     10233\n",
      "weighted avg       0.84      0.51      0.62     10233\n",
      "\n"
     ]
    }
   ],
   "source": [
    "print(classification_report(v_pred,y_test))"
   ]
  },
  {
   "cell_type": "code",
   "execution_count": 106,
   "id": "291689fd",
   "metadata": {},
   "outputs": [],
   "source": [
    "res_pret=pd.DataFrame(res_pret,columns=['Disposition'])"
   ]
  },
  {
   "cell_type": "code",
   "execution_count": 107,
   "id": "ed8fd857",
   "metadata": {},
   "outputs": [],
   "source": [
    "final=pd.concat([extra,res_pret],axis=1)"
   ]
  },
  {
   "cell_type": "code",
   "execution_count": 108,
   "id": "c6c85ac5",
   "metadata": {},
   "outputs": [],
   "source": [
    "final.to_csv('final_.csv',index=False)"
   ]
  },
  {
   "cell_type": "markdown",
   "id": "ebd433ee",
   "metadata": {},
   "source": [
    "# DecisionTree"
   ]
  },
  {
   "cell_type": "code",
   "execution_count": 109,
   "id": "702f00e2",
   "metadata": {},
   "outputs": [],
   "source": [
    "from sklearn.tree import DecisionTreeClassifier"
   ]
  },
  {
   "cell_type": "code",
   "execution_count": 110,
   "id": "fdbede78",
   "metadata": {},
   "outputs": [],
   "source": [
    "dtclf = DecisionTreeClassifier(max_depth=8)"
   ]
  },
  {
   "cell_type": "code",
   "execution_count": 111,
   "id": "6a57482c",
   "metadata": {},
   "outputs": [
    {
     "data": {
      "text/html": [
       "<style>#sk-container-id-4 {color: black;background-color: white;}#sk-container-id-4 pre{padding: 0;}#sk-container-id-4 div.sk-toggleable {background-color: white;}#sk-container-id-4 label.sk-toggleable__label {cursor: pointer;display: block;width: 100%;margin-bottom: 0;padding: 0.3em;box-sizing: border-box;text-align: center;}#sk-container-id-4 label.sk-toggleable__label-arrow:before {content: \"▸\";float: left;margin-right: 0.25em;color: #696969;}#sk-container-id-4 label.sk-toggleable__label-arrow:hover:before {color: black;}#sk-container-id-4 div.sk-estimator:hover label.sk-toggleable__label-arrow:before {color: black;}#sk-container-id-4 div.sk-toggleable__content {max-height: 0;max-width: 0;overflow: hidden;text-align: left;background-color: #f0f8ff;}#sk-container-id-4 div.sk-toggleable__content pre {margin: 0.2em;color: black;border-radius: 0.25em;background-color: #f0f8ff;}#sk-container-id-4 input.sk-toggleable__control:checked~div.sk-toggleable__content {max-height: 200px;max-width: 100%;overflow: auto;}#sk-container-id-4 input.sk-toggleable__control:checked~label.sk-toggleable__label-arrow:before {content: \"▾\";}#sk-container-id-4 div.sk-estimator input.sk-toggleable__control:checked~label.sk-toggleable__label {background-color: #d4ebff;}#sk-container-id-4 div.sk-label input.sk-toggleable__control:checked~label.sk-toggleable__label {background-color: #d4ebff;}#sk-container-id-4 input.sk-hidden--visually {border: 0;clip: rect(1px 1px 1px 1px);clip: rect(1px, 1px, 1px, 1px);height: 1px;margin: -1px;overflow: hidden;padding: 0;position: absolute;width: 1px;}#sk-container-id-4 div.sk-estimator {font-family: monospace;background-color: #f0f8ff;border: 1px dotted black;border-radius: 0.25em;box-sizing: border-box;margin-bottom: 0.5em;}#sk-container-id-4 div.sk-estimator:hover {background-color: #d4ebff;}#sk-container-id-4 div.sk-parallel-item::after {content: \"\";width: 100%;border-bottom: 1px solid gray;flex-grow: 1;}#sk-container-id-4 div.sk-label:hover label.sk-toggleable__label {background-color: #d4ebff;}#sk-container-id-4 div.sk-serial::before {content: \"\";position: absolute;border-left: 1px solid gray;box-sizing: border-box;top: 0;bottom: 0;left: 50%;z-index: 0;}#sk-container-id-4 div.sk-serial {display: flex;flex-direction: column;align-items: center;background-color: white;padding-right: 0.2em;padding-left: 0.2em;position: relative;}#sk-container-id-4 div.sk-item {position: relative;z-index: 1;}#sk-container-id-4 div.sk-parallel {display: flex;align-items: stretch;justify-content: center;background-color: white;position: relative;}#sk-container-id-4 div.sk-item::before, #sk-container-id-4 div.sk-parallel-item::before {content: \"\";position: absolute;border-left: 1px solid gray;box-sizing: border-box;top: 0;bottom: 0;left: 50%;z-index: -1;}#sk-container-id-4 div.sk-parallel-item {display: flex;flex-direction: column;z-index: 1;position: relative;background-color: white;}#sk-container-id-4 div.sk-parallel-item:first-child::after {align-self: flex-end;width: 50%;}#sk-container-id-4 div.sk-parallel-item:last-child::after {align-self: flex-start;width: 50%;}#sk-container-id-4 div.sk-parallel-item:only-child::after {width: 0;}#sk-container-id-4 div.sk-dashed-wrapped {border: 1px dashed gray;margin: 0 0.4em 0.5em 0.4em;box-sizing: border-box;padding-bottom: 0.4em;background-color: white;}#sk-container-id-4 div.sk-label label {font-family: monospace;font-weight: bold;display: inline-block;line-height: 1.2em;}#sk-container-id-4 div.sk-label-container {text-align: center;}#sk-container-id-4 div.sk-container {/* jupyter's `normalize.less` sets `[hidden] { display: none; }` but bootstrap.min.css set `[hidden] { display: none !important; }` so we also need the `!important` here to be able to override the default hidden behavior on the sphinx rendered scikit-learn.org. See: https://github.com/scikit-learn/scikit-learn/issues/21755 */display: inline-block !important;position: relative;}#sk-container-id-4 div.sk-text-repr-fallback {display: none;}</style><div id=\"sk-container-id-4\" class=\"sk-top-container\"><div class=\"sk-text-repr-fallback\"><pre>DecisionTreeClassifier(max_depth=8)</pre><b>In a Jupyter environment, please rerun this cell to show the HTML representation or trust the notebook. <br />On GitHub, the HTML representation is unable to render, please try loading this page with nbviewer.org.</b></div><div class=\"sk-container\" hidden><div class=\"sk-item\"><div class=\"sk-estimator sk-toggleable\"><input class=\"sk-toggleable__control sk-hidden--visually\" id=\"sk-estimator-id-4\" type=\"checkbox\" checked><label for=\"sk-estimator-id-4\" class=\"sk-toggleable__label sk-toggleable__label-arrow\">DecisionTreeClassifier</label><div class=\"sk-toggleable__content\"><pre>DecisionTreeClassifier(max_depth=8)</pre></div></div></div></div></div>"
      ],
      "text/plain": [
       "DecisionTreeClassifier(max_depth=8)"
      ]
     },
     "execution_count": 111,
     "metadata": {},
     "output_type": "execute_result"
    }
   ],
   "source": [
    "dtclf.fit(Train, y_train)"
   ]
  },
  {
   "cell_type": "code",
   "execution_count": 112,
   "id": "aa35a260",
   "metadata": {},
   "outputs": [],
   "source": [
    "dstrain_pred=dtclf.predict(Train)\n",
    "y_train_p=dtclf.predict(Train)"
   ]
  },
  {
   "cell_type": "code",
   "execution_count": 113,
   "id": "ddc8218d",
   "metadata": {},
   "outputs": [],
   "source": [
    "v_predt=dtclf.predict(validation)\n",
    "res=dtclf.predict(Test)"
   ]
  },
  {
   "cell_type": "code",
   "execution_count": 114,
   "id": "6c95307f",
   "metadata": {},
   "outputs": [
    {
     "name": "stdout",
     "output_type": "stream",
     "text": [
      "              precision    recall  f1-score   support\n",
      "\n",
      "           0       0.25      0.55      0.35      2917\n",
      "           1       0.92      0.55      0.69     20949\n",
      "           2       0.00      0.73      0.00        11\n",
      "\n",
      "    accuracy                           0.55     23877\n",
      "   macro avg       0.39      0.61      0.35     23877\n",
      "weighted avg       0.84      0.55      0.65     23877\n",
      "\n"
     ]
    }
   ],
   "source": [
    "print(classification_report(y_train_p,y_train))"
   ]
  },
  {
   "cell_type": "code",
   "execution_count": 115,
   "id": "4f403249",
   "metadata": {
    "scrolled": true
   },
   "outputs": [
    {
     "name": "stdout",
     "output_type": "stream",
     "text": [
      "              precision    recall  f1-score   support\n",
      "\n",
      "           0       0.24      0.54      0.34      1226\n",
      "           1       0.92      0.54      0.68      9005\n",
      "           2       0.00      0.00      0.00         2\n",
      "\n",
      "    accuracy                           0.54     10233\n",
      "   macro avg       0.39      0.36      0.34     10233\n",
      "weighted avg       0.84      0.54      0.64     10233\n",
      "\n"
     ]
    }
   ],
   "source": [
    "print(classification_report(v_predt,y_test))"
   ]
  },
  {
   "cell_type": "code",
   "execution_count": 116,
   "id": "5a3e84e9",
   "metadata": {},
   "outputs": [],
   "source": [
    "res=pd.DataFrame(res,columns=['Disposition'])"
   ]
  },
  {
   "cell_type": "code",
   "execution_count": 117,
   "id": "9e2ccf7d",
   "metadata": {},
   "outputs": [],
   "source": [
    "\n",
    "res['Disposition']=coder.inverse_transform(res['Disposition'])"
   ]
  },
  {
   "cell_type": "code",
   "execution_count": 118,
   "id": "4dbae661",
   "metadata": {},
   "outputs": [],
   "source": [
    "final=pd.concat([extra,res],axis=1)"
   ]
  },
  {
   "cell_type": "code",
   "execution_count": 119,
   "id": "73e9286f",
   "metadata": {},
   "outputs": [
    {
     "data": {
      "text/html": [
       "<div>\n",
       "<style scoped>\n",
       "    .dataframe tbody tr th:only-of-type {\n",
       "        vertical-align: middle;\n",
       "    }\n",
       "\n",
       "    .dataframe tbody tr th {\n",
       "        vertical-align: top;\n",
       "    }\n",
       "\n",
       "    .dataframe thead th {\n",
       "        text-align: right;\n",
       "    }\n",
       "</style>\n",
       "<table border=\"1\" class=\"dataframe\">\n",
       "  <thead>\n",
       "    <tr style=\"text-align: right;\">\n",
       "      <th></th>\n",
       "      <th>Claim Number</th>\n",
       "      <th>Disposition</th>\n",
       "    </tr>\n",
       "  </thead>\n",
       "  <tbody>\n",
       "    <tr>\n",
       "      <th>1915</th>\n",
       "      <td>00LTK2A09U</td>\n",
       "      <td>Deny</td>\n",
       "    </tr>\n",
       "    <tr>\n",
       "      <th>3176</th>\n",
       "      <td>00TNO7I9XD</td>\n",
       "      <td>Deny</td>\n",
       "    </tr>\n",
       "    <tr>\n",
       "      <th>311</th>\n",
       "      <td>00YBMA2GVY</td>\n",
       "      <td>Deny</td>\n",
       "    </tr>\n",
       "    <tr>\n",
       "      <th>525</th>\n",
       "      <td>01YMPCBPFM</td>\n",
       "      <td>Deny</td>\n",
       "    </tr>\n",
       "    <tr>\n",
       "      <th>92</th>\n",
       "      <td>02CF66I634</td>\n",
       "      <td>Deny</td>\n",
       "    </tr>\n",
       "  </tbody>\n",
       "</table>\n",
       "</div>"
      ],
      "text/plain": [
       "     Claim Number Disposition\n",
       "1915   00LTK2A09U        Deny\n",
       "3176   00TNO7I9XD        Deny\n",
       "311    00YBMA2GVY        Deny\n",
       "525    01YMPCBPFM        Deny\n",
       "92     02CF66I634        Deny"
      ]
     },
     "execution_count": 119,
     "metadata": {},
     "output_type": "execute_result"
    }
   ],
   "source": [
    "final.head()"
   ]
  },
  {
   "cell_type": "code",
   "execution_count": 120,
   "id": "eee0a33b",
   "metadata": {},
   "outputs": [],
   "source": [
    "final.to_csv('final_report.csv',index=False)"
   ]
  },
  {
   "cell_type": "markdown",
   "id": "0229bafe",
   "metadata": {},
   "source": [
    "# Random forest"
   ]
  },
  {
   "cell_type": "code",
   "execution_count": 121,
   "id": "731629ee",
   "metadata": {},
   "outputs": [],
   "source": [
    "from sklearn.ensemble import RandomForestClassifier\n",
    "\n",
    "RF = RandomForestClassifier(n_estimators=30, random_state=0)\n",
    "RF.fit(Train, y_train)\n",
    "train_pred = RF.predict(Train)\n",
    "valid_pred = RF.predict(validation)\n",
    "Test_res = RF.predict(Test)"
   ]
  },
  {
   "cell_type": "code",
   "execution_count": 122,
   "id": "407f4bdc",
   "metadata": {},
   "outputs": [
    {
     "name": "stdout",
     "output_type": "stream",
     "text": [
      "              precision    recall  f1-score   support\n",
      "\n",
      "           0       0.31      0.53      0.39      3672\n",
      "           1       0.89      0.56      0.69     19781\n",
      "           2       0.04      0.48      0.07       424\n",
      "\n",
      "    accuracy                           0.56     23877\n",
      "   macro avg       0.41      0.53      0.39     23877\n",
      "weighted avg       0.79      0.56      0.63     23877\n",
      "\n"
     ]
    }
   ],
   "source": [
    "print(classification_report(train_pred,y_train))"
   ]
  },
  {
   "cell_type": "code",
   "execution_count": 123,
   "id": "d339148f",
   "metadata": {},
   "outputs": [
    {
     "name": "stdout",
     "output_type": "stream",
     "text": [
      "              precision    recall  f1-score   support\n",
      "\n",
      "           0       0.28      0.50      0.36      1540\n",
      "           1       0.88      0.55      0.68      8528\n",
      "           2       0.02      0.30      0.04       165\n",
      "\n",
      "    accuracy                           0.54     10233\n",
      "   macro avg       0.40      0.45      0.36     10233\n",
      "weighted avg       0.78      0.54      0.62     10233\n",
      "\n"
     ]
    }
   ],
   "source": [
    "print(classification_report(valid_pred,y_test))"
   ]
  },
  {
   "cell_type": "code",
   "execution_count": 139,
   "id": "3976cd70",
   "metadata": {},
   "outputs": [],
   "source": [
    "from sklearn.model_selection import GridSearchCV,RandomizedSearchCV\n",
    "parameters={'n_estimators': [20, 30],\n",
    "    'max_features': ['auto', 'sqrt', 'log2'],\n",
    "    'max_depth' : [4,7,11],\n",
    "    }\n",
    "gscv=GridSearchCV(estimator=RF,param_grid=parameters,scoring='recall',n_jobs=-1,cv=15)"
   ]
  },
  {
   "cell_type": "code",
   "execution_count": 140,
   "id": "74a7ce2e",
   "metadata": {},
   "outputs": [],
   "source": [
    "\n",
    "gscv=gscv.fit(Train,y_train)"
   ]
  },
  {
   "cell_type": "code",
   "execution_count": 141,
   "id": "da3b5b99",
   "metadata": {},
   "outputs": [
    {
     "data": {
      "text/plain": [
       "{'max_depth': 4, 'max_features': 'auto', 'n_estimators': 20}"
      ]
     },
     "execution_count": 141,
     "metadata": {},
     "output_type": "execute_result"
    }
   ],
   "source": [
    "gscv.best_params_"
   ]
  },
  {
   "cell_type": "code",
   "execution_count": 125,
   "id": "45952b16",
   "metadata": {},
   "outputs": [],
   "source": [
    "from sklearn.ensemble import RandomForestClassifier\n",
    "\n",
    "RF = RandomForestClassifier(n_estimators=20, random_state=0,max_features='auto',max_depth=4)\n",
    "RF.fit(Train, y_train)\n",
    "train_pred = RF.predict(Train)\n",
    "valid_pred = RF.predict(validation)\n",
    "Test_res = RF.predict(Test)"
   ]
  },
  {
   "cell_type": "code",
   "execution_count": 126,
   "id": "eabd3976",
   "metadata": {},
   "outputs": [
    {
     "name": "stdout",
     "output_type": "stream",
     "text": [
      "              precision    recall  f1-score   support\n",
      "\n",
      "           0       0.02      0.62      0.04       221\n",
      "           1       1.00      0.53      0.69     23656\n",
      "           2       0.00      0.00      0.00         0\n",
      "\n",
      "    accuracy                           0.53     23877\n",
      "   macro avg       0.34      0.38      0.24     23877\n",
      "weighted avg       0.99      0.53      0.68     23877\n",
      "\n"
     ]
    }
   ],
   "source": [
    "print(classification_report(train_pred,y_train))"
   ]
  },
  {
   "cell_type": "code",
   "execution_count": 127,
   "id": "c780a84c",
   "metadata": {},
   "outputs": [
    {
     "name": "stdout",
     "output_type": "stream",
     "text": [
      "              precision    recall  f1-score   support\n",
      "\n",
      "           0       0.02      0.57      0.04       103\n",
      "           1       1.00      0.52      0.69     10130\n",
      "           2       0.00      0.00      0.00         0\n",
      "\n",
      "    accuracy                           0.52     10233\n",
      "   macro avg       0.34      0.37      0.24     10233\n",
      "weighted avg       0.99      0.52      0.68     10233\n",
      "\n"
     ]
    }
   ],
   "source": [
    "print(classification_report(valid_pred,y_test))"
   ]
  }
 ],
 "metadata": {
  "kernelspec": {
   "display_name": "Python 3 (ipykernel)",
   "language": "python",
   "name": "python3"
  },
  "language_info": {
   "codemirror_mode": {
    "name": "ipython",
    "version": 3
   },
   "file_extension": ".py",
   "mimetype": "text/x-python",
   "name": "python",
   "nbconvert_exporter": "python",
   "pygments_lexer": "ipython3",
   "version": "3.9.12"
  }
 },
 "nbformat": 4,
 "nbformat_minor": 5
}
