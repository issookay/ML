{
 "cells": [
  {
   "cell_type": "code",
   "execution_count": 2,
   "metadata": {
    "colab": {
     "base_uri": "https://localhost:8080/"
    },
    "executionInfo": {
     "elapsed": 26409,
     "status": "ok",
     "timestamp": 1669002147722,
     "user": {
      "displayName": "Mallikarjun Thripuraboina",
      "userId": "01775111500134944659"
     },
     "user_tz": -330
    },
    "id": "DPBK7n2r6pNA",
    "outputId": "23146630-5d17-4cc8-8e64-a48ade2f9027",
    "scrolled": true
   },
   "outputs": [
    {
     "name": "stdout",
     "output_type": "stream",
     "text": [
      "Mounted at /content/gdrive\n"
     ]
    }
   ],
   "source": [
    "# from google.colab import drive\n",
    "# drive.mount('/content/gdrive')"
   ]
  },
  {
   "cell_type": "code",
   "execution_count": 3,
   "metadata": {
    "executionInfo": {
     "elapsed": 41,
     "status": "ok",
     "timestamp": 1669002147723,
     "user": {
      "displayName": "Mallikarjun Thripuraboina",
      "userId": "01775111500134944659"
     },
     "user_tz": -330
    },
    "id": "QIFd0LVk69AX"
   },
   "outputs": [],
   "source": [
    "# import os\n",
    "# PATH='/content/gdrive/MyDrive/Machine Learning Modelling'\n",
    "# os.chdir(PATH)"
   ]
  },
  {
   "cell_type": "markdown",
   "metadata": {
    "id": "bLCbJL3ZAqV4"
   },
   "source": [
    "<h2> TRAIN DATASET "
   ]
  },
  {
   "cell_type": "markdown",
   "metadata": {
    "id": "p60fV45CCWDz"
   },
   "source": [
    "<h2>Read Data</h2>\n",
    "<p>\n",
    "We use <code>pandas.read_csv()</code> function to read the csv file. In the brackets, we put the file path along with a quotation mark so that pandas will read the file into a dataframe from that address. The file path can be either an URL or your local file address.<br>\n"
   ]
  },
  {
   "cell_type": "code",
   "execution_count": 4,
   "metadata": {
    "executionInfo": {
     "elapsed": 41,
     "status": "ok",
     "timestamp": 1669002147725,
     "user": {
      "displayName": "Mallikarjun Thripuraboina",
      "userId": "01775111500134944659"
     },
     "user_tz": -330
    },
    "id": "zQfLxV2C7YwE"
   },
   "outputs": [],
   "source": [
    "TRAIN = pd.read_csv('TRAIN.csv', na_values=['?','#',' '])"
   ]
  },
  {
   "cell_type": "markdown",
   "metadata": {
    "id": "TtFLCR5sDGYf"
   },
   "source": [
    "We need to replace the \"?\" , \"#\" , symbol with NaN. SO that pandas can read \"?\",\"#\" , as NAN values.\n"
   ]
  },
  {
   "cell_type": "markdown",
   "metadata": {
    "id": "M4NUcRk5Cs8F"
   },
   "source": [
    "After reading the dataset, we can use the <code>dataframe.head(n)</code> method to check the top n rows of the dataframe, where n is an integer. Contrary to <code>dataframe.head(n)</code>, <code>dataframe.tail(n)</code> will show you the bottom n rows of the dataframe.\n"
   ]
  },
  {
   "cell_type": "code",
   "execution_count": 5,
   "metadata": {
    "colab": {
     "base_uri": "https://localhost:8080/",
     "height": 0
    },
    "executionInfo": {
     "elapsed": 41,
     "status": "ok",
     "timestamp": 1669002147726,
     "user": {
      "displayName": "Mallikarjun Thripuraboina",
      "userId": "01775111500134944659"
     },
     "user_tz": -330
    },
    "id": "JZ0Ap7PkCr-o",
    "outputId": "b3580784-5c26-4062-d82f-1bfa7019d16b"
   },
   "outputs": [
    {
     "data": {
      "text/html": [
       "\n",
       "  <div id=\"df-7e643abb-29f0-4b7b-bf23-c9770b8ae5bf\">\n",
       "    <div class=\"colab-df-container\">\n",
       "      <div>\n",
       "<style scoped>\n",
       "    .dataframe tbody tr th:only-of-type {\n",
       "        vertical-align: middle;\n",
       "    }\n",
       "\n",
       "    .dataframe tbody tr th {\n",
       "        vertical-align: top;\n",
       "    }\n",
       "\n",
       "    .dataframe thead th {\n",
       "        text-align: right;\n",
       "    }\n",
       "</style>\n",
       "<table border=\"1\" class=\"dataframe\">\n",
       "  <thead>\n",
       "    <tr style=\"text-align: right;\">\n",
       "      <th></th>\n",
       "      <th>CustomerID</th>\n",
       "      <th>Customer.Lifetime.Value</th>\n",
       "      <th>Coverage</th>\n",
       "      <th>Education</th>\n",
       "      <th>EmploymentStatus</th>\n",
       "      <th>Gender</th>\n",
       "      <th>Income</th>\n",
       "      <th>Location.Geo</th>\n",
       "      <th>Location.Code</th>\n",
       "      <th>Marital.Status</th>\n",
       "      <th>...</th>\n",
       "      <th>Months.Since.Policy.Inception</th>\n",
       "      <th>Number.of.Open.Complaints</th>\n",
       "      <th>Number.of.Policies</th>\n",
       "      <th>Policy.Type</th>\n",
       "      <th>Policy</th>\n",
       "      <th>Renew.Offer.Type</th>\n",
       "      <th>Sales.Channel</th>\n",
       "      <th>Total.Claim.Amount</th>\n",
       "      <th>Vehicle.Class</th>\n",
       "      <th>Vehicle.Size</th>\n",
       "    </tr>\n",
       "  </thead>\n",
       "  <tbody>\n",
       "    <tr>\n",
       "      <th>0</th>\n",
       "      <td>5917</td>\n",
       "      <td>7824.372789</td>\n",
       "      <td>Basic</td>\n",
       "      <td>Bachelor</td>\n",
       "      <td>Unemployed</td>\n",
       "      <td>F</td>\n",
       "      <td>0.0</td>\n",
       "      <td>17.7,77.7</td>\n",
       "      <td>Urban</td>\n",
       "      <td>Married</td>\n",
       "      <td>...</td>\n",
       "      <td>33</td>\n",
       "      <td>NaN</td>\n",
       "      <td>2.0</td>\n",
       "      <td>Personal Auto</td>\n",
       "      <td>Personal L2</td>\n",
       "      <td>Offer2</td>\n",
       "      <td>Branch</td>\n",
       "      <td>267.214383</td>\n",
       "      <td>Four-Door Car</td>\n",
       "      <td>2.0</td>\n",
       "    </tr>\n",
       "    <tr>\n",
       "      <th>1</th>\n",
       "      <td>2057</td>\n",
       "      <td>8005.964669</td>\n",
       "      <td>Basic</td>\n",
       "      <td>College</td>\n",
       "      <td>Employed</td>\n",
       "      <td>M</td>\n",
       "      <td>63357.0</td>\n",
       "      <td>28.8,76.6</td>\n",
       "      <td>Suburban</td>\n",
       "      <td>Married</td>\n",
       "      <td>...</td>\n",
       "      <td>42</td>\n",
       "      <td>0.0</td>\n",
       "      <td>5.0</td>\n",
       "      <td>Personal Auto</td>\n",
       "      <td>Personal L2</td>\n",
       "      <td>Offer2</td>\n",
       "      <td>Agent</td>\n",
       "      <td>565.508572</td>\n",
       "      <td>SUV</td>\n",
       "      <td>2.0</td>\n",
       "    </tr>\n",
       "    <tr>\n",
       "      <th>2</th>\n",
       "      <td>4119</td>\n",
       "      <td>8646.504109</td>\n",
       "      <td>Basic</td>\n",
       "      <td>High School or Below</td>\n",
       "      <td>Employed</td>\n",
       "      <td>F</td>\n",
       "      <td>64125.0</td>\n",
       "      <td>21.6,88.4</td>\n",
       "      <td>Urban</td>\n",
       "      <td>Married</td>\n",
       "      <td>...</td>\n",
       "      <td>44</td>\n",
       "      <td>0.0</td>\n",
       "      <td>3.0</td>\n",
       "      <td>Personal Auto</td>\n",
       "      <td>Personal L1</td>\n",
       "      <td>Offer2</td>\n",
       "      <td>Branch</td>\n",
       "      <td>369.818708</td>\n",
       "      <td>SUV</td>\n",
       "      <td>1.0</td>\n",
       "    </tr>\n",
       "    <tr>\n",
       "      <th>3</th>\n",
       "      <td>1801</td>\n",
       "      <td>9294.088719</td>\n",
       "      <td>Basic</td>\n",
       "      <td>College</td>\n",
       "      <td>Employed</td>\n",
       "      <td>M</td>\n",
       "      <td>67544.0</td>\n",
       "      <td>19,72.5</td>\n",
       "      <td>Suburban</td>\n",
       "      <td>Married</td>\n",
       "      <td>...</td>\n",
       "      <td>15</td>\n",
       "      <td>NaN</td>\n",
       "      <td>3.0</td>\n",
       "      <td>Corporate Auto</td>\n",
       "      <td>Corporate L3</td>\n",
       "      <td>Offer1</td>\n",
       "      <td>Branch</td>\n",
       "      <td>556.800000</td>\n",
       "      <td>SUV</td>\n",
       "      <td>3.0</td>\n",
       "    </tr>\n",
       "    <tr>\n",
       "      <th>4</th>\n",
       "      <td>9618</td>\n",
       "      <td>5595.971365</td>\n",
       "      <td>Basic</td>\n",
       "      <td>Bachelor</td>\n",
       "      <td>Retired</td>\n",
       "      <td>F</td>\n",
       "      <td>19651.0</td>\n",
       "      <td>19.1,74.7</td>\n",
       "      <td>Suburban</td>\n",
       "      <td>Married</td>\n",
       "      <td>...</td>\n",
       "      <td>68</td>\n",
       "      <td>0.0</td>\n",
       "      <td>5.0</td>\n",
       "      <td>Personal Auto</td>\n",
       "      <td>Personal L1</td>\n",
       "      <td>Offer2</td>\n",
       "      <td>Web</td>\n",
       "      <td>345.600000</td>\n",
       "      <td>Two-Door Car</td>\n",
       "      <td>3.0</td>\n",
       "    </tr>\n",
       "  </tbody>\n",
       "</table>\n",
       "<p>5 rows × 22 columns</p>\n",
       "</div>\n",
       "      <button class=\"colab-df-convert\" onclick=\"convertToInteractive('df-7e643abb-29f0-4b7b-bf23-c9770b8ae5bf')\"\n",
       "              title=\"Convert this dataframe to an interactive table.\"\n",
       "              style=\"display:none;\">\n",
       "        \n",
       "  <svg xmlns=\"http://www.w3.org/2000/svg\" height=\"24px\"viewBox=\"0 0 24 24\"\n",
       "       width=\"24px\">\n",
       "    <path d=\"M0 0h24v24H0V0z\" fill=\"none\"/>\n",
       "    <path d=\"M18.56 5.44l.94 2.06.94-2.06 2.06-.94-2.06-.94-.94-2.06-.94 2.06-2.06.94zm-11 1L8.5 8.5l.94-2.06 2.06-.94-2.06-.94L8.5 2.5l-.94 2.06-2.06.94zm10 10l.94 2.06.94-2.06 2.06-.94-2.06-.94-.94-2.06-.94 2.06-2.06.94z\"/><path d=\"M17.41 7.96l-1.37-1.37c-.4-.4-.92-.59-1.43-.59-.52 0-1.04.2-1.43.59L10.3 9.45l-7.72 7.72c-.78.78-.78 2.05 0 2.83L4 21.41c.39.39.9.59 1.41.59.51 0 1.02-.2 1.41-.59l7.78-7.78 2.81-2.81c.8-.78.8-2.07 0-2.86zM5.41 20L4 18.59l7.72-7.72 1.47 1.35L5.41 20z\"/>\n",
       "  </svg>\n",
       "      </button>\n",
       "      \n",
       "  <style>\n",
       "    .colab-df-container {\n",
       "      display:flex;\n",
       "      flex-wrap:wrap;\n",
       "      gap: 12px;\n",
       "    }\n",
       "\n",
       "    .colab-df-convert {\n",
       "      background-color: #E8F0FE;\n",
       "      border: none;\n",
       "      border-radius: 50%;\n",
       "      cursor: pointer;\n",
       "      display: none;\n",
       "      fill: #1967D2;\n",
       "      height: 32px;\n",
       "      padding: 0 0 0 0;\n",
       "      width: 32px;\n",
       "    }\n",
       "\n",
       "    .colab-df-convert:hover {\n",
       "      background-color: #E2EBFA;\n",
       "      box-shadow: 0px 1px 2px rgba(60, 64, 67, 0.3), 0px 1px 3px 1px rgba(60, 64, 67, 0.15);\n",
       "      fill: #174EA6;\n",
       "    }\n",
       "\n",
       "    [theme=dark] .colab-df-convert {\n",
       "      background-color: #3B4455;\n",
       "      fill: #D2E3FC;\n",
       "    }\n",
       "\n",
       "    [theme=dark] .colab-df-convert:hover {\n",
       "      background-color: #434B5C;\n",
       "      box-shadow: 0px 1px 3px 1px rgba(0, 0, 0, 0.15);\n",
       "      filter: drop-shadow(0px 1px 2px rgba(0, 0, 0, 0.3));\n",
       "      fill: #FFFFFF;\n",
       "    }\n",
       "  </style>\n",
       "\n",
       "      <script>\n",
       "        const buttonEl =\n",
       "          document.querySelector('#df-7e643abb-29f0-4b7b-bf23-c9770b8ae5bf button.colab-df-convert');\n",
       "        buttonEl.style.display =\n",
       "          google.colab.kernel.accessAllowed ? 'block' : 'none';\n",
       "\n",
       "        async function convertToInteractive(key) {\n",
       "          const element = document.querySelector('#df-7e643abb-29f0-4b7b-bf23-c9770b8ae5bf');\n",
       "          const dataTable =\n",
       "            await google.colab.kernel.invokeFunction('convertToInteractive',\n",
       "                                                     [key], {});\n",
       "          if (!dataTable) return;\n",
       "\n",
       "          const docLinkHtml = 'Like what you see? Visit the ' +\n",
       "            '<a target=\"_blank\" href=https://colab.research.google.com/notebooks/data_table.ipynb>data table notebook</a>'\n",
       "            + ' to learn more about interactive tables.';\n",
       "          element.innerHTML = '';\n",
       "          dataTable['output_type'] = 'display_data';\n",
       "          await google.colab.output.renderOutput(dataTable, element);\n",
       "          const docLink = document.createElement('div');\n",
       "          docLink.innerHTML = docLinkHtml;\n",
       "          element.appendChild(docLink);\n",
       "        }\n",
       "      </script>\n",
       "    </div>\n",
       "  </div>\n",
       "  "
      ],
      "text/plain": [
       "   CustomerID  Customer.Lifetime.Value Coverage             Education  \\\n",
       "0        5917              7824.372789    Basic              Bachelor   \n",
       "1        2057              8005.964669    Basic               College   \n",
       "2        4119              8646.504109    Basic  High School or Below   \n",
       "3        1801              9294.088719    Basic               College   \n",
       "4        9618              5595.971365    Basic              Bachelor   \n",
       "\n",
       "  EmploymentStatus Gender   Income Location.Geo Location.Code Marital.Status  \\\n",
       "0       Unemployed      F      0.0    17.7,77.7         Urban        Married   \n",
       "1         Employed      M  63357.0    28.8,76.6      Suburban        Married   \n",
       "2         Employed      F  64125.0    21.6,88.4         Urban        Married   \n",
       "3         Employed      M  67544.0      19,72.5      Suburban        Married   \n",
       "4          Retired      F  19651.0    19.1,74.7      Suburban        Married   \n",
       "\n",
       "   ...  Months.Since.Policy.Inception  Number.of.Open.Complaints  \\\n",
       "0  ...                             33                        NaN   \n",
       "1  ...                             42                        0.0   \n",
       "2  ...                             44                        0.0   \n",
       "3  ...                             15                        NaN   \n",
       "4  ...                             68                        0.0   \n",
       "\n",
       "   Number.of.Policies     Policy.Type        Policy Renew.Offer.Type  \\\n",
       "0                 2.0   Personal Auto   Personal L2           Offer2   \n",
       "1                 5.0   Personal Auto   Personal L2           Offer2   \n",
       "2                 3.0   Personal Auto   Personal L1           Offer2   \n",
       "3                 3.0  Corporate Auto  Corporate L3           Offer1   \n",
       "4                 5.0   Personal Auto   Personal L1           Offer2   \n",
       "\n",
       "  Sales.Channel Total.Claim.Amount  Vehicle.Class  Vehicle.Size  \n",
       "0        Branch         267.214383  Four-Door Car           2.0  \n",
       "1         Agent         565.508572            SUV           2.0  \n",
       "2        Branch         369.818708            SUV           1.0  \n",
       "3        Branch         556.800000            SUV           3.0  \n",
       "4           Web         345.600000   Two-Door Car           3.0  \n",
       "\n",
       "[5 rows x 22 columns]"
      ]
     },
     "execution_count": 5,
     "metadata": {},
     "output_type": "execute_result"
    }
   ],
   "source": [
    "TRAIN.head()"
   ]
  },
  {
   "cell_type": "code",
   "execution_count": 6,
   "metadata": {
    "colab": {
     "base_uri": "https://localhost:8080/",
     "height": 0
    },
    "executionInfo": {
     "elapsed": 40,
     "status": "ok",
     "timestamp": 1669002147728,
     "user": {
      "displayName": "Mallikarjun Thripuraboina",
      "userId": "01775111500134944659"
     },
     "user_tz": -330
    },
    "id": "0dFMhJCjCycv",
    "outputId": "65a822b9-9f3d-43a0-e271-141b6e56a0c6"
   },
   "outputs": [
    {
     "data": {
      "text/html": [
       "\n",
       "  <div id=\"df-0063c65e-749f-4888-8e01-c3b062e91b8e\">\n",
       "    <div class=\"colab-df-container\">\n",
       "      <div>\n",
       "<style scoped>\n",
       "    .dataframe tbody tr th:only-of-type {\n",
       "        vertical-align: middle;\n",
       "    }\n",
       "\n",
       "    .dataframe tbody tr th {\n",
       "        vertical-align: top;\n",
       "    }\n",
       "\n",
       "    .dataframe thead th {\n",
       "        text-align: right;\n",
       "    }\n",
       "</style>\n",
       "<table border=\"1\" class=\"dataframe\">\n",
       "  <thead>\n",
       "    <tr style=\"text-align: right;\">\n",
       "      <th></th>\n",
       "      <th>CustomerID</th>\n",
       "      <th>Customer.Lifetime.Value</th>\n",
       "      <th>Coverage</th>\n",
       "      <th>Education</th>\n",
       "      <th>EmploymentStatus</th>\n",
       "      <th>Gender</th>\n",
       "      <th>Income</th>\n",
       "      <th>Location.Geo</th>\n",
       "      <th>Location.Code</th>\n",
       "      <th>Marital.Status</th>\n",
       "      <th>...</th>\n",
       "      <th>Months.Since.Policy.Inception</th>\n",
       "      <th>Number.of.Open.Complaints</th>\n",
       "      <th>Number.of.Policies</th>\n",
       "      <th>Policy.Type</th>\n",
       "      <th>Policy</th>\n",
       "      <th>Renew.Offer.Type</th>\n",
       "      <th>Sales.Channel</th>\n",
       "      <th>Total.Claim.Amount</th>\n",
       "      <th>Vehicle.Class</th>\n",
       "      <th>Vehicle.Size</th>\n",
       "    </tr>\n",
       "  </thead>\n",
       "  <tbody>\n",
       "    <tr>\n",
       "      <th>9801</th>\n",
       "      <td>3735</td>\n",
       "      <td>20496.694260</td>\n",
       "      <td>Basic</td>\n",
       "      <td>High School or Below</td>\n",
       "      <td>Unemployed</td>\n",
       "      <td>F</td>\n",
       "      <td>0.0</td>\n",
       "      <td>12.7,79.4</td>\n",
       "      <td>Suburban</td>\n",
       "      <td>Single</td>\n",
       "      <td>...</td>\n",
       "      <td>72</td>\n",
       "      <td>0.0</td>\n",
       "      <td>2.0</td>\n",
       "      <td>Personal Auto</td>\n",
       "      <td>Personal L2</td>\n",
       "      <td>Offer1</td>\n",
       "      <td>Branch</td>\n",
       "      <td>307.200000</td>\n",
       "      <td>Four-Door Car</td>\n",
       "      <td>2.0</td>\n",
       "    </tr>\n",
       "    <tr>\n",
       "      <th>9802</th>\n",
       "      <td>5988</td>\n",
       "      <td>2592.437797</td>\n",
       "      <td>Basic</td>\n",
       "      <td>High School or Below</td>\n",
       "      <td>Employed</td>\n",
       "      <td>M</td>\n",
       "      <td>72421.0</td>\n",
       "      <td>18.6,72.3</td>\n",
       "      <td>Suburban</td>\n",
       "      <td>Married</td>\n",
       "      <td>...</td>\n",
       "      <td>23</td>\n",
       "      <td>0.0</td>\n",
       "      <td>1.0</td>\n",
       "      <td>Corporate Auto</td>\n",
       "      <td>Corporate L3</td>\n",
       "      <td>Offer2</td>\n",
       "      <td>Call Center</td>\n",
       "      <td>312.000000</td>\n",
       "      <td>Four-Door Car</td>\n",
       "      <td>3.0</td>\n",
       "    </tr>\n",
       "    <tr>\n",
       "      <th>9803</th>\n",
       "      <td>8767</td>\n",
       "      <td>3103.923041</td>\n",
       "      <td>Extended</td>\n",
       "      <td>College</td>\n",
       "      <td>Employed</td>\n",
       "      <td>F</td>\n",
       "      <td>74665.0</td>\n",
       "      <td>19.2,74.7</td>\n",
       "      <td>Urban</td>\n",
       "      <td>Married</td>\n",
       "      <td>...</td>\n",
       "      <td>90</td>\n",
       "      <td>2.0</td>\n",
       "      <td>1.0</td>\n",
       "      <td>Corporate Auto</td>\n",
       "      <td>Corporate L2</td>\n",
       "      <td>Offer2</td>\n",
       "      <td>Call Center</td>\n",
       "      <td>236.902001</td>\n",
       "      <td>Four-Door Car</td>\n",
       "      <td>2.0</td>\n",
       "    </tr>\n",
       "    <tr>\n",
       "      <th>9804</th>\n",
       "      <td>9900</td>\n",
       "      <td>9161.655119</td>\n",
       "      <td>Basic</td>\n",
       "      <td>High School or Below</td>\n",
       "      <td>Employed</td>\n",
       "      <td>F</td>\n",
       "      <td>91763.0</td>\n",
       "      <td>19.5,73.9</td>\n",
       "      <td>Urban</td>\n",
       "      <td>Married</td>\n",
       "      <td>...</td>\n",
       "      <td>64</td>\n",
       "      <td>0.0</td>\n",
       "      <td>3.0</td>\n",
       "      <td>Special Auto</td>\n",
       "      <td>Special L3</td>\n",
       "      <td>Offer1</td>\n",
       "      <td>Call Center</td>\n",
       "      <td>441.992043</td>\n",
       "      <td>SUV</td>\n",
       "      <td>3.0</td>\n",
       "    </tr>\n",
       "    <tr>\n",
       "      <th>9805</th>\n",
       "      <td>11323</td>\n",
       "      <td>8583.272854</td>\n",
       "      <td>Premium</td>\n",
       "      <td>High School or Below</td>\n",
       "      <td>Disabled</td>\n",
       "      <td>F</td>\n",
       "      <td>18017.0</td>\n",
       "      <td>17.2,78.2</td>\n",
       "      <td>Suburban</td>\n",
       "      <td>Divorced</td>\n",
       "      <td>...</td>\n",
       "      <td>54</td>\n",
       "      <td>0.0</td>\n",
       "      <td>9.0</td>\n",
       "      <td>Personal Auto</td>\n",
       "      <td>Personal L3</td>\n",
       "      <td>Offer2</td>\n",
       "      <td>Call Center</td>\n",
       "      <td>547.200000</td>\n",
       "      <td>Four-Door Car</td>\n",
       "      <td>2.0</td>\n",
       "    </tr>\n",
       "  </tbody>\n",
       "</table>\n",
       "<p>5 rows × 22 columns</p>\n",
       "</div>\n",
       "      <button class=\"colab-df-convert\" onclick=\"convertToInteractive('df-0063c65e-749f-4888-8e01-c3b062e91b8e')\"\n",
       "              title=\"Convert this dataframe to an interactive table.\"\n",
       "              style=\"display:none;\">\n",
       "        \n",
       "  <svg xmlns=\"http://www.w3.org/2000/svg\" height=\"24px\"viewBox=\"0 0 24 24\"\n",
       "       width=\"24px\">\n",
       "    <path d=\"M0 0h24v24H0V0z\" fill=\"none\"/>\n",
       "    <path d=\"M18.56 5.44l.94 2.06.94-2.06 2.06-.94-2.06-.94-.94-2.06-.94 2.06-2.06.94zm-11 1L8.5 8.5l.94-2.06 2.06-.94-2.06-.94L8.5 2.5l-.94 2.06-2.06.94zm10 10l.94 2.06.94-2.06 2.06-.94-2.06-.94-.94-2.06-.94 2.06-2.06.94z\"/><path d=\"M17.41 7.96l-1.37-1.37c-.4-.4-.92-.59-1.43-.59-.52 0-1.04.2-1.43.59L10.3 9.45l-7.72 7.72c-.78.78-.78 2.05 0 2.83L4 21.41c.39.39.9.59 1.41.59.51 0 1.02-.2 1.41-.59l7.78-7.78 2.81-2.81c.8-.78.8-2.07 0-2.86zM5.41 20L4 18.59l7.72-7.72 1.47 1.35L5.41 20z\"/>\n",
       "  </svg>\n",
       "      </button>\n",
       "      \n",
       "  <style>\n",
       "    .colab-df-container {\n",
       "      display:flex;\n",
       "      flex-wrap:wrap;\n",
       "      gap: 12px;\n",
       "    }\n",
       "\n",
       "    .colab-df-convert {\n",
       "      background-color: #E8F0FE;\n",
       "      border: none;\n",
       "      border-radius: 50%;\n",
       "      cursor: pointer;\n",
       "      display: none;\n",
       "      fill: #1967D2;\n",
       "      height: 32px;\n",
       "      padding: 0 0 0 0;\n",
       "      width: 32px;\n",
       "    }\n",
       "\n",
       "    .colab-df-convert:hover {\n",
       "      background-color: #E2EBFA;\n",
       "      box-shadow: 0px 1px 2px rgba(60, 64, 67, 0.3), 0px 1px 3px 1px rgba(60, 64, 67, 0.15);\n",
       "      fill: #174EA6;\n",
       "    }\n",
       "\n",
       "    [theme=dark] .colab-df-convert {\n",
       "      background-color: #3B4455;\n",
       "      fill: #D2E3FC;\n",
       "    }\n",
       "\n",
       "    [theme=dark] .colab-df-convert:hover {\n",
       "      background-color: #434B5C;\n",
       "      box-shadow: 0px 1px 3px 1px rgba(0, 0, 0, 0.15);\n",
       "      filter: drop-shadow(0px 1px 2px rgba(0, 0, 0, 0.3));\n",
       "      fill: #FFFFFF;\n",
       "    }\n",
       "  </style>\n",
       "\n",
       "      <script>\n",
       "        const buttonEl =\n",
       "          document.querySelector('#df-0063c65e-749f-4888-8e01-c3b062e91b8e button.colab-df-convert');\n",
       "        buttonEl.style.display =\n",
       "          google.colab.kernel.accessAllowed ? 'block' : 'none';\n",
       "\n",
       "        async function convertToInteractive(key) {\n",
       "          const element = document.querySelector('#df-0063c65e-749f-4888-8e01-c3b062e91b8e');\n",
       "          const dataTable =\n",
       "            await google.colab.kernel.invokeFunction('convertToInteractive',\n",
       "                                                     [key], {});\n",
       "          if (!dataTable) return;\n",
       "\n",
       "          const docLinkHtml = 'Like what you see? Visit the ' +\n",
       "            '<a target=\"_blank\" href=https://colab.research.google.com/notebooks/data_table.ipynb>data table notebook</a>'\n",
       "            + ' to learn more about interactive tables.';\n",
       "          element.innerHTML = '';\n",
       "          dataTable['output_type'] = 'display_data';\n",
       "          await google.colab.output.renderOutput(dataTable, element);\n",
       "          const docLink = document.createElement('div');\n",
       "          docLink.innerHTML = docLinkHtml;\n",
       "          element.appendChild(docLink);\n",
       "        }\n",
       "      </script>\n",
       "    </div>\n",
       "  </div>\n",
       "  "
      ],
      "text/plain": [
       "      CustomerID  Customer.Lifetime.Value  Coverage             Education  \\\n",
       "9801        3735             20496.694260     Basic  High School or Below   \n",
       "9802        5988              2592.437797     Basic  High School or Below   \n",
       "9803        8767              3103.923041  Extended               College   \n",
       "9804        9900              9161.655119     Basic  High School or Below   \n",
       "9805       11323              8583.272854   Premium  High School or Below   \n",
       "\n",
       "     EmploymentStatus Gender   Income Location.Geo Location.Code  \\\n",
       "9801       Unemployed      F      0.0    12.7,79.4      Suburban   \n",
       "9802         Employed      M  72421.0    18.6,72.3      Suburban   \n",
       "9803         Employed      F  74665.0    19.2,74.7         Urban   \n",
       "9804         Employed      F  91763.0    19.5,73.9         Urban   \n",
       "9805         Disabled      F  18017.0    17.2,78.2      Suburban   \n",
       "\n",
       "     Marital.Status  ...  Months.Since.Policy.Inception  \\\n",
       "9801         Single  ...                             72   \n",
       "9802        Married  ...                             23   \n",
       "9803        Married  ...                             90   \n",
       "9804        Married  ...                             64   \n",
       "9805       Divorced  ...                             54   \n",
       "\n",
       "      Number.of.Open.Complaints  Number.of.Policies     Policy.Type  \\\n",
       "9801                        0.0                 2.0   Personal Auto   \n",
       "9802                        0.0                 1.0  Corporate Auto   \n",
       "9803                        2.0                 1.0  Corporate Auto   \n",
       "9804                        0.0                 3.0    Special Auto   \n",
       "9805                        0.0                 9.0   Personal Auto   \n",
       "\n",
       "            Policy Renew.Offer.Type Sales.Channel Total.Claim.Amount  \\\n",
       "9801   Personal L2           Offer1        Branch         307.200000   \n",
       "9802  Corporate L3           Offer2   Call Center         312.000000   \n",
       "9803  Corporate L2           Offer2   Call Center         236.902001   \n",
       "9804    Special L3           Offer1   Call Center         441.992043   \n",
       "9805   Personal L3           Offer2   Call Center         547.200000   \n",
       "\n",
       "      Vehicle.Class  Vehicle.Size  \n",
       "9801  Four-Door Car           2.0  \n",
       "9802  Four-Door Car           3.0  \n",
       "9803  Four-Door Car           2.0  \n",
       "9804            SUV           3.0  \n",
       "9805  Four-Door Car           2.0  \n",
       "\n",
       "[5 rows x 22 columns]"
      ]
     },
     "execution_count": 6,
     "metadata": {},
     "output_type": "execute_result"
    }
   ],
   "source": [
    "TRAIN.tail()"
   ]
  },
  {
   "cell_type": "markdown",
   "metadata": {
    "id": "e7_OwN3mDs8U"
   },
   "source": [
    "<h1 id=\"basic_insight\">Basic Insight of Dataset</h1>\n",
    "<p>\n",
    "After reading data into Pandas dataframe, it is time for us to explore the dataset.<br>\n",
    "\n",
    "There are several ways to obtain essential insights of the data to help us better understand our dataset.\n",
    "\n",
    "</p>\n"
   ]
  },
  {
   "cell_type": "markdown",
   "metadata": {
    "id": "IVXu_ervDxUF"
   },
   "source": [
    "<h2>Data Types</h2>\n",
    "<p>\n",
    "Data has a variety of types.<br>\n",
    "\n",
    "The main types stored in Pandas dataframes are <b>object</b>, <b>float</b>, <b>int</b>, <b>bool</b> and <b>datetime64</b>. In order to better learn about each attribute, it is always good for us to know the data type of each column. In Pandas:\n",
    "\n",
    "</p>\n"
   ]
  },
  {
   "cell_type": "code",
   "execution_count": 7,
   "metadata": {
    "colab": {
     "base_uri": "https://localhost:8080/"
    },
    "executionInfo": {
     "elapsed": 39,
     "status": "ok",
     "timestamp": 1669002147729,
     "user": {
      "displayName": "Mallikarjun Thripuraboina",
      "userId": "01775111500134944659"
     },
     "user_tz": -330
    },
    "id": "IKuKQTcWA8dh",
    "outputId": "c3105469-c848-4712-b089-2f4272bde292"
   },
   "outputs": [
    {
     "data": {
      "text/plain": [
       "CustomerID                         int64\n",
       "Customer.Lifetime.Value          float64\n",
       "Coverage                          object\n",
       "Education                         object\n",
       "EmploymentStatus                  object\n",
       "Gender                            object\n",
       "Income                           float64\n",
       "Location.Geo                      object\n",
       "Location.Code                     object\n",
       "Marital.Status                    object\n",
       "Monthly.Premium.Auto             float64\n",
       "Months.Since.Last.Claim            int64\n",
       "Months.Since.Policy.Inception      int64\n",
       "Number.of.Open.Complaints        float64\n",
       "Number.of.Policies               float64\n",
       "Policy.Type                       object\n",
       "Policy                            object\n",
       "Renew.Offer.Type                  object\n",
       "Sales.Channel                     object\n",
       "Total.Claim.Amount               float64\n",
       "Vehicle.Class                     object\n",
       "Vehicle.Size                     float64\n",
       "dtype: object"
      ]
     },
     "execution_count": 7,
     "metadata": {},
     "output_type": "execute_result"
    }
   ],
   "source": [
    "TRAIN.dtypes"
   ]
  },
  {
   "cell_type": "markdown",
   "metadata": {
    "id": "1Hha_3WpD79e"
   },
   "source": [
    "<h2>Describe</h2>\n",
    "If we would like to get a statistical summary of each column e.g. count, column mean value, column standard deviation, etc., we use the describe method:\n"
   ]
  },
  {
   "cell_type": "markdown",
   "metadata": {
    "id": "TvQw0K5NEAOJ"
   },
   "source": [
    "This method will provide various summary statistics, excluding <code>NaN</code> (Not a Number) values.\n"
   ]
  },
  {
   "cell_type": "code",
   "execution_count": 8,
   "metadata": {
    "colab": {
     "base_uri": "https://localhost:8080/",
     "height": 0
    },
    "executionInfo": {
     "elapsed": 31,
     "status": "ok",
     "timestamp": 1669002147730,
     "user": {
      "displayName": "Mallikarjun Thripuraboina",
      "userId": "01775111500134944659"
     },
     "user_tz": -330
    },
    "id": "KZhSs0eKEBcd",
    "outputId": "86714e49-c207-46b3-e519-7374417dde89"
   },
   "outputs": [
    {
     "data": {
      "text/html": [
       "\n",
       "  <div id=\"df-b2d1ca49-732f-4f89-8ebb-134543cbb870\">\n",
       "    <div class=\"colab-df-container\">\n",
       "      <div>\n",
       "<style scoped>\n",
       "    .dataframe tbody tr th:only-of-type {\n",
       "        vertical-align: middle;\n",
       "    }\n",
       "\n",
       "    .dataframe tbody tr th {\n",
       "        vertical-align: top;\n",
       "    }\n",
       "\n",
       "    .dataframe thead th {\n",
       "        text-align: right;\n",
       "    }\n",
       "</style>\n",
       "<table border=\"1\" class=\"dataframe\">\n",
       "  <thead>\n",
       "    <tr style=\"text-align: right;\">\n",
       "      <th></th>\n",
       "      <th>CustomerID</th>\n",
       "      <th>Customer.Lifetime.Value</th>\n",
       "      <th>Income</th>\n",
       "      <th>Monthly.Premium.Auto</th>\n",
       "      <th>Months.Since.Last.Claim</th>\n",
       "      <th>Months.Since.Policy.Inception</th>\n",
       "      <th>Number.of.Open.Complaints</th>\n",
       "      <th>Number.of.Policies</th>\n",
       "      <th>Total.Claim.Amount</th>\n",
       "      <th>Vehicle.Size</th>\n",
       "    </tr>\n",
       "  </thead>\n",
       "  <tbody>\n",
       "    <tr>\n",
       "      <th>count</th>\n",
       "      <td>9806.000000</td>\n",
       "      <td>9806.000000</td>\n",
       "      <td>9688.000000</td>\n",
       "      <td>9012.000000</td>\n",
       "      <td>9806.000000</td>\n",
       "      <td>9806.000000</td>\n",
       "      <td>8988.000000</td>\n",
       "      <td>9685.000000</td>\n",
       "      <td>9806.000000</td>\n",
       "      <td>9680.000000</td>\n",
       "    </tr>\n",
       "    <tr>\n",
       "      <th>mean</th>\n",
       "      <td>5778.381807</td>\n",
       "      <td>7998.047015</td>\n",
       "      <td>37511.054604</td>\n",
       "      <td>93.340657</td>\n",
       "      <td>15.143993</td>\n",
       "      <td>48.165001</td>\n",
       "      <td>0.379172</td>\n",
       "      <td>2.960351</td>\n",
       "      <td>438.266734</td>\n",
       "      <td>2.089773</td>\n",
       "    </tr>\n",
       "    <tr>\n",
       "      <th>std</th>\n",
       "      <td>3343.286093</td>\n",
       "      <td>6848.055899</td>\n",
       "      <td>30292.974468</td>\n",
       "      <td>34.417763</td>\n",
       "      <td>10.004327</td>\n",
       "      <td>27.963630</td>\n",
       "      <td>0.896427</td>\n",
       "      <td>2.389801</td>\n",
       "      <td>293.502301</td>\n",
       "      <td>0.538524</td>\n",
       "    </tr>\n",
       "    <tr>\n",
       "      <th>min</th>\n",
       "      <td>1.000000</td>\n",
       "      <td>1898.007675</td>\n",
       "      <td>0.000000</td>\n",
       "      <td>61.000000</td>\n",
       "      <td>0.000000</td>\n",
       "      <td>0.000000</td>\n",
       "      <td>0.000000</td>\n",
       "      <td>1.000000</td>\n",
       "      <td>0.099007</td>\n",
       "      <td>1.000000</td>\n",
       "    </tr>\n",
       "    <tr>\n",
       "      <th>25%</th>\n",
       "      <td>2879.250000</td>\n",
       "      <td>4013.949039</td>\n",
       "      <td>0.000000</td>\n",
       "      <td>68.750000</td>\n",
       "      <td>6.000000</td>\n",
       "      <td>24.000000</td>\n",
       "      <td>0.000000</td>\n",
       "      <td>1.000000</td>\n",
       "      <td>280.352767</td>\n",
       "      <td>2.000000</td>\n",
       "    </tr>\n",
       "    <tr>\n",
       "      <th>50%</th>\n",
       "      <td>5783.000000</td>\n",
       "      <td>5780.182197</td>\n",
       "      <td>33767.500000</td>\n",
       "      <td>83.000000</td>\n",
       "      <td>14.000000</td>\n",
       "      <td>48.000000</td>\n",
       "      <td>0.000000</td>\n",
       "      <td>2.000000</td>\n",
       "      <td>384.007015</td>\n",
       "      <td>2.000000</td>\n",
       "    </tr>\n",
       "    <tr>\n",
       "      <th>75%</th>\n",
       "      <td>8678.750000</td>\n",
       "      <td>8960.280213</td>\n",
       "      <td>62018.000000</td>\n",
       "      <td>109.000000</td>\n",
       "      <td>23.000000</td>\n",
       "      <td>71.750000</td>\n",
       "      <td>0.000000</td>\n",
       "      <td>4.000000</td>\n",
       "      <td>553.540973</td>\n",
       "      <td>2.000000</td>\n",
       "    </tr>\n",
       "    <tr>\n",
       "      <th>max</th>\n",
       "      <td>11573.000000</td>\n",
       "      <td>83325.381190</td>\n",
       "      <td>99981.000000</td>\n",
       "      <td>297.000000</td>\n",
       "      <td>35.000000</td>\n",
       "      <td>99.000000</td>\n",
       "      <td>5.000000</td>\n",
       "      <td>9.000000</td>\n",
       "      <td>2893.239678</td>\n",
       "      <td>3.000000</td>\n",
       "    </tr>\n",
       "  </tbody>\n",
       "</table>\n",
       "</div>\n",
       "      <button class=\"colab-df-convert\" onclick=\"convertToInteractive('df-b2d1ca49-732f-4f89-8ebb-134543cbb870')\"\n",
       "              title=\"Convert this dataframe to an interactive table.\"\n",
       "              style=\"display:none;\">\n",
       "        \n",
       "  <svg xmlns=\"http://www.w3.org/2000/svg\" height=\"24px\"viewBox=\"0 0 24 24\"\n",
       "       width=\"24px\">\n",
       "    <path d=\"M0 0h24v24H0V0z\" fill=\"none\"/>\n",
       "    <path d=\"M18.56 5.44l.94 2.06.94-2.06 2.06-.94-2.06-.94-.94-2.06-.94 2.06-2.06.94zm-11 1L8.5 8.5l.94-2.06 2.06-.94-2.06-.94L8.5 2.5l-.94 2.06-2.06.94zm10 10l.94 2.06.94-2.06 2.06-.94-2.06-.94-.94-2.06-.94 2.06-2.06.94z\"/><path d=\"M17.41 7.96l-1.37-1.37c-.4-.4-.92-.59-1.43-.59-.52 0-1.04.2-1.43.59L10.3 9.45l-7.72 7.72c-.78.78-.78 2.05 0 2.83L4 21.41c.39.39.9.59 1.41.59.51 0 1.02-.2 1.41-.59l7.78-7.78 2.81-2.81c.8-.78.8-2.07 0-2.86zM5.41 20L4 18.59l7.72-7.72 1.47 1.35L5.41 20z\"/>\n",
       "  </svg>\n",
       "      </button>\n",
       "      \n",
       "  <style>\n",
       "    .colab-df-container {\n",
       "      display:flex;\n",
       "      flex-wrap:wrap;\n",
       "      gap: 12px;\n",
       "    }\n",
       "\n",
       "    .colab-df-convert {\n",
       "      background-color: #E8F0FE;\n",
       "      border: none;\n",
       "      border-radius: 50%;\n",
       "      cursor: pointer;\n",
       "      display: none;\n",
       "      fill: #1967D2;\n",
       "      height: 32px;\n",
       "      padding: 0 0 0 0;\n",
       "      width: 32px;\n",
       "    }\n",
       "\n",
       "    .colab-df-convert:hover {\n",
       "      background-color: #E2EBFA;\n",
       "      box-shadow: 0px 1px 2px rgba(60, 64, 67, 0.3), 0px 1px 3px 1px rgba(60, 64, 67, 0.15);\n",
       "      fill: #174EA6;\n",
       "    }\n",
       "\n",
       "    [theme=dark] .colab-df-convert {\n",
       "      background-color: #3B4455;\n",
       "      fill: #D2E3FC;\n",
       "    }\n",
       "\n",
       "    [theme=dark] .colab-df-convert:hover {\n",
       "      background-color: #434B5C;\n",
       "      box-shadow: 0px 1px 3px 1px rgba(0, 0, 0, 0.15);\n",
       "      filter: drop-shadow(0px 1px 2px rgba(0, 0, 0, 0.3));\n",
       "      fill: #FFFFFF;\n",
       "    }\n",
       "  </style>\n",
       "\n",
       "      <script>\n",
       "        const buttonEl =\n",
       "          document.querySelector('#df-b2d1ca49-732f-4f89-8ebb-134543cbb870 button.colab-df-convert');\n",
       "        buttonEl.style.display =\n",
       "          google.colab.kernel.accessAllowed ? 'block' : 'none';\n",
       "\n",
       "        async function convertToInteractive(key) {\n",
       "          const element = document.querySelector('#df-b2d1ca49-732f-4f89-8ebb-134543cbb870');\n",
       "          const dataTable =\n",
       "            await google.colab.kernel.invokeFunction('convertToInteractive',\n",
       "                                                     [key], {});\n",
       "          if (!dataTable) return;\n",
       "\n",
       "          const docLinkHtml = 'Like what you see? Visit the ' +\n",
       "            '<a target=\"_blank\" href=https://colab.research.google.com/notebooks/data_table.ipynb>data table notebook</a>'\n",
       "            + ' to learn more about interactive tables.';\n",
       "          element.innerHTML = '';\n",
       "          dataTable['output_type'] = 'display_data';\n",
       "          await google.colab.output.renderOutput(dataTable, element);\n",
       "          const docLink = document.createElement('div');\n",
       "          docLink.innerHTML = docLinkHtml;\n",
       "          element.appendChild(docLink);\n",
       "        }\n",
       "      </script>\n",
       "    </div>\n",
       "  </div>\n",
       "  "
      ],
      "text/plain": [
       "         CustomerID  Customer.Lifetime.Value        Income  \\\n",
       "count   9806.000000              9806.000000   9688.000000   \n",
       "mean    5778.381807              7998.047015  37511.054604   \n",
       "std     3343.286093              6848.055899  30292.974468   \n",
       "min        1.000000              1898.007675      0.000000   \n",
       "25%     2879.250000              4013.949039      0.000000   \n",
       "50%     5783.000000              5780.182197  33767.500000   \n",
       "75%     8678.750000              8960.280213  62018.000000   \n",
       "max    11573.000000             83325.381190  99981.000000   \n",
       "\n",
       "       Monthly.Premium.Auto  Months.Since.Last.Claim  \\\n",
       "count           9012.000000              9806.000000   \n",
       "mean              93.340657                15.143993   \n",
       "std               34.417763                10.004327   \n",
       "min               61.000000                 0.000000   \n",
       "25%               68.750000                 6.000000   \n",
       "50%               83.000000                14.000000   \n",
       "75%              109.000000                23.000000   \n",
       "max              297.000000                35.000000   \n",
       "\n",
       "       Months.Since.Policy.Inception  Number.of.Open.Complaints  \\\n",
       "count                    9806.000000                8988.000000   \n",
       "mean                       48.165001                   0.379172   \n",
       "std                        27.963630                   0.896427   \n",
       "min                         0.000000                   0.000000   \n",
       "25%                        24.000000                   0.000000   \n",
       "50%                        48.000000                   0.000000   \n",
       "75%                        71.750000                   0.000000   \n",
       "max                        99.000000                   5.000000   \n",
       "\n",
       "       Number.of.Policies  Total.Claim.Amount  Vehicle.Size  \n",
       "count         9685.000000         9806.000000   9680.000000  \n",
       "mean             2.960351          438.266734      2.089773  \n",
       "std              2.389801          293.502301      0.538524  \n",
       "min              1.000000            0.099007      1.000000  \n",
       "25%              1.000000          280.352767      2.000000  \n",
       "50%              2.000000          384.007015      2.000000  \n",
       "75%              4.000000          553.540973      2.000000  \n",
       "max              9.000000         2893.239678      3.000000  "
      ]
     },
     "execution_count": 8,
     "metadata": {},
     "output_type": "execute_result"
    }
   ],
   "source": [
    "TRAIN.describe()"
   ]
  },
  {
   "cell_type": "markdown",
   "metadata": {
    "id": "rXgBRkPfEUku"
   },
   "source": [
    "<h2>Info</h2>\n",
    "Another method you can use to check your dataset is:\n"
   ]
  },
  {
   "cell_type": "markdown",
   "metadata": {
    "id": "ldL8pBvYEWag"
   },
   "source": [
    "It provides a concise summary of your DataFrame.\n",
    "\n",
    "This method prints information about a DataFrame including the index dtype and columns, non-null values and memory usage.\n"
   ]
  },
  {
   "cell_type": "code",
   "execution_count": 9,
   "metadata": {
    "colab": {
     "base_uri": "https://localhost:8080/"
    },
    "executionInfo": {
     "elapsed": 29,
     "status": "ok",
     "timestamp": 1669002147730,
     "user": {
      "displayName": "Mallikarjun Thripuraboina",
      "userId": "01775111500134944659"
     },
     "user_tz": -330
    },
    "id": "0khy97QMEac7",
    "outputId": "1988f04f-5cbe-4956-ce76-0bcaf1f12161"
   },
   "outputs": [
    {
     "name": "stdout",
     "output_type": "stream",
     "text": [
      "<class 'pandas.core.frame.DataFrame'>\n",
      "RangeIndex: 9806 entries, 0 to 9805\n",
      "Data columns (total 22 columns):\n",
      " #   Column                         Non-Null Count  Dtype  \n",
      "---  ------                         --------------  -----  \n",
      " 0   CustomerID                     9806 non-null   int64  \n",
      " 1   Customer.Lifetime.Value        9806 non-null   float64\n",
      " 2   Coverage                       8881 non-null   object \n",
      " 3   Education                      9677 non-null   object \n",
      " 4   EmploymentStatus               9688 non-null   object \n",
      " 5   Gender                         9677 non-null   object \n",
      " 6   Income                         9688 non-null   float64\n",
      " 7   Location.Geo                   9806 non-null   object \n",
      " 8   Location.Code                  9687 non-null   object \n",
      " 9   Marital.Status                 9677 non-null   object \n",
      " 10  Monthly.Premium.Auto           9012 non-null   float64\n",
      " 11  Months.Since.Last.Claim        9806 non-null   int64  \n",
      " 12  Months.Since.Policy.Inception  9806 non-null   int64  \n",
      " 13  Number.of.Open.Complaints      8988 non-null   float64\n",
      " 14  Number.of.Policies             9685 non-null   float64\n",
      " 15  Policy.Type                    8915 non-null   object \n",
      " 16  Policy                         9685 non-null   object \n",
      " 17  Renew.Offer.Type               9678 non-null   object \n",
      " 18  Sales.Channel                  9678 non-null   object \n",
      " 19  Total.Claim.Amount             9806 non-null   float64\n",
      " 20  Vehicle.Class                  9680 non-null   object \n",
      " 21  Vehicle.Size                   9680 non-null   float64\n",
      "dtypes: float64(7), int64(3), object(12)\n",
      "memory usage: 1.6+ MB\n"
     ]
    }
   ],
   "source": [
    "TRAIN.info()"
   ]
  },
  {
   "cell_type": "markdown",
   "metadata": {
    "id": "YOxIUVReEgYh"
   },
   "source": [
    "<h2>Shape \n",
    "\n",
    "<h4> It provides the dimension of the dataset i.e. how many rows and columns are there in dataset "
   ]
  },
  {
   "cell_type": "code",
   "execution_count": 10,
   "metadata": {
    "colab": {
     "base_uri": "https://localhost:8080/"
    },
    "executionInfo": {
     "elapsed": 1068,
     "status": "ok",
     "timestamp": 1669002148774,
     "user": {
      "displayName": "Mallikarjun Thripuraboina",
      "userId": "01775111500134944659"
     },
     "user_tz": -330
    },
    "id": "1BhbUSYhFByg",
    "outputId": "0a494a90-f672-44d3-df7f-13c278535f9a"
   },
   "outputs": [
    {
     "name": "stdout",
     "output_type": "stream",
     "text": [
      "Dataset has 9806 rows, and 22 columns\n"
     ]
    }
   ],
   "source": [
    "print('Dataset has ' + str(TRAIN.shape[0]) + ' rows, and ' + str(TRAIN.shape[1]) + ' columns')"
   ]
  },
  {
   "cell_type": "code",
   "execution_count": 11,
   "metadata": {
    "colab": {
     "base_uri": "https://localhost:8080/"
    },
    "executionInfo": {
     "elapsed": 47,
     "status": "ok",
     "timestamp": 1669002148776,
     "user": {
      "displayName": "Mallikarjun Thripuraboina",
      "userId": "01775111500134944659"
     },
     "user_tz": -330
    },
    "id": "qWVXDnw8FWqs",
    "outputId": "f4419f8e-6e17-44c4-9ace-a23655e48d4d"
   },
   "outputs": [
    {
     "data": {
      "text/plain": [
       "CustomerID                       9806\n",
       "Customer.Lifetime.Value          6477\n",
       "Coverage                            3\n",
       "Education                           5\n",
       "EmploymentStatus                    5\n",
       "Gender                              2\n",
       "Income                           4621\n",
       "Location.Geo                     2840\n",
       "Location.Code                       3\n",
       "Marital.Status                      3\n",
       "Monthly.Premium.Auto              191\n",
       "Months.Since.Last.Claim            36\n",
       "Months.Since.Policy.Inception     100\n",
       "Number.of.Open.Complaints           6\n",
       "Number.of.Policies                  9\n",
       "Policy.Type                         3\n",
       "Policy                              9\n",
       "Renew.Offer.Type                    4\n",
       "Sales.Channel                       4\n",
       "Total.Claim.Amount               4125\n",
       "Vehicle.Class                       6\n",
       "Vehicle.Size                        3\n",
       "dtype: int64"
      ]
     },
     "execution_count": 11,
     "metadata": {},
     "output_type": "execute_result"
    }
   ],
   "source": [
    "TRAIN.nunique()"
   ]
  },
  {
   "cell_type": "code",
   "execution_count": 12,
   "metadata": {
    "colab": {
     "base_uri": "https://localhost:8080/"
    },
    "executionInfo": {
     "elapsed": 43,
     "status": "ok",
     "timestamp": 1669002148777,
     "user": {
      "displayName": "Mallikarjun Thripuraboina",
      "userId": "01775111500134944659"
     },
     "user_tz": -330
    },
    "id": "pTX74WwZFcX1",
    "outputId": "44a7c82e-4747-4611-948a-7a01b4ae3969"
   },
   "outputs": [
    {
     "data": {
      "text/plain": [
       "CustomerID                         0\n",
       "Customer.Lifetime.Value            0\n",
       "Coverage                         925\n",
       "Education                        129\n",
       "EmploymentStatus                 118\n",
       "Gender                           129\n",
       "Income                           118\n",
       "Location.Geo                       0\n",
       "Location.Code                    119\n",
       "Marital.Status                   129\n",
       "Monthly.Premium.Auto             794\n",
       "Months.Since.Last.Claim            0\n",
       "Months.Since.Policy.Inception      0\n",
       "Number.of.Open.Complaints        818\n",
       "Number.of.Policies               121\n",
       "Policy.Type                      891\n",
       "Policy                           121\n",
       "Renew.Offer.Type                 128\n",
       "Sales.Channel                    128\n",
       "Total.Claim.Amount                 0\n",
       "Vehicle.Class                    126\n",
       "Vehicle.Size                     126\n",
       "dtype: int64"
      ]
     },
     "execution_count": 12,
     "metadata": {},
     "output_type": "execute_result"
    }
   ],
   "source": [
    "TRAIN.isna().sum()"
   ]
  },
  {
   "cell_type": "code",
   "execution_count": 13,
   "metadata": {
    "colab": {
     "base_uri": "https://localhost:8080/"
    },
    "executionInfo": {
     "elapsed": 35,
     "status": "ok",
     "timestamp": 1669002148779,
     "user": {
      "displayName": "Mallikarjun Thripuraboina",
      "userId": "01775111500134944659"
     },
     "user_tz": -330
    },
    "id": "jH2tBMt1FuNQ",
    "outputId": "d8959d88-c74e-41dd-a3bc-eb8a999ffd44"
   },
   "outputs": [
    {
     "data": {
      "text/plain": [
       "4920"
      ]
     },
     "execution_count": 13,
     "metadata": {},
     "output_type": "execute_result"
    }
   ],
   "source": [
    "TRAIN.isna().sum().sum()"
   ]
  },
  {
   "cell_type": "code",
   "execution_count": 13,
   "metadata": {
    "executionInfo": {
     "elapsed": 29,
     "status": "ok",
     "timestamp": 1669002148780,
     "user": {
      "displayName": "Mallikarjun Thripuraboina",
      "userId": "01775111500134944659"
     },
     "user_tz": -330
    },
    "id": "VCQKHINTP6Sb"
   },
   "outputs": [],
   "source": []
  },
  {
   "cell_type": "code",
   "execution_count": 13,
   "metadata": {
    "executionInfo": {
     "elapsed": 29,
     "status": "ok",
     "timestamp": 1669002148781,
     "user": {
      "displayName": "Mallikarjun Thripuraboina",
      "userId": "01775111500134944659"
     },
     "user_tz": -330
    },
    "id": "W2iVWALsP6NU"
   },
   "outputs": [],
   "source": []
  },
  {
   "cell_type": "code",
   "execution_count": 14,
   "metadata": {
    "executionInfo": {
     "elapsed": 29,
     "status": "ok",
     "timestamp": 1669002148782,
     "user": {
      "displayName": "Mallikarjun Thripuraboina",
      "userId": "01775111500134944659"
     },
     "user_tz": -330
    },
    "id": "9MtgIbfrFz8s"
   },
   "outputs": [],
   "source": [
    "to_drop=['CustomerID','Location.Geo']\n",
    "num = ['Income','Monthly.Premium.Auto','Months.Since.Last.Claim','Months.Since.Policy.Inception','Total.Claim.Amount']\n",
    "cat=['Coverage','Education','EmploymentStatus','Gender','Location.Code','Marital.Status','Number.of.Open.Complaints','Number.of.Policies','Policy.Type','Policy',\n",
    "     'Renew.Offer.Type','Sales.Channel','Vehicle.Class','Vehicle.Size']"
   ]
  },
  {
   "cell_type": "code",
   "execution_count": 15,
   "metadata": {
    "executionInfo": {
     "elapsed": 29,
     "status": "ok",
     "timestamp": 1669002148783,
     "user": {
      "displayName": "Mallikarjun Thripuraboina",
      "userId": "01775111500134944659"
     },
     "user_tz": -330
    },
    "id": "AayvlDydP3Gl"
   },
   "outputs": [],
   "source": [
    "TRAIN[cat] = TRAIN[cat].astype('category')"
   ]
  },
  {
   "cell_type": "code",
   "execution_count": 16,
   "metadata": {
    "colab": {
     "base_uri": "https://localhost:8080/",
     "height": 0
    },
    "executionInfo": {
     "elapsed": 30,
     "status": "ok",
     "timestamp": 1669002148784,
     "user": {
      "displayName": "Mallikarjun Thripuraboina",
      "userId": "01775111500134944659"
     },
     "user_tz": -330
    },
    "id": "xBbzFKxMP2_3",
    "outputId": "ef0a3664-be8c-4cf8-8f70-936b280a0a63"
   },
   "outputs": [
    {
     "data": {
      "text/html": [
       "\n",
       "  <div id=\"df-c0b2a73b-be62-47a6-b4e8-1a48d1d3d69f\">\n",
       "    <div class=\"colab-df-container\">\n",
       "      <div>\n",
       "<style scoped>\n",
       "    .dataframe tbody tr th:only-of-type {\n",
       "        vertical-align: middle;\n",
       "    }\n",
       "\n",
       "    .dataframe tbody tr th {\n",
       "        vertical-align: top;\n",
       "    }\n",
       "\n",
       "    .dataframe thead th {\n",
       "        text-align: right;\n",
       "    }\n",
       "</style>\n",
       "<table border=\"1\" class=\"dataframe\">\n",
       "  <thead>\n",
       "    <tr style=\"text-align: right;\">\n",
       "      <th></th>\n",
       "      <th>Income</th>\n",
       "      <th>Monthly.Premium.Auto</th>\n",
       "      <th>Months.Since.Last.Claim</th>\n",
       "      <th>Months.Since.Policy.Inception</th>\n",
       "      <th>Total.Claim.Amount</th>\n",
       "    </tr>\n",
       "  </thead>\n",
       "  <tbody>\n",
       "    <tr>\n",
       "      <th>Income</th>\n",
       "      <td>1.000000</td>\n",
       "      <td>-0.021050</td>\n",
       "      <td>-0.023728</td>\n",
       "      <td>0.010262</td>\n",
       "      <td>-0.355380</td>\n",
       "    </tr>\n",
       "    <tr>\n",
       "      <th>Monthly.Premium.Auto</th>\n",
       "      <td>-0.021050</td>\n",
       "      <td>1.000000</td>\n",
       "      <td>0.006135</td>\n",
       "      <td>0.022178</td>\n",
       "      <td>0.634692</td>\n",
       "    </tr>\n",
       "    <tr>\n",
       "      <th>Months.Since.Last.Claim</th>\n",
       "      <td>-0.023728</td>\n",
       "      <td>0.006135</td>\n",
       "      <td>1.000000</td>\n",
       "      <td>-0.032083</td>\n",
       "      <td>0.009340</td>\n",
       "    </tr>\n",
       "    <tr>\n",
       "      <th>Months.Since.Policy.Inception</th>\n",
       "      <td>0.010262</td>\n",
       "      <td>0.022178</td>\n",
       "      <td>-0.032083</td>\n",
       "      <td>1.000000</td>\n",
       "      <td>0.004248</td>\n",
       "    </tr>\n",
       "    <tr>\n",
       "      <th>Total.Claim.Amount</th>\n",
       "      <td>-0.355380</td>\n",
       "      <td>0.634692</td>\n",
       "      <td>0.009340</td>\n",
       "      <td>0.004248</td>\n",
       "      <td>1.000000</td>\n",
       "    </tr>\n",
       "  </tbody>\n",
       "</table>\n",
       "</div>\n",
       "      <button class=\"colab-df-convert\" onclick=\"convertToInteractive('df-c0b2a73b-be62-47a6-b4e8-1a48d1d3d69f')\"\n",
       "              title=\"Convert this dataframe to an interactive table.\"\n",
       "              style=\"display:none;\">\n",
       "        \n",
       "  <svg xmlns=\"http://www.w3.org/2000/svg\" height=\"24px\"viewBox=\"0 0 24 24\"\n",
       "       width=\"24px\">\n",
       "    <path d=\"M0 0h24v24H0V0z\" fill=\"none\"/>\n",
       "    <path d=\"M18.56 5.44l.94 2.06.94-2.06 2.06-.94-2.06-.94-.94-2.06-.94 2.06-2.06.94zm-11 1L8.5 8.5l.94-2.06 2.06-.94-2.06-.94L8.5 2.5l-.94 2.06-2.06.94zm10 10l.94 2.06.94-2.06 2.06-.94-2.06-.94-.94-2.06-.94 2.06-2.06.94z\"/><path d=\"M17.41 7.96l-1.37-1.37c-.4-.4-.92-.59-1.43-.59-.52 0-1.04.2-1.43.59L10.3 9.45l-7.72 7.72c-.78.78-.78 2.05 0 2.83L4 21.41c.39.39.9.59 1.41.59.51 0 1.02-.2 1.41-.59l7.78-7.78 2.81-2.81c.8-.78.8-2.07 0-2.86zM5.41 20L4 18.59l7.72-7.72 1.47 1.35L5.41 20z\"/>\n",
       "  </svg>\n",
       "      </button>\n",
       "      \n",
       "  <style>\n",
       "    .colab-df-container {\n",
       "      display:flex;\n",
       "      flex-wrap:wrap;\n",
       "      gap: 12px;\n",
       "    }\n",
       "\n",
       "    .colab-df-convert {\n",
       "      background-color: #E8F0FE;\n",
       "      border: none;\n",
       "      border-radius: 50%;\n",
       "      cursor: pointer;\n",
       "      display: none;\n",
       "      fill: #1967D2;\n",
       "      height: 32px;\n",
       "      padding: 0 0 0 0;\n",
       "      width: 32px;\n",
       "    }\n",
       "\n",
       "    .colab-df-convert:hover {\n",
       "      background-color: #E2EBFA;\n",
       "      box-shadow: 0px 1px 2px rgba(60, 64, 67, 0.3), 0px 1px 3px 1px rgba(60, 64, 67, 0.15);\n",
       "      fill: #174EA6;\n",
       "    }\n",
       "\n",
       "    [theme=dark] .colab-df-convert {\n",
       "      background-color: #3B4455;\n",
       "      fill: #D2E3FC;\n",
       "    }\n",
       "\n",
       "    [theme=dark] .colab-df-convert:hover {\n",
       "      background-color: #434B5C;\n",
       "      box-shadow: 0px 1px 3px 1px rgba(0, 0, 0, 0.15);\n",
       "      filter: drop-shadow(0px 1px 2px rgba(0, 0, 0, 0.3));\n",
       "      fill: #FFFFFF;\n",
       "    }\n",
       "  </style>\n",
       "\n",
       "      <script>\n",
       "        const buttonEl =\n",
       "          document.querySelector('#df-c0b2a73b-be62-47a6-b4e8-1a48d1d3d69f button.colab-df-convert');\n",
       "        buttonEl.style.display =\n",
       "          google.colab.kernel.accessAllowed ? 'block' : 'none';\n",
       "\n",
       "        async function convertToInteractive(key) {\n",
       "          const element = document.querySelector('#df-c0b2a73b-be62-47a6-b4e8-1a48d1d3d69f');\n",
       "          const dataTable =\n",
       "            await google.colab.kernel.invokeFunction('convertToInteractive',\n",
       "                                                     [key], {});\n",
       "          if (!dataTable) return;\n",
       "\n",
       "          const docLinkHtml = 'Like what you see? Visit the ' +\n",
       "            '<a target=\"_blank\" href=https://colab.research.google.com/notebooks/data_table.ipynb>data table notebook</a>'\n",
       "            + ' to learn more about interactive tables.';\n",
       "          element.innerHTML = '';\n",
       "          dataTable['output_type'] = 'display_data';\n",
       "          await google.colab.output.renderOutput(dataTable, element);\n",
       "          const docLink = document.createElement('div');\n",
       "          docLink.innerHTML = docLinkHtml;\n",
       "          element.appendChild(docLink);\n",
       "        }\n",
       "      </script>\n",
       "    </div>\n",
       "  </div>\n",
       "  "
      ],
      "text/plain": [
       "                                 Income  Monthly.Premium.Auto  \\\n",
       "Income                         1.000000             -0.021050   \n",
       "Monthly.Premium.Auto          -0.021050              1.000000   \n",
       "Months.Since.Last.Claim       -0.023728              0.006135   \n",
       "Months.Since.Policy.Inception  0.010262              0.022178   \n",
       "Total.Claim.Amount            -0.355380              0.634692   \n",
       "\n",
       "                               Months.Since.Last.Claim  \\\n",
       "Income                                       -0.023728   \n",
       "Monthly.Premium.Auto                          0.006135   \n",
       "Months.Since.Last.Claim                       1.000000   \n",
       "Months.Since.Policy.Inception                -0.032083   \n",
       "Total.Claim.Amount                            0.009340   \n",
       "\n",
       "                               Months.Since.Policy.Inception  \\\n",
       "Income                                              0.010262   \n",
       "Monthly.Premium.Auto                                0.022178   \n",
       "Months.Since.Last.Claim                            -0.032083   \n",
       "Months.Since.Policy.Inception                       1.000000   \n",
       "Total.Claim.Amount                                  0.004248   \n",
       "\n",
       "                               Total.Claim.Amount  \n",
       "Income                                  -0.355380  \n",
       "Monthly.Premium.Auto                     0.634692  \n",
       "Months.Since.Last.Claim                  0.009340  \n",
       "Months.Since.Policy.Inception            0.004248  \n",
       "Total.Claim.Amount                       1.000000  "
      ]
     },
     "execution_count": 16,
     "metadata": {},
     "output_type": "execute_result"
    }
   ],
   "source": [
    "TRAIN[num].corr()"
   ]
  },
  {
   "cell_type": "code",
   "execution_count": 17,
   "metadata": {
    "executionInfo": {
     "elapsed": 29,
     "status": "ok",
     "timestamp": 1669002148785,
     "user": {
      "displayName": "Mallikarjun Thripuraboina",
      "userId": "01775111500134944659"
     },
     "user_tz": -330
    },
    "id": "J7ZuBeOioRfq"
   },
   "outputs": [],
   "source": [
    "num1 = ['Income','Monthly.Premium.Auto','Months.Since.Last.Claim','Months.Since.Policy.Inception','Total.Claim.Amount','Customer.Lifetime.Value']"
   ]
  },
  {
   "cell_type": "code",
   "execution_count": 18,
   "metadata": {
    "colab": {
     "base_uri": "https://localhost:8080/",
     "height": 0
    },
    "executionInfo": {
     "elapsed": 31,
     "status": "ok",
     "timestamp": 1669002148787,
     "user": {
      "displayName": "Mallikarjun Thripuraboina",
      "userId": "01775111500134944659"
     },
     "user_tz": -330
    },
    "id": "mE42xpS_P289",
    "outputId": "aa81688b-c53f-4ce3-d28c-90f715715364"
   },
   "outputs": [
    {
     "data": {
      "text/plain": [
       "<matplotlib.axes._subplots.AxesSubplot at 0x7fa66381df50>"
      ]
     },
     "execution_count": 18,
     "metadata": {},
     "output_type": "execute_result"
    },
    {
     "data": {
      "image/png": "[encoded data removed]",
      "text/plain": [
       "<Figure size 720x576 with 2 Axes>"
      ]
     },
     "metadata": {
      "needs_background": "light"
     },
     "output_type": "display_data"
    }
   ],
   "source": [
    "plt.figure(figsize=(10,8))\n",
    "sns.heatmap(TRAIN[num1].corr(), annot=True)"
   ]
  },
  {
   "cell_type": "code",
   "execution_count": 19,
   "metadata": {
    "colab": {
     "base_uri": "https://localhost:8080/",
     "height": 0
    },
    "executionInfo": {
     "elapsed": 1503,
     "status": "ok",
     "timestamp": 1669002151013,
     "user": {
      "displayName": "Mallikarjun Thripuraboina",
      "userId": "01775111500134944659"
     },
     "user_tz": -330
    },
    "id": "J77Z2gCIP24L",
    "outputId": "8038dea8-def9-41c2-99f6-731d5058bbc9"
   },
   "outputs": [
    {
     "data": {
      "text/plain": [
       "<matplotlib.axes._subplots.AxesSubplot at 0x7fa660e91350>"
      ]
     },
     "execution_count": 19,
     "metadata": {},
     "output_type": "execute_result"
    },
    {
     "data": {
      "image/png": "[encoded data removed]",
      "text/plain": [
       "<Figure size 2880x576 with 1 Axes>"
      ]
     },
     "metadata": {
      "needs_background": "light"
     },
     "output_type": "display_data"
    }
   ],
   "source": [
    "# Engine size as potential predictor variable of price\n",
    "plt.figure(figsize=(40,8))\n",
    "sns.regplot(x=\"Income\", y=\"Customer.Lifetime.Value\", data=TRAIN)\n"
   ]
  },
  {
   "cell_type": "code",
   "execution_count": 20,
   "metadata": {
    "colab": {
     "base_uri": "https://localhost:8080/",
     "height": 330
    },
    "executionInfo": {
     "elapsed": 1550,
     "status": "ok",
     "timestamp": 1669002152557,
     "user": {
      "displayName": "Mallikarjun Thripuraboina",
      "userId": "01775111500134944659"
     },
     "user_tz": -330
    },
    "id": "76WngqdEmuHv",
    "outputId": "84a951b7-74ee-4871-d10a-426e9d07adb7"
   },
   "outputs": [
    {
     "data": {
      "text/plain": [
       "<matplotlib.axes._subplots.AxesSubplot at 0x7fa660981ed0>"
      ]
     },
     "execution_count": 20,
     "metadata": {},
     "output_type": "execute_result"
    },
    {
     "data": {
      "image/png": "[encoded data removed]",
      "text/plain": [
       "<Figure size 2880x576 with 1 Axes>"
      ]
     },
     "metadata": {
      "needs_background": "light"
     },
     "output_type": "display_data"
    }
   ],
   "source": [
    "plt.figure(figsize=(40,8))\n",
    "sns.regplot(x=\"Total.Claim.Amount\", y=\"Customer.Lifetime.Value\", data=TRAIN)"
   ]
  },
  {
   "cell_type": "code",
   "execution_count": 21,
   "metadata": {
    "executionInfo": {
     "elapsed": 11,
     "status": "ok",
     "timestamp": 1669002152559,
     "user": {
      "displayName": "Mallikarjun Thripuraboina",
      "userId": "01775111500134944659"
     },
     "user_tz": -330
    },
    "id": "Qu2cn-EDSv-q"
   },
   "outputs": [],
   "source": [
    "# sns.pairplot(TRAIN, hue='Customer.Lifetime.Value')"
   ]
  },
  {
   "cell_type": "code",
   "execution_count": 22,
   "metadata": {
    "colab": {
     "base_uri": "https://localhost:8080/",
     "height": 0
    },
    "executionInfo": {
     "elapsed": 1089,
     "status": "ok",
     "timestamp": 1669002153638,
     "user": {
      "displayName": "Mallikarjun Thripuraboina",
      "userId": "01775111500134944659"
     },
     "user_tz": -330
    },
    "id": "cm0be67pmuDY",
    "outputId": "75b00a13-1962-47c1-d426-74a01ca7bf2a"
   },
   "outputs": [
    {
     "data": {
      "image/png": "[encoded data removed]",
      "text/plain": [
       "<Figure size 1080x1080 with 25 Axes>"
      ]
     },
     "metadata": {
      "needs_background": "light"
     },
     "output_type": "display_data"
    }
   ],
   "source": [
    "TRAIN.plot(kind='box', subplots =True , sharex=False, sharey=False, layout=(5,5), figsize=(15,15))\n",
    "plt.show()"
   ]
  },
  {
   "cell_type": "code",
   "execution_count": 23,
   "metadata": {
    "colab": {
     "base_uri": "https://localhost:8080/",
     "height": 0
    },
    "executionInfo": {
     "elapsed": 65,
     "status": "ok",
     "timestamp": 1669002153640,
     "user": {
      "displayName": "Mallikarjun Thripuraboina",
      "userId": "01775111500134944659"
     },
     "user_tz": -330
    },
    "id": "Le3uhIH5muAK",
    "outputId": "afbad933-656f-4659-9e11-d6d39c7fe40d"
   },
   "outputs": [
    {
     "data": {
      "text/plain": [
       "Text(0, 0.5, 'COUNT')"
      ]
     },
     "execution_count": 23,
     "metadata": {},
     "output_type": "execute_result"
    },
    {
     "data": {
      "image/png": "[encoded data removed]",
      "text/plain": [
       "<Figure size 432x288 with 1 Axes>"
      ]
     },
     "metadata": {
      "needs_background": "light"
     },
     "output_type": "display_data"
    }
   ],
   "source": [
    "fig=TRAIN['Monthly.Premium.Auto'].hist(bins=50)\n",
    "fig.set_title('Monthly.Premium.Auto')\n",
    "fig.set_xlabel('Monthly.Premium.Auto')\n",
    "fig.set_ylabel('COUNT')"
   ]
  },
  {
   "cell_type": "code",
   "execution_count": 24,
   "metadata": {
    "colab": {
     "base_uri": "https://localhost:8080/",
     "height": 0
    },
    "executionInfo": {
     "elapsed": 50,
     "status": "ok",
     "timestamp": 1669002153641,
     "user": {
      "displayName": "Mallikarjun Thripuraboina",
      "userId": "01775111500134944659"
     },
     "user_tz": -330
    },
    "id": "5OHNMlMDmt8-",
    "outputId": "1e6e1102-f90e-4428-ff31-0b2409bcad38"
   },
   "outputs": [
    {
     "data": {
      "image/png": "[encoded data removed]",
      "text/plain": [
       "<Figure size 432x288 with 1 Axes>"
      ]
     },
     "metadata": {
      "needs_background": "light"
     },
     "output_type": "display_data"
    }
   ],
   "source": [
    "fig=TRAIN.boxplot(column='Monthly.Premium.Auto')"
   ]
  },
  {
   "cell_type": "code",
   "execution_count": 25,
   "metadata": {
    "executionInfo": {
     "elapsed": 49,
     "status": "ok",
     "timestamp": 1669002153642,
     "user": {
      "displayName": "Mallikarjun Thripuraboina",
      "userId": "01775111500134944659"
     },
     "user_tz": -330
    },
    "id": "SYTWWH6Vwmvd"
   },
   "outputs": [],
   "source": [
    "Q1 = TRAIN[num].quantile(0.25)\n",
    "Q3 = TRAIN[num].quantile(0.75)\n",
    "IQR = Q3 - Q1\n"
   ]
  },
  {
   "cell_type": "code",
   "execution_count": 26,
   "metadata": {
    "executionInfo": {
     "elapsed": 50,
     "status": "ok",
     "timestamp": 1669002153643,
     "user": {
      "displayName": "Mallikarjun Thripuraboina",
      "userId": "01775111500134944659"
     },
     "user_tz": -330
    },
    "id": "YMo7NlWDwrch"
   },
   "outputs": [],
   "source": [
    "upp_bou = (Q3 + 1.5*IQR)\n",
    "low_bou = (Q1-1.5*IQR)"
   ]
  },
  {
   "cell_type": "code",
   "execution_count": 27,
   "metadata": {
    "colab": {
     "base_uri": "https://localhost:8080/"
    },
    "executionInfo": {
     "elapsed": 50,
     "status": "ok",
     "timestamp": 1669002153644,
     "user": {
      "displayName": "Mallikarjun Thripuraboina",
      "userId": "01775111500134944659"
     },
     "user_tz": -330
    },
    "id": "f8jfFUPmzihB",
    "outputId": "913be6c3-af0c-4225-d147-bcb771fb579c"
   },
   "outputs": [
    {
     "data": {
      "text/plain": [
       "Income                          -93027.000000\n",
       "Monthly.Premium.Auto                 8.375000\n",
       "Months.Since.Last.Claim            -19.500000\n",
       "Months.Since.Policy.Inception      -47.625000\n",
       "Total.Claim.Amount                -129.429542\n",
       "dtype: float64"
      ]
     },
     "execution_count": 27,
     "metadata": {},
     "output_type": "execute_result"
    }
   ],
   "source": [
    "low_bou"
   ]
  },
  {
   "cell_type": "code",
   "execution_count": 28,
   "metadata": {
    "colab": {
     "base_uri": "https://localhost:8080/"
    },
    "executionInfo": {
     "elapsed": 46,
     "status": "ok",
     "timestamp": 1669002153645,
     "user": {
      "displayName": "Mallikarjun Thripuraboina",
      "userId": "01775111500134944659"
     },
     "user_tz": -330
    },
    "id": "XHnH2ASSx7V8",
    "outputId": "3b91957b-fa26-426c-d17d-b0161814ddf0"
   },
   "outputs": [
    {
     "data": {
      "text/plain": [
       "Income                           155045.000000\n",
       "Monthly.Premium.Auto                169.375000\n",
       "Months.Since.Last.Claim              48.500000\n",
       "Months.Since.Policy.Inception       143.375000\n",
       "Total.Claim.Amount                  963.323281\n",
       "dtype: float64"
      ]
     },
     "execution_count": 28,
     "metadata": {},
     "output_type": "execute_result"
    }
   ],
   "source": [
    "upp_bou"
   ]
  },
  {
   "cell_type": "code",
   "execution_count": 29,
   "metadata": {
    "executionInfo": {
     "elapsed": 38,
     "status": "ok",
     "timestamp": 1669002153646,
     "user": {
      "displayName": "Mallikarjun Thripuraboina",
      "userId": "01775111500134944659"
     },
     "user_tz": -330
    },
    "id": "HKmbAS2Q2vFk"
   },
   "outputs": [],
   "source": [
    "indexAge = TRAIN[ (TRAIN['Monthly.Premium.Auto'] < 8.375000) | (TRAIN['Monthly.Premium.Auto'] > 169.375000) ].index\n",
    "TRAIN.drop(indexAge , inplace=True)"
   ]
  },
  {
   "cell_type": "code",
   "execution_count": 30,
   "metadata": {
    "colab": {
     "base_uri": "https://localhost:8080/",
     "height": 0
    },
    "executionInfo": {
     "elapsed": 39,
     "status": "ok",
     "timestamp": 1669002153647,
     "user": {
      "displayName": "Mallikarjun Thripuraboina",
      "userId": "01775111500134944659"
     },
     "user_tz": -330
    },
    "id": "cCmOm9l5MFVQ",
    "outputId": "ced03fb1-54b2-484c-9a9c-f1329b116be0"
   },
   "outputs": [
    {
     "data": {
      "text/plain": [
       "Text(0, 0.5, 'COUNT')"
      ]
     },
     "execution_count": 30,
     "metadata": {},
     "output_type": "execute_result"
    },
    {
     "data": {
      "image/png": "[encoded data removed]",
      "text/plain": [
       "<Figure size 432x288 with 1 Axes>"
      ]
     },
     "metadata": {
      "needs_background": "light"
     },
     "output_type": "display_data"
    }
   ],
   "source": [
    "fig=TRAIN['Monthly.Premium.Auto'].hist(bins=50)\n",
    "fig.set_title('Monthly.Premium.Auto')\n",
    "fig.set_xlabel('Monthly.Premium.Auto')\n",
    "fig.set_ylabel('COUNT')"
   ]
  },
  {
   "cell_type": "code",
   "execution_count": 31,
   "metadata": {
    "colab": {
     "base_uri": "https://localhost:8080/",
     "height": 54
    },
    "executionInfo": {
     "elapsed": 34,
     "status": "ok",
     "timestamp": 1669002153649,
     "user": {
      "displayName": "Mallikarjun Thripuraboina",
      "userId": "01775111500134944659"
     },
     "user_tz": -330
    },
    "id": "gWVfwTsiMKE_",
    "outputId": "37de87fa-6bff-428b-8c2d-20d91e42bbea"
   },
   "outputs": [
    {
     "data": {
      "image/png": "[encoded data removed]",
      "text/plain": [
       "<Figure size 432x288 with 1 Axes>"
      ]
     },
     "metadata": {
      "needs_background": "light"
     },
     "output_type": "display_data"
    }
   ],
   "source": [
    "# plt.figure(figsize=(40,8))\n",
    "fig=TRAIN.boxplot(column='Monthly.Premium.Auto')"
   ]
  },
  {
   "cell_type": "markdown",
   "metadata": {
    "id": "VGTluxFiAM7_"
   },
   "source": [
    "Dealing with outliers"
   ]
  },
  {
   "cell_type": "markdown",
   "metadata": {
    "id": "51EiU0ISARcx"
   },
   "source": [
    "<p>1) remove the datapoints that are beyond lower and upper bridge</p>\n",
    "<p>2) replace the ouliers with upper and lower bridge values</p>\n",
    "<p>3) replce the outliers with nan and now impute the nan values with mean or median</p>"
   ]
  },
  {
   "cell_type": "code",
   "execution_count": 32,
   "metadata": {
    "executionInfo": {
     "elapsed": 33,
     "status": "ok",
     "timestamp": 1669002153650,
     "user": {
      "displayName": "Mallikarjun Thripuraboina",
      "userId": "01775111500134944659"
     },
     "user_tz": -330
    },
    "id": "k39XQw9dxOvM"
   },
   "outputs": [],
   "source": [
    "# IQR = TRAIN['Monthly.Premium.Auto'].quantile(0.75)- TRAIN['Monthly.Premium.Auto'].quantile(0.25)"
   ]
  },
  {
   "cell_type": "code",
   "execution_count": 33,
   "metadata": {
    "executionInfo": {
     "elapsed": 35,
     "status": "ok",
     "timestamp": 1669002153652,
     "user": {
      "displayName": "Mallikarjun Thripuraboina",
      "userId": "01775111500134944659"
     },
     "user_tz": -330
    },
    "id": "oQk37mVAxOcR"
   },
   "outputs": [],
   "source": [
    "\n",
    "# lower_bridge = TRAIN['Monthly.Premium.Auto'].quantile(0.25) - (1.5*IQR)\n",
    "# upper_bridge = TRAIN['Monthly.Premium.Auto'].quantile(0.75) + (1.5*IQR)\n",
    "\n",
    "# print(lower_bridge), print(upper_bridge)"
   ]
  },
  {
   "cell_type": "code",
   "execution_count": 34,
   "metadata": {
    "executionInfo": {
     "elapsed": 63,
     "status": "ok",
     "timestamp": 1669002154600,
     "user": {
      "displayName": "Mallikarjun Thripuraboina",
      "userId": "01775111500134944659"
     },
     "user_tz": -330
    },
    "id": "lYJ6IXI1xOZU"
   },
   "outputs": [],
   "source": [
    "# TRAIN.shape"
   ]
  },
  {
   "cell_type": "code",
   "execution_count": 34,
   "metadata": {
    "executionInfo": {
     "elapsed": 64,
     "status": "ok",
     "timestamp": 1669002154602,
     "user": {
      "displayName": "Mallikarjun Thripuraboina",
      "userId": "01775111500134944659"
     },
     "user_tz": -330
    },
    "id": "LtZII2X7xOTV"
   },
   "outputs": [],
   "source": []
  },
  {
   "cell_type": "code",
   "execution_count": 34,
   "metadata": {
    "executionInfo": {
     "elapsed": 66,
     "status": "ok",
     "timestamp": 1669002154604,
     "user": {
      "displayName": "Mallikarjun Thripuraboina",
      "userId": "01775111500134944659"
     },
     "user_tz": -330
    },
    "id": "UkMfuhX8GM4C"
   },
   "outputs": [],
   "source": []
  },
  {
   "cell_type": "code",
   "execution_count": 35,
   "metadata": {
    "colab": {
     "base_uri": "https://localhost:8080/",
     "height": 0
    },
    "executionInfo": {
     "elapsed": 66,
     "status": "ok",
     "timestamp": 1669002154605,
     "user": {
      "displayName": "Mallikarjun Thripuraboina",
      "userId": "01775111500134944659"
     },
     "user_tz": -330
    },
    "id": "0_DOZw_GFwNP",
    "outputId": "4841f156-b3b8-4235-9fb8-3aca81195d1a"
   },
   "outputs": [
    {
     "data": {
      "text/plain": [
       "Text(0, 0.5, 'COUNT')"
      ]
     },
     "execution_count": 35,
     "metadata": {},
     "output_type": "execute_result"
    },
    {
     "data": {
      "image/png": "[encoded data removed]",
      "text/plain": [
       "<Figure size 432x288 with 1 Axes>"
      ]
     },
     "metadata": {
      "needs_background": "light"
     },
     "output_type": "display_data"
    }
   ],
   "source": [
    "fig=TRAIN['Total.Claim.Amount'].hist(bins=50)\n",
    "fig.set_title('Total.Claim.Amount')\n",
    "fig.set_xlabel('Total.Claim.Amount')\n",
    "fig.set_ylabel('COUNT')"
   ]
  },
  {
   "cell_type": "code",
   "execution_count": 36,
   "metadata": {
    "colab": {
     "base_uri": "https://localhost:8080/",
     "height": 0
    },
    "executionInfo": {
     "elapsed": 63,
     "status": "ok",
     "timestamp": 1669002154606,
     "user": {
      "displayName": "Mallikarjun Thripuraboina",
      "userId": "01775111500134944659"
     },
     "user_tz": -330
    },
    "id": "-vW-dpiYGPHf",
    "outputId": "7422405e-b6b1-4687-bb18-9abbe46bb800"
   },
   "outputs": [
    {
     "data": {
      "image/png": "[encoded data removed]",
      "text/plain": [
       "<Figure size 432x288 with 1 Axes>"
      ]
     },
     "metadata": {
      "needs_background": "light"
     },
     "output_type": "display_data"
    }
   ],
   "source": [
    "# plt.figure(figsize=(40,8))\n",
    "fig=TRAIN.boxplot(column='Total.Claim.Amount')"
   ]
  },
  {
   "cell_type": "code",
   "execution_count": 37,
   "metadata": {
    "executionInfo": {
     "elapsed": 62,
     "status": "ok",
     "timestamp": 1669002154607,
     "user": {
      "displayName": "Mallikarjun Thripuraboina",
      "userId": "01775111500134944659"
     },
     "user_tz": -330
    },
    "id": "5I21IswAxOPi"
   },
   "outputs": [],
   "source": [
    "indexAge = TRAIN[ (TRAIN['Total.Claim.Amount'] < -129.429542) | (TRAIN['Total.Claim.Amount'] > 963.323281) ].index\n",
    "TRAIN.drop(indexAge , inplace=True)"
   ]
  },
  {
   "cell_type": "code",
   "execution_count": 38,
   "metadata": {
    "colab": {
     "base_uri": "https://localhost:8080/",
     "height": 0
    },
    "executionInfo": {
     "elapsed": 63,
     "status": "ok",
     "timestamp": 1669002154608,
     "user": {
      "displayName": "Mallikarjun Thripuraboina",
      "userId": "01775111500134944659"
     },
     "user_tz": -330
    },
    "id": "2xMLO_duGjvF",
    "outputId": "1bd1211a-2a83-4456-f535-3b433b89bd7f"
   },
   "outputs": [
    {
     "data": {
      "text/plain": [
       "Text(0, 0.5, 'COUNT')"
      ]
     },
     "execution_count": 38,
     "metadata": {},
     "output_type": "execute_result"
    },
    {
     "data": {
      "image/png": "[encoded data removed]",
      "text/plain": [
       "<Figure size 432x288 with 1 Axes>"
      ]
     },
     "metadata": {
      "needs_background": "light"
     },
     "output_type": "display_data"
    }
   ],
   "source": [
    "fig=TRAIN['Total.Claim.Amount'].hist(bins=50)\n",
    "fig.set_title('Total.Claim.Amount')\n",
    "fig.set_xlabel('Total.Claim.Amount')\n",
    "fig.set_ylabel('COUNT')"
   ]
  },
  {
   "cell_type": "code",
   "execution_count": 39,
   "metadata": {
    "colab": {
     "base_uri": "https://localhost:8080/",
     "height": 0
    },
    "executionInfo": {
     "elapsed": 57,
     "status": "ok",
     "timestamp": 1669002154609,
     "user": {
      "displayName": "Mallikarjun Thripuraboina",
      "userId": "01775111500134944659"
     },
     "user_tz": -330
    },
    "id": "PNS7WsPDFAFS",
    "outputId": "01e0ecde-c19b-4232-e6d0-cd83aa16217c"
   },
   "outputs": [
    {
     "data": {
      "image/png": "[encoded data removed]",
      "text/plain": [
       "<Figure size 432x288 with 1 Axes>"
      ]
     },
     "metadata": {
      "needs_background": "light"
     },
     "output_type": "display_data"
    }
   ],
   "source": [
    "# plt.figure(figsize=(40,8))\n",
    "fig=TRAIN.boxplot(column='Total.Claim.Amount')"
   ]
  },
  {
   "cell_type": "code",
   "execution_count": 40,
   "metadata": {
    "executionInfo": {
     "elapsed": 57,
     "status": "ok",
     "timestamp": 1669002154611,
     "user": {
      "displayName": "Mallikarjun Thripuraboina",
      "userId": "01775111500134944659"
     },
     "user_tz": -330
    },
    "id": "yrPUz4AhIZS0"
   },
   "outputs": [],
   "source": [
    "x_train, x_test , y_train , y_test = train_test_split(TRAIN.loc[:,TRAIN.columns !='Customer.Lifetime.Value'], TRAIN.loc[:,'Customer.Lifetime.Value'], test_size=0.3, random_state=123)"
   ]
  },
  {
   "cell_type": "code",
   "execution_count": 41,
   "metadata": {
    "colab": {
     "base_uri": "https://localhost:8080/",
     "height": 0
    },
    "executionInfo": {
     "elapsed": 58,
     "status": "ok",
     "timestamp": 1669002154612,
     "user": {
      "displayName": "Mallikarjun Thripuraboina",
      "userId": "01775111500134944659"
     },
     "user_tz": -330
    },
    "id": "Zqzq7IYcJocB",
    "outputId": "af6fbdf4-0b35-489e-d446-bf3e31b9ce9f"
   },
   "outputs": [
    {
     "data": {
      "text/html": [
       "\n",
       "  <div id=\"df-b9f7711e-84a2-4655-ae66-abaf13b455b6\">\n",
       "    <div class=\"colab-df-container\">\n",
       "      <div>\n",
       "<style scoped>\n",
       "    .dataframe tbody tr th:only-of-type {\n",
       "        vertical-align: middle;\n",
       "    }\n",
       "\n",
       "    .dataframe tbody tr th {\n",
       "        vertical-align: top;\n",
       "    }\n",
       "\n",
       "    .dataframe thead th {\n",
       "        text-align: right;\n",
       "    }\n",
       "</style>\n",
       "<table border=\"1\" class=\"dataframe\">\n",
       "  <thead>\n",
       "    <tr style=\"text-align: right;\">\n",
       "      <th></th>\n",
       "      <th>CustomerID</th>\n",
       "      <th>Coverage</th>\n",
       "      <th>Education</th>\n",
       "      <th>EmploymentStatus</th>\n",
       "      <th>Gender</th>\n",
       "      <th>Income</th>\n",
       "      <th>Location.Geo</th>\n",
       "      <th>Location.Code</th>\n",
       "      <th>Marital.Status</th>\n",
       "      <th>Monthly.Premium.Auto</th>\n",
       "      <th>...</th>\n",
       "      <th>Months.Since.Policy.Inception</th>\n",
       "      <th>Number.of.Open.Complaints</th>\n",
       "      <th>Number.of.Policies</th>\n",
       "      <th>Policy.Type</th>\n",
       "      <th>Policy</th>\n",
       "      <th>Renew.Offer.Type</th>\n",
       "      <th>Sales.Channel</th>\n",
       "      <th>Total.Claim.Amount</th>\n",
       "      <th>Vehicle.Class</th>\n",
       "      <th>Vehicle.Size</th>\n",
       "    </tr>\n",
       "  </thead>\n",
       "  <tbody>\n",
       "    <tr>\n",
       "      <th>5864</th>\n",
       "      <td>7015</td>\n",
       "      <td>Basic</td>\n",
       "      <td>High School or Below</td>\n",
       "      <td>Employed</td>\n",
       "      <td>F</td>\n",
       "      <td>62365.0</td>\n",
       "      <td>16.8,79.3</td>\n",
       "      <td>Suburban</td>\n",
       "      <td>Married</td>\n",
       "      <td>62.0</td>\n",
       "      <td>...</td>\n",
       "      <td>99</td>\n",
       "      <td>0.0</td>\n",
       "      <td>8.0</td>\n",
       "      <td>Corporate Auto</td>\n",
       "      <td>Corporate L2</td>\n",
       "      <td>Offer3</td>\n",
       "      <td>Branch</td>\n",
       "      <td>297.600000</td>\n",
       "      <td>Four-Door Car</td>\n",
       "      <td>2.0</td>\n",
       "    </tr>\n",
       "    <tr>\n",
       "      <th>4529</th>\n",
       "      <td>10029</td>\n",
       "      <td>Premium</td>\n",
       "      <td>College</td>\n",
       "      <td>Unemployed</td>\n",
       "      <td>M</td>\n",
       "      <td>0.0</td>\n",
       "      <td>17.4,79.6</td>\n",
       "      <td>Suburban</td>\n",
       "      <td>Married</td>\n",
       "      <td>104.0</td>\n",
       "      <td>...</td>\n",
       "      <td>20</td>\n",
       "      <td>0.0</td>\n",
       "      <td>3.0</td>\n",
       "      <td>Personal Auto</td>\n",
       "      <td>Personal L3</td>\n",
       "      <td>Offer1</td>\n",
       "      <td>Branch</td>\n",
       "      <td>499.200000</td>\n",
       "      <td>Four-Door Car</td>\n",
       "      <td>3.0</td>\n",
       "    </tr>\n",
       "    <tr>\n",
       "      <th>7341</th>\n",
       "      <td>9953</td>\n",
       "      <td>Basic</td>\n",
       "      <td>Master</td>\n",
       "      <td>Employed</td>\n",
       "      <td>M</td>\n",
       "      <td>55808.0</td>\n",
       "      <td>17.5,79</td>\n",
       "      <td>Urban</td>\n",
       "      <td>Married</td>\n",
       "      <td>116.0</td>\n",
       "      <td>...</td>\n",
       "      <td>4</td>\n",
       "      <td>0.0</td>\n",
       "      <td>7.0</td>\n",
       "      <td>Personal Auto</td>\n",
       "      <td>Personal L3</td>\n",
       "      <td>Offer2</td>\n",
       "      <td>Call Center</td>\n",
       "      <td>551.413755</td>\n",
       "      <td>SUV</td>\n",
       "      <td>3.0</td>\n",
       "    </tr>\n",
       "    <tr>\n",
       "      <th>9600</th>\n",
       "      <td>8427</td>\n",
       "      <td>Basic</td>\n",
       "      <td>College</td>\n",
       "      <td>Unemployed</td>\n",
       "      <td>M</td>\n",
       "      <td>0.0</td>\n",
       "      <td>17.6,78.3</td>\n",
       "      <td>Suburban</td>\n",
       "      <td>Single</td>\n",
       "      <td>101.0</td>\n",
       "      <td>...</td>\n",
       "      <td>3</td>\n",
       "      <td>5.0</td>\n",
       "      <td>1.0</td>\n",
       "      <td>NaN</td>\n",
       "      <td>Personal L3</td>\n",
       "      <td>Offer1</td>\n",
       "      <td>Agent</td>\n",
       "      <td>734.400000</td>\n",
       "      <td>SUV</td>\n",
       "      <td>3.0</td>\n",
       "    </tr>\n",
       "    <tr>\n",
       "      <th>8572</th>\n",
       "      <td>10749</td>\n",
       "      <td>Basic</td>\n",
       "      <td>High School or Below</td>\n",
       "      <td>Employed</td>\n",
       "      <td>M</td>\n",
       "      <td>29215.0</td>\n",
       "      <td>17.1,78.4</td>\n",
       "      <td>Suburban</td>\n",
       "      <td>Single</td>\n",
       "      <td>67.0</td>\n",
       "      <td>...</td>\n",
       "      <td>15</td>\n",
       "      <td>0.0</td>\n",
       "      <td>2.0</td>\n",
       "      <td>Personal Auto</td>\n",
       "      <td>Personal L2</td>\n",
       "      <td>Offer2</td>\n",
       "      <td>Call Center</td>\n",
       "      <td>327.656191</td>\n",
       "      <td>Four-Door Car</td>\n",
       "      <td>3.0</td>\n",
       "    </tr>\n",
       "  </tbody>\n",
       "</table>\n",
       "<p>5 rows × 21 columns</p>\n",
       "</div>\n",
       "      <button class=\"colab-df-convert\" onclick=\"convertToInteractive('df-b9f7711e-84a2-4655-ae66-abaf13b455b6')\"\n",
       "              title=\"Convert this dataframe to an interactive table.\"\n",
       "              style=\"display:none;\">\n",
       "        \n",
       "  <svg xmlns=\"http://www.w3.org/2000/svg\" height=\"24px\"viewBox=\"0 0 24 24\"\n",
       "       width=\"24px\">\n",
       "    <path d=\"M0 0h24v24H0V0z\" fill=\"none\"/>\n",
       "    <path d=\"M18.56 5.44l.94 2.06.94-2.06 2.06-.94-2.06-.94-.94-2.06-.94 2.06-2.06.94zm-11 1L8.5 8.5l.94-2.06 2.06-.94-2.06-.94L8.5 2.5l-.94 2.06-2.06.94zm10 10l.94 2.06.94-2.06 2.06-.94-2.06-.94-.94-2.06-.94 2.06-2.06.94z\"/><path d=\"M17.41 7.96l-1.37-1.37c-.4-.4-.92-.59-1.43-.59-.52 0-1.04.2-1.43.59L10.3 9.45l-7.72 7.72c-.78.78-.78 2.05 0 2.83L4 21.41c.39.39.9.59 1.41.59.51 0 1.02-.2 1.41-.59l7.78-7.78 2.81-2.81c.8-.78.8-2.07 0-2.86zM5.41 20L4 18.59l7.72-7.72 1.47 1.35L5.41 20z\"/>\n",
       "  </svg>\n",
       "      </button>\n",
       "      \n",
       "  <style>\n",
       "    .colab-df-container {\n",
       "      display:flex;\n",
       "      flex-wrap:wrap;\n",
       "      gap: 12px;\n",
       "    }\n",
       "\n",
       "    .colab-df-convert {\n",
       "      background-color: #E8F0FE;\n",
       "      border: none;\n",
       "      border-radius: 50%;\n",
       "      cursor: pointer;\n",
       "      display: none;\n",
       "      fill: #1967D2;\n",
       "      height: 32px;\n",
       "      padding: 0 0 0 0;\n",
       "      width: 32px;\n",
       "    }\n",
       "\n",
       "    .colab-df-convert:hover {\n",
       "      background-color: #E2EBFA;\n",
       "      box-shadow: 0px 1px 2px rgba(60, 64, 67, 0.3), 0px 1px 3px 1px rgba(60, 64, 67, 0.15);\n",
       "      fill: #174EA6;\n",
       "    }\n",
       "\n",
       "    [theme=dark] .colab-df-convert {\n",
       "      background-color: #3B4455;\n",
       "      fill: #D2E3FC;\n",
       "    }\n",
       "\n",
       "    [theme=dark] .colab-df-convert:hover {\n",
       "      background-color: #434B5C;\n",
       "      box-shadow: 0px 1px 3px 1px rgba(0, 0, 0, 0.15);\n",
       "      filter: drop-shadow(0px 1px 2px rgba(0, 0, 0, 0.3));\n",
       "      fill: #FFFFFF;\n",
       "    }\n",
       "  </style>\n",
       "\n",
       "      <script>\n",
       "        const buttonEl =\n",
       "          document.querySelector('#df-b9f7711e-84a2-4655-ae66-abaf13b455b6 button.colab-df-convert');\n",
       "        buttonEl.style.display =\n",
       "          google.colab.kernel.accessAllowed ? 'block' : 'none';\n",
       "\n",
       "        async function convertToInteractive(key) {\n",
       "          const element = document.querySelector('#df-b9f7711e-84a2-4655-ae66-abaf13b455b6');\n",
       "          const dataTable =\n",
       "            await google.colab.kernel.invokeFunction('convertToInteractive',\n",
       "                                                     [key], {});\n",
       "          if (!dataTable) return;\n",
       "\n",
       "          const docLinkHtml = 'Like what you see? Visit the ' +\n",
       "            '<a target=\"_blank\" href=https://colab.research.google.com/notebooks/data_table.ipynb>data table notebook</a>'\n",
       "            + ' to learn more about interactive tables.';\n",
       "          element.innerHTML = '';\n",
       "          dataTable['output_type'] = 'display_data';\n",
       "          await google.colab.output.renderOutput(dataTable, element);\n",
       "          const docLink = document.createElement('div');\n",
       "          docLink.innerHTML = docLinkHtml;\n",
       "          element.appendChild(docLink);\n",
       "        }\n",
       "      </script>\n",
       "    </div>\n",
       "  </div>\n",
       "  "
      ],
      "text/plain": [
       "      CustomerID Coverage             Education EmploymentStatus Gender  \\\n",
       "5864        7015    Basic  High School or Below         Employed      F   \n",
       "4529       10029  Premium               College       Unemployed      M   \n",
       "7341        9953    Basic                Master         Employed      M   \n",
       "9600        8427    Basic               College       Unemployed      M   \n",
       "8572       10749    Basic  High School or Below         Employed      M   \n",
       "\n",
       "       Income Location.Geo Location.Code Marital.Status  Monthly.Premium.Auto  \\\n",
       "5864  62365.0    16.8,79.3      Suburban        Married                  62.0   \n",
       "4529      0.0    17.4,79.6      Suburban        Married                 104.0   \n",
       "7341  55808.0      17.5,79         Urban        Married                 116.0   \n",
       "9600      0.0    17.6,78.3      Suburban         Single                 101.0   \n",
       "8572  29215.0    17.1,78.4      Suburban         Single                  67.0   \n",
       "\n",
       "      ...  Months.Since.Policy.Inception  Number.of.Open.Complaints  \\\n",
       "5864  ...                             99                        0.0   \n",
       "4529  ...                             20                        0.0   \n",
       "7341  ...                              4                        0.0   \n",
       "9600  ...                              3                        5.0   \n",
       "8572  ...                             15                        0.0   \n",
       "\n",
       "     Number.of.Policies     Policy.Type        Policy Renew.Offer.Type  \\\n",
       "5864                8.0  Corporate Auto  Corporate L2           Offer3   \n",
       "4529                3.0   Personal Auto   Personal L3           Offer1   \n",
       "7341                7.0   Personal Auto   Personal L3           Offer2   \n",
       "9600                1.0             NaN   Personal L3           Offer1   \n",
       "8572                2.0   Personal Auto   Personal L2           Offer2   \n",
       "\n",
       "     Sales.Channel Total.Claim.Amount  Vehicle.Class Vehicle.Size  \n",
       "5864        Branch         297.600000  Four-Door Car          2.0  \n",
       "4529        Branch         499.200000  Four-Door Car          3.0  \n",
       "7341   Call Center         551.413755            SUV          3.0  \n",
       "9600         Agent         734.400000            SUV          3.0  \n",
       "8572   Call Center         327.656191  Four-Door Car          3.0  \n",
       "\n",
       "[5 rows x 21 columns]"
      ]
     },
     "execution_count": 41,
     "metadata": {},
     "output_type": "execute_result"
    }
   ],
   "source": [
    "x_train.head()"
   ]
  },
  {
   "cell_type": "code",
   "execution_count": 42,
   "metadata": {
    "colab": {
     "base_uri": "https://localhost:8080/"
    },
    "executionInfo": {
     "elapsed": 57,
     "status": "ok",
     "timestamp": 1669002154612,
     "user": {
      "displayName": "Mallikarjun Thripuraboina",
      "userId": "01775111500134944659"
     },
     "user_tz": -330
    },
    "id": "xZF_XfnoKLHa",
    "outputId": "d9544e5a-2d8d-46b9-c286-e6c81a1fd57a"
   },
   "outputs": [
    {
     "name": "stdout",
     "output_type": "stream",
     "text": [
      "(6389, 21)\n",
      "(6389,)\n",
      "(2739, 21)\n",
      "(2739,)\n"
     ]
    }
   ],
   "source": [
    "print(x_train.shape)\n",
    "print(y_train.shape)\n",
    "print(x_test.shape)\n",
    "print(y_test.shape)"
   ]
  },
  {
   "cell_type": "markdown",
   "metadata": {
    "id": "ilAriViHH1Lm"
   },
   "source": [
    "<h2> Data Cleaning\n"
   ]
  },
  {
   "cell_type": "code",
   "execution_count": 43,
   "metadata": {
    "executionInfo": {
     "elapsed": 53,
     "status": "ok",
     "timestamp": 1669002154614,
     "user": {
      "displayName": "Mallikarjun Thripuraboina",
      "userId": "01775111500134944659"
     },
     "user_tz": -330
    },
    "id": "hKHmoLE0LjFe"
   },
   "outputs": [],
   "source": [
    "x_train.drop(to_drop, axis=1, inplace=True)\n",
    "x_test.drop(to_drop, axis=1 , inplace=True)"
   ]
  },
  {
   "cell_type": "markdown",
   "metadata": {
    "id": "wLLL0LlhHrtU"
   },
   "source": [
    "<h3 id=\"correct_data_format\">Correct data format</h3>\n",
    "<b>We are almost there!</b>\n",
    "<p>The next step in data cleaning is checking and making sure that all data is in the correct format (int, float, text or other).</p>\n",
    "\n",
    "In Pandas, we use:\n",
    "\n",
    "<p><b>.dtype()</b> to check the data type</p>\n",
    "<p><b>.astype()</b> to change the data type</p>\n"
   ]
  },
  {
   "cell_type": "markdown",
   "metadata": {
    "id": "I1y5o4KdIWoG"
   },
   "source": [
    "<p>As we can see above, some columns are not of the correct data type. Numerical variables should have type 'float' or 'int', and variables with strings such as categories should have type 'object'. For example, 'bore' and 'stroke' variables are numerical values that describe the engines, so we should expect them to be of the type 'float' or 'int'; however, they are shown as type 'object'. We have to convert data types into a proper format for each column using the \"astype()\" method.</p> \n"
   ]
  },
  {
   "cell_type": "code",
   "execution_count": 44,
   "metadata": {
    "executionInfo": {
     "elapsed": 53,
     "status": "ok",
     "timestamp": 1669002154615,
     "user": {
      "displayName": "Mallikarjun Thripuraboina",
      "userId": "01775111500134944659"
     },
     "user_tz": -330
    },
    "id": "4APUVd2jKPd6"
   },
   "outputs": [],
   "source": [
    "# x_train[cat]= x_train[cat].astype('category')\n",
    "# x_test[cat]= x_test[cat].astype('category')"
   ]
  },
  {
   "cell_type": "code",
   "execution_count": 45,
   "metadata": {
    "colab": {
     "base_uri": "https://localhost:8080/"
    },
    "executionInfo": {
     "elapsed": 53,
     "status": "ok",
     "timestamp": 1669002154616,
     "user": {
      "displayName": "Mallikarjun Thripuraboina",
      "userId": "01775111500134944659"
     },
     "user_tz": -330
    },
    "id": "_XNZ5klQKyO9",
    "outputId": "0aa4bf2c-08f3-45bc-fc2b-60ac3bc15d7e"
   },
   "outputs": [
    {
     "data": {
      "text/plain": [
       "Coverage                         category\n",
       "Education                        category\n",
       "EmploymentStatus                 category\n",
       "Gender                           category\n",
       "Income                            float64\n",
       "Location.Code                    category\n",
       "Marital.Status                   category\n",
       "Monthly.Premium.Auto              float64\n",
       "Months.Since.Last.Claim             int64\n",
       "Months.Since.Policy.Inception       int64\n",
       "Number.of.Open.Complaints        category\n",
       "Number.of.Policies               category\n",
       "Policy.Type                      category\n",
       "Policy                           category\n",
       "Renew.Offer.Type                 category\n",
       "Sales.Channel                    category\n",
       "Total.Claim.Amount                float64\n",
       "Vehicle.Class                    category\n",
       "Vehicle.Size                     category\n",
       "dtype: object"
      ]
     },
     "execution_count": 45,
     "metadata": {},
     "output_type": "execute_result"
    }
   ],
   "source": [
    "x_train.dtypes"
   ]
  },
  {
   "cell_type": "code",
   "execution_count": 46,
   "metadata": {
    "executionInfo": {
     "elapsed": 47,
     "status": "ok",
     "timestamp": 1669002154616,
     "user": {
      "displayName": "Mallikarjun Thripuraboina",
      "userId": "01775111500134944659"
     },
     "user_tz": -330
    },
    "id": "n2ItIIwHLPho"
   },
   "outputs": [],
   "source": [
    "x_train_num = x_train.drop(cat, axis=1) # or x_train_num = x_train[num]\n",
    "x_test_num = x_test.drop(cat , axis=1) # pr x_test_num = x_test[num]\n",
    "\n",
    "x_train_cat =x_train[cat]\n",
    "x_test_cat =x_test[cat]"
   ]
  },
  {
   "cell_type": "markdown",
   "metadata": {
    "id": "LtP6z4QJGDgP"
   },
   "source": [
    "As we can see, several question marks appeared in the dataframe; those are missing values which may hinder our further analysis.\n",
    "\n",
    "<div>So, how do we identify all those missing values and deal with them?</div> \n",
    "\n",
    "<b>How to work with missing data?</b>\n",
    "\n",
    "Steps for working with missing data:\n",
    "\n",
    "<ol>\n",
    "    <li>Identify missing data</li>\n",
    "    <li>Deal with missing data</li>\n",
    "    <li>Correct data format</li>\n",
    "</ol>\n"
   ]
  },
  {
   "cell_type": "markdown",
   "metadata": {
    "id": "xc2kR0wtGVol"
   },
   "source": [
    "<h4>Evaluating for Missing Data</h4>\n",
    "\n",
    "The missing values are converted by default. We use the following functions to identify these missing values. There are two methods to detect missing data:\n",
    "\n",
    "<ol>\n",
    "    <li><b>.isnull()</b></li>\n",
    "    <li><b>.notnull()</b></li>\n",
    "</ol>\n",
    "The output is a boolean value indicating whether the value that is passed into the argument is in fact missing data.\n"
   ]
  },
  {
   "cell_type": "code",
   "execution_count": 47,
   "metadata": {
    "colab": {
     "base_uri": "https://localhost:8080/"
    },
    "executionInfo": {
     "elapsed": 48,
     "status": "ok",
     "timestamp": 1669002154617,
     "user": {
      "displayName": "Mallikarjun Thripuraboina",
      "userId": "01775111500134944659"
     },
     "user_tz": -330
    },
    "id": "FzW4qkXDGYFD",
    "outputId": "4b963715-81b4-473b-fc0f-8a04e10a6d20"
   },
   "outputs": [
    {
     "data": {
      "text/plain": [
       "Coverage                         586\n",
       "Education                         79\n",
       "EmploymentStatus                  75\n",
       "Gender                            79\n",
       "Income                            75\n",
       "Location.Code                     71\n",
       "Marital.Status                    79\n",
       "Monthly.Premium.Auto             524\n",
       "Months.Since.Last.Claim            0\n",
       "Months.Since.Policy.Inception      0\n",
       "Number.of.Open.Complaints        545\n",
       "Number.of.Policies                71\n",
       "Policy.Type                      558\n",
       "Policy                            71\n",
       "Renew.Offer.Type                  83\n",
       "Sales.Channel                     83\n",
       "Total.Claim.Amount                 0\n",
       "Vehicle.Class                     83\n",
       "Vehicle.Size                      83\n",
       "dtype: int64"
      ]
     },
     "execution_count": 47,
     "metadata": {},
     "output_type": "execute_result"
    }
   ],
   "source": [
    "x_train.isna().sum()"
   ]
  },
  {
   "cell_type": "code",
   "execution_count": 48,
   "metadata": {
    "colab": {
     "base_uri": "https://localhost:8080/",
     "height": 0
    },
    "executionInfo": {
     "elapsed": 528,
     "status": "ok",
     "timestamp": 1669002155103,
     "user": {
      "displayName": "Mallikarjun Thripuraboina",
      "userId": "01775111500134944659"
     },
     "user_tz": -330
    },
    "id": "q7uiI03tGtr6",
    "outputId": "6b5ca008-d13c-488a-f2be-dd118f976cc5"
   },
   "outputs": [
    {
     "data": {
      "text/html": [
       "\n",
       "  <div id=\"df-a1fef91b-f347-4806-8128-d2365fb8ff21\">\n",
       "    <div class=\"colab-df-container\">\n",
       "      <div>\n",
       "<style scoped>\n",
       "    .dataframe tbody tr th:only-of-type {\n",
       "        vertical-align: middle;\n",
       "    }\n",
       "\n",
       "    .dataframe tbody tr th {\n",
       "        vertical-align: top;\n",
       "    }\n",
       "\n",
       "    .dataframe thead th {\n",
       "        text-align: right;\n",
       "    }\n",
       "</style>\n",
       "<table border=\"1\" class=\"dataframe\">\n",
       "  <thead>\n",
       "    <tr style=\"text-align: right;\">\n",
       "      <th></th>\n",
       "      <th>Coverage</th>\n",
       "      <th>Education</th>\n",
       "      <th>EmploymentStatus</th>\n",
       "      <th>Gender</th>\n",
       "      <th>Income</th>\n",
       "      <th>Location.Code</th>\n",
       "      <th>Marital.Status</th>\n",
       "      <th>Monthly.Premium.Auto</th>\n",
       "      <th>Months.Since.Last.Claim</th>\n",
       "      <th>Months.Since.Policy.Inception</th>\n",
       "      <th>Number.of.Open.Complaints</th>\n",
       "      <th>Number.of.Policies</th>\n",
       "      <th>Policy.Type</th>\n",
       "      <th>Policy</th>\n",
       "      <th>Renew.Offer.Type</th>\n",
       "      <th>Sales.Channel</th>\n",
       "      <th>Total.Claim.Amount</th>\n",
       "      <th>Vehicle.Class</th>\n",
       "      <th>Vehicle.Size</th>\n",
       "    </tr>\n",
       "  </thead>\n",
       "  <tbody>\n",
       "    <tr>\n",
       "      <th>5864</th>\n",
       "      <td>True</td>\n",
       "      <td>True</td>\n",
       "      <td>True</td>\n",
       "      <td>True</td>\n",
       "      <td>True</td>\n",
       "      <td>True</td>\n",
       "      <td>True</td>\n",
       "      <td>True</td>\n",
       "      <td>True</td>\n",
       "      <td>True</td>\n",
       "      <td>True</td>\n",
       "      <td>True</td>\n",
       "      <td>True</td>\n",
       "      <td>True</td>\n",
       "      <td>True</td>\n",
       "      <td>True</td>\n",
       "      <td>True</td>\n",
       "      <td>True</td>\n",
       "      <td>True</td>\n",
       "    </tr>\n",
       "    <tr>\n",
       "      <th>4529</th>\n",
       "      <td>True</td>\n",
       "      <td>True</td>\n",
       "      <td>True</td>\n",
       "      <td>True</td>\n",
       "      <td>True</td>\n",
       "      <td>True</td>\n",
       "      <td>True</td>\n",
       "      <td>True</td>\n",
       "      <td>True</td>\n",
       "      <td>True</td>\n",
       "      <td>True</td>\n",
       "      <td>True</td>\n",
       "      <td>True</td>\n",
       "      <td>True</td>\n",
       "      <td>True</td>\n",
       "      <td>True</td>\n",
       "      <td>True</td>\n",
       "      <td>True</td>\n",
       "      <td>True</td>\n",
       "    </tr>\n",
       "    <tr>\n",
       "      <th>7341</th>\n",
       "      <td>True</td>\n",
       "      <td>True</td>\n",
       "      <td>True</td>\n",
       "      <td>True</td>\n",
       "      <td>True</td>\n",
       "      <td>True</td>\n",
       "      <td>True</td>\n",
       "      <td>True</td>\n",
       "      <td>True</td>\n",
       "      <td>True</td>\n",
       "      <td>True</td>\n",
       "      <td>True</td>\n",
       "      <td>True</td>\n",
       "      <td>True</td>\n",
       "      <td>True</td>\n",
       "      <td>True</td>\n",
       "      <td>True</td>\n",
       "      <td>True</td>\n",
       "      <td>True</td>\n",
       "    </tr>\n",
       "    <tr>\n",
       "      <th>9600</th>\n",
       "      <td>True</td>\n",
       "      <td>True</td>\n",
       "      <td>True</td>\n",
       "      <td>True</td>\n",
       "      <td>True</td>\n",
       "      <td>True</td>\n",
       "      <td>True</td>\n",
       "      <td>True</td>\n",
       "      <td>True</td>\n",
       "      <td>True</td>\n",
       "      <td>True</td>\n",
       "      <td>True</td>\n",
       "      <td>False</td>\n",
       "      <td>True</td>\n",
       "      <td>True</td>\n",
       "      <td>True</td>\n",
       "      <td>True</td>\n",
       "      <td>True</td>\n",
       "      <td>True</td>\n",
       "    </tr>\n",
       "    <tr>\n",
       "      <th>8572</th>\n",
       "      <td>True</td>\n",
       "      <td>True</td>\n",
       "      <td>True</td>\n",
       "      <td>True</td>\n",
       "      <td>True</td>\n",
       "      <td>True</td>\n",
       "      <td>True</td>\n",
       "      <td>True</td>\n",
       "      <td>True</td>\n",
       "      <td>True</td>\n",
       "      <td>True</td>\n",
       "      <td>True</td>\n",
       "      <td>True</td>\n",
       "      <td>True</td>\n",
       "      <td>True</td>\n",
       "      <td>True</td>\n",
       "      <td>True</td>\n",
       "      <td>True</td>\n",
       "      <td>True</td>\n",
       "    </tr>\n",
       "    <tr>\n",
       "      <th>...</th>\n",
       "      <td>...</td>\n",
       "      <td>...</td>\n",
       "      <td>...</td>\n",
       "      <td>...</td>\n",
       "      <td>...</td>\n",
       "      <td>...</td>\n",
       "      <td>...</td>\n",
       "      <td>...</td>\n",
       "      <td>...</td>\n",
       "      <td>...</td>\n",
       "      <td>...</td>\n",
       "      <td>...</td>\n",
       "      <td>...</td>\n",
       "      <td>...</td>\n",
       "      <td>...</td>\n",
       "      <td>...</td>\n",
       "      <td>...</td>\n",
       "      <td>...</td>\n",
       "      <td>...</td>\n",
       "    </tr>\n",
       "    <tr>\n",
       "      <th>7940</th>\n",
       "      <td>True</td>\n",
       "      <td>True</td>\n",
       "      <td>True</td>\n",
       "      <td>True</td>\n",
       "      <td>True</td>\n",
       "      <td>True</td>\n",
       "      <td>True</td>\n",
       "      <td>True</td>\n",
       "      <td>True</td>\n",
       "      <td>True</td>\n",
       "      <td>True</td>\n",
       "      <td>True</td>\n",
       "      <td>False</td>\n",
       "      <td>True</td>\n",
       "      <td>True</td>\n",
       "      <td>True</td>\n",
       "      <td>True</td>\n",
       "      <td>True</td>\n",
       "      <td>True</td>\n",
       "    </tr>\n",
       "    <tr>\n",
       "      <th>8347</th>\n",
       "      <td>False</td>\n",
       "      <td>True</td>\n",
       "      <td>True</td>\n",
       "      <td>True</td>\n",
       "      <td>True</td>\n",
       "      <td>True</td>\n",
       "      <td>True</td>\n",
       "      <td>True</td>\n",
       "      <td>True</td>\n",
       "      <td>True</td>\n",
       "      <td>True</td>\n",
       "      <td>True</td>\n",
       "      <td>False</td>\n",
       "      <td>True</td>\n",
       "      <td>True</td>\n",
       "      <td>True</td>\n",
       "      <td>True</td>\n",
       "      <td>True</td>\n",
       "      <td>True</td>\n",
       "    </tr>\n",
       "    <tr>\n",
       "      <th>5601</th>\n",
       "      <td>False</td>\n",
       "      <td>True</td>\n",
       "      <td>True</td>\n",
       "      <td>True</td>\n",
       "      <td>True</td>\n",
       "      <td>True</td>\n",
       "      <td>True</td>\n",
       "      <td>True</td>\n",
       "      <td>True</td>\n",
       "      <td>True</td>\n",
       "      <td>False</td>\n",
       "      <td>True</td>\n",
       "      <td>False</td>\n",
       "      <td>True</td>\n",
       "      <td>True</td>\n",
       "      <td>True</td>\n",
       "      <td>True</td>\n",
       "      <td>True</td>\n",
       "      <td>True</td>\n",
       "    </tr>\n",
       "    <tr>\n",
       "      <th>1433</th>\n",
       "      <td>True</td>\n",
       "      <td>True</td>\n",
       "      <td>True</td>\n",
       "      <td>True</td>\n",
       "      <td>True</td>\n",
       "      <td>True</td>\n",
       "      <td>True</td>\n",
       "      <td>True</td>\n",
       "      <td>True</td>\n",
       "      <td>True</td>\n",
       "      <td>True</td>\n",
       "      <td>True</td>\n",
       "      <td>True</td>\n",
       "      <td>True</td>\n",
       "      <td>True</td>\n",
       "      <td>True</td>\n",
       "      <td>True</td>\n",
       "      <td>True</td>\n",
       "      <td>True</td>\n",
       "    </tr>\n",
       "    <tr>\n",
       "      <th>3855</th>\n",
       "      <td>True</td>\n",
       "      <td>True</td>\n",
       "      <td>True</td>\n",
       "      <td>True</td>\n",
       "      <td>True</td>\n",
       "      <td>True</td>\n",
       "      <td>True</td>\n",
       "      <td>True</td>\n",
       "      <td>True</td>\n",
       "      <td>True</td>\n",
       "      <td>True</td>\n",
       "      <td>True</td>\n",
       "      <td>True</td>\n",
       "      <td>True</td>\n",
       "      <td>True</td>\n",
       "      <td>True</td>\n",
       "      <td>True</td>\n",
       "      <td>True</td>\n",
       "      <td>True</td>\n",
       "    </tr>\n",
       "  </tbody>\n",
       "</table>\n",
       "<p>6389 rows × 19 columns</p>\n",
       "</div>\n",
       "      <button class=\"colab-df-convert\" onclick=\"convertToInteractive('df-a1fef91b-f347-4806-8128-d2365fb8ff21')\"\n",
       "              title=\"Convert this dataframe to an interactive table.\"\n",
       "              style=\"display:none;\">\n",
       "        \n",
       "  <svg xmlns=\"http://www.w3.org/2000/svg\" height=\"24px\"viewBox=\"0 0 24 24\"\n",
       "       width=\"24px\">\n",
       "    <path d=\"M0 0h24v24H0V0z\" fill=\"none\"/>\n",
       "    <path d=\"M18.56 5.44l.94 2.06.94-2.06 2.06-.94-2.06-.94-.94-2.06-.94 2.06-2.06.94zm-11 1L8.5 8.5l.94-2.06 2.06-.94-2.06-.94L8.5 2.5l-.94 2.06-2.06.94zm10 10l.94 2.06.94-2.06 2.06-.94-2.06-.94-.94-2.06-.94 2.06-2.06.94z\"/><path d=\"M17.41 7.96l-1.37-1.37c-.4-.4-.92-.59-1.43-.59-.52 0-1.04.2-1.43.59L10.3 9.45l-7.72 7.72c-.78.78-.78 2.05 0 2.83L4 21.41c.39.39.9.59 1.41.59.51 0 1.02-.2 1.41-.59l7.78-7.78 2.81-2.81c.8-.78.8-2.07 0-2.86zM5.41 20L4 18.59l7.72-7.72 1.47 1.35L5.41 20z\"/>\n",
       "  </svg>\n",
       "      </button>\n",
       "      \n",
       "  <style>\n",
       "    .colab-df-container {\n",
       "      display:flex;\n",
       "      flex-wrap:wrap;\n",
       "      gap: 12px;\n",
       "    }\n",
       "\n",
       "    .colab-df-convert {\n",
       "      background-color: #E8F0FE;\n",
       "      border: none;\n",
       "      border-radius: 50%;\n",
       "      cursor: pointer;\n",
       "      display: none;\n",
       "      fill: #1967D2;\n",
       "      height: 32px;\n",
       "      padding: 0 0 0 0;\n",
       "      width: 32px;\n",
       "    }\n",
       "\n",
       "    .colab-df-convert:hover {\n",
       "      background-color: #E2EBFA;\n",
       "      box-shadow: 0px 1px 2px rgba(60, 64, 67, 0.3), 0px 1px 3px 1px rgba(60, 64, 67, 0.15);\n",
       "      fill: #174EA6;\n",
       "    }\n",
       "\n",
       "    [theme=dark] .colab-df-convert {\n",
       "      background-color: #3B4455;\n",
       "      fill: #D2E3FC;\n",
       "    }\n",
       "\n",
       "    [theme=dark] .colab-df-convert:hover {\n",
       "      background-color: #434B5C;\n",
       "      box-shadow: 0px 1px 3px 1px rgba(0, 0, 0, 0.15);\n",
       "      filter: drop-shadow(0px 1px 2px rgba(0, 0, 0, 0.3));\n",
       "      fill: #FFFFFF;\n",
       "    }\n",
       "  </style>\n",
       "\n",
       "      <script>\n",
       "        const buttonEl =\n",
       "          document.querySelector('#df-a1fef91b-f347-4806-8128-d2365fb8ff21 button.colab-df-convert');\n",
       "        buttonEl.style.display =\n",
       "          google.colab.kernel.accessAllowed ? 'block' : 'none';\n",
       "\n",
       "        async function convertToInteractive(key) {\n",
       "          const element = document.querySelector('#df-a1fef91b-f347-4806-8128-d2365fb8ff21');\n",
       "          const dataTable =\n",
       "            await google.colab.kernel.invokeFunction('convertToInteractive',\n",
       "                                                     [key], {});\n",
       "          if (!dataTable) return;\n",
       "\n",
       "          const docLinkHtml = 'Like what you see? Visit the ' +\n",
       "            '<a target=\"_blank\" href=https://colab.research.google.com/notebooks/data_table.ipynb>data table notebook</a>'\n",
       "            + ' to learn more about interactive tables.';\n",
       "          element.innerHTML = '';\n",
       "          dataTable['output_type'] = 'display_data';\n",
       "          await google.colab.output.renderOutput(dataTable, element);\n",
       "          const docLink = document.createElement('div');\n",
       "          docLink.innerHTML = docLinkHtml;\n",
       "          element.appendChild(docLink);\n",
       "        }\n",
       "      </script>\n",
       "    </div>\n",
       "  </div>\n",
       "  "
      ],
      "text/plain": [
       "      Coverage  Education  EmploymentStatus  Gender  Income  Location.Code  \\\n",
       "5864      True       True              True    True    True           True   \n",
       "4529      True       True              True    True    True           True   \n",
       "7341      True       True              True    True    True           True   \n",
       "9600      True       True              True    True    True           True   \n",
       "8572      True       True              True    True    True           True   \n",
       "...        ...        ...               ...     ...     ...            ...   \n",
       "7940      True       True              True    True    True           True   \n",
       "8347     False       True              True    True    True           True   \n",
       "5601     False       True              True    True    True           True   \n",
       "1433      True       True              True    True    True           True   \n",
       "3855      True       True              True    True    True           True   \n",
       "\n",
       "      Marital.Status  Monthly.Premium.Auto  Months.Since.Last.Claim  \\\n",
       "5864            True                  True                     True   \n",
       "4529            True                  True                     True   \n",
       "7341            True                  True                     True   \n",
       "9600            True                  True                     True   \n",
       "8572            True                  True                     True   \n",
       "...              ...                   ...                      ...   \n",
       "7940            True                  True                     True   \n",
       "8347            True                  True                     True   \n",
       "5601            True                  True                     True   \n",
       "1433            True                  True                     True   \n",
       "3855            True                  True                     True   \n",
       "\n",
       "      Months.Since.Policy.Inception  Number.of.Open.Complaints  \\\n",
       "5864                           True                       True   \n",
       "4529                           True                       True   \n",
       "7341                           True                       True   \n",
       "9600                           True                       True   \n",
       "8572                           True                       True   \n",
       "...                             ...                        ...   \n",
       "7940                           True                       True   \n",
       "8347                           True                       True   \n",
       "5601                           True                      False   \n",
       "1433                           True                       True   \n",
       "3855                           True                       True   \n",
       "\n",
       "      Number.of.Policies  Policy.Type  Policy  Renew.Offer.Type  \\\n",
       "5864                True         True    True              True   \n",
       "4529                True         True    True              True   \n",
       "7341                True         True    True              True   \n",
       "9600                True        False    True              True   \n",
       "8572                True         True    True              True   \n",
       "...                  ...          ...     ...               ...   \n",
       "7940                True        False    True              True   \n",
       "8347                True        False    True              True   \n",
       "5601                True        False    True              True   \n",
       "1433                True         True    True              True   \n",
       "3855                True         True    True              True   \n",
       "\n",
       "      Sales.Channel  Total.Claim.Amount  Vehicle.Class  Vehicle.Size  \n",
       "5864           True                True           True          True  \n",
       "4529           True                True           True          True  \n",
       "7341           True                True           True          True  \n",
       "9600           True                True           True          True  \n",
       "8572           True                True           True          True  \n",
       "...             ...                 ...            ...           ...  \n",
       "7940           True                True           True          True  \n",
       "8347           True                True           True          True  \n",
       "5601           True                True           True          True  \n",
       "1433           True                True           True          True  \n",
       "3855           True                True           True          True  \n",
       "\n",
       "[6389 rows x 19 columns]"
      ]
     },
     "execution_count": 48,
     "metadata": {},
     "output_type": "execute_result"
    }
   ],
   "source": [
    "x_train.notnull()"
   ]
  },
  {
   "cell_type": "code",
   "execution_count": 49,
   "metadata": {
    "colab": {
     "base_uri": "https://localhost:8080/"
    },
    "executionInfo": {
     "elapsed": 51,
     "status": "ok",
     "timestamp": 1669002155104,
     "user": {
      "displayName": "Mallikarjun Thripuraboina",
      "userId": "01775111500134944659"
     },
     "user_tz": -330
    },
    "id": "tbLa1HG2Gc8u",
    "outputId": "80bc901a-43be-49dc-9bae-9007d2d31861"
   },
   "outputs": [
    {
     "data": {
      "text/plain": [
       "Coverage                         283\n",
       "Education                         40\n",
       "EmploymentStatus                  34\n",
       "Gender                            40\n",
       "Income                            34\n",
       "Location.Code                     39\n",
       "Marital.Status                    40\n",
       "Monthly.Premium.Auto             227\n",
       "Months.Since.Last.Claim            0\n",
       "Months.Since.Policy.Inception      0\n",
       "Number.of.Open.Complaints        217\n",
       "Number.of.Policies                36\n",
       "Policy.Type                      264\n",
       "Policy                            36\n",
       "Renew.Offer.Type                  35\n",
       "Sales.Channel                     35\n",
       "Total.Claim.Amount                 0\n",
       "Vehicle.Class                     38\n",
       "Vehicle.Size                      38\n",
       "dtype: int64"
      ]
     },
     "execution_count": 49,
     "metadata": {},
     "output_type": "execute_result"
    }
   ],
   "source": [
    "x_test.isna().sum()"
   ]
  },
  {
   "cell_type": "markdown",
   "metadata": {
    "id": "PQ62GwRCHCuO"
   },
   "source": [
    "<h3 id=\"deal_missing_values\">Deal with missing data</h3>\n",
    "<b>How to deal with missing data?</b>\n",
    "\n",
    "<ol>\n",
    "    <li>Drop data<br>\n",
    "        a. Drop the whole row<br>\n",
    "        b. Drop the whole column\n",
    "    </li>\n",
    "    <li>Replace data<br>\n",
    "        a. Replace it by mean<br>\n",
    "        b. Replace it by frequency<br>\n",
    "        c. Replace it based on other functions\n",
    "    </li>\n",
    "</ol>\n"
   ]
  },
  {
   "cell_type": "markdown",
   "metadata": {
    "id": "CVWQeG5JHQS5"
   },
   "source": [
    "Whole columns should be dropped only if most entries in the column are empty. In our dataset, none of the columns are empty enough to drop entirely.\n",
    "We have some freedom in choosing which method to replace data; however, some methods may seem more reasonable than others. We will apply each method to many different columns:"
   ]
  },
  {
   "cell_type": "code",
   "execution_count": 50,
   "metadata": {
    "executionInfo": {
     "elapsed": 45,
     "status": "ok",
     "timestamp": 1669002155106,
     "user": {
      "displayName": "Mallikarjun Thripuraboina",
      "userId": "01775111500134944659"
     },
     "user_tz": -330
    },
    "id": "WBgz9655NghP"
   },
   "outputs": [],
   "source": [
    "num_imputer = SimpleImputer(strategy='mean')\n",
    "cat_imputer = SimpleImputer(strategy='most_frequent')"
   ]
  },
  {
   "cell_type": "code",
   "execution_count": 51,
   "metadata": {
    "executionInfo": {
     "elapsed": 46,
     "status": "ok",
     "timestamp": 1669002155107,
     "user": {
      "displayName": "Mallikarjun Thripuraboina",
      "userId": "01775111500134944659"
     },
     "user_tz": -330
    },
    "id": "L6sUieoFN0j3"
   },
   "outputs": [],
   "source": [
    "x_train_num = pd.DataFrame(num_imputer.fit_transform(x_train_num), columns=x_train_num.columns)\n",
    "x_test_num = pd.DataFrame(num_imputer.transform(x_test_num), columns=x_test_num.columns)"
   ]
  },
  {
   "cell_type": "code",
   "execution_count": 52,
   "metadata": {
    "executionInfo": {
     "elapsed": 46,
     "status": "ok",
     "timestamp": 1669002155108,
     "user": {
      "displayName": "Mallikarjun Thripuraboina",
      "userId": "01775111500134944659"
     },
     "user_tz": -330
    },
    "id": "uS7GYn-OOOwK"
   },
   "outputs": [],
   "source": [
    "x_train_cat = pd.DataFrame(cat_imputer.fit_transform(x_train_cat), columns = x_train_cat.columns)\n",
    "x_test_cat = pd.DataFrame(cat_imputer.transform(x_test_cat), columns=x_test_cat.columns)"
   ]
  },
  {
   "cell_type": "code",
   "execution_count": 53,
   "metadata": {
    "colab": {
     "base_uri": "https://localhost:8080/"
    },
    "executionInfo": {
     "elapsed": 48,
     "status": "ok",
     "timestamp": 1669002155109,
     "user": {
      "displayName": "Mallikarjun Thripuraboina",
      "userId": "01775111500134944659"
     },
     "user_tz": -330
    },
    "id": "brDGAna0O0vS",
    "outputId": "8fdb8974-d209-463e-a4ef-0b8afd533d26"
   },
   "outputs": [
    {
     "data": {
      "text/plain": [
       "Income                           0\n",
       "Monthly.Premium.Auto             0\n",
       "Months.Since.Last.Claim          0\n",
       "Months.Since.Policy.Inception    0\n",
       "Total.Claim.Amount               0\n",
       "dtype: int64"
      ]
     },
     "execution_count": 53,
     "metadata": {},
     "output_type": "execute_result"
    }
   ],
   "source": [
    "x_train_num.isna().sum()"
   ]
  },
  {
   "cell_type": "code",
   "execution_count": 54,
   "metadata": {
    "colab": {
     "base_uri": "https://localhost:8080/"
    },
    "executionInfo": {
     "elapsed": 44,
     "status": "ok",
     "timestamp": 1669002155111,
     "user": {
      "displayName": "Mallikarjun Thripuraboina",
      "userId": "01775111500134944659"
     },
     "user_tz": -330
    },
    "id": "UdB-F0OrPMXn",
    "outputId": "cb91c990-fd02-49f6-e65e-ead7e8022f75"
   },
   "outputs": [
    {
     "data": {
      "text/plain": [
       "Coverage                     0\n",
       "Education                    0\n",
       "EmploymentStatus             0\n",
       "Gender                       0\n",
       "Location.Code                0\n",
       "Marital.Status               0\n",
       "Number.of.Open.Complaints    0\n",
       "Number.of.Policies           0\n",
       "Policy.Type                  0\n",
       "Policy                       0\n",
       "Renew.Offer.Type             0\n",
       "Sales.Channel                0\n",
       "Vehicle.Class                0\n",
       "Vehicle.Size                 0\n",
       "dtype: int64"
      ]
     },
     "execution_count": 54,
     "metadata": {},
     "output_type": "execute_result"
    }
   ],
   "source": [
    "x_train_cat.isna().sum()"
   ]
  },
  {
   "cell_type": "markdown",
   "metadata": {
    "id": "pjJAVVF2Ifzb"
   },
   "source": [
    "<b>Wonderful!</b>\n",
    "\n",
    "Now we have finally obtained the cleaned dataset with no missing values with all data in its proper format.\n"
   ]
  },
  {
   "cell_type": "markdown",
   "metadata": {
    "id": "A84gb24OIk1m"
   },
   "source": [
    "<h2 id=\"data_standardization\">Data Standardization</h2>\n",
    "<p>\n",
    "Data is usually collected from different agencies in different formats.\n",
    "(Data standardization is also a term for a particular type of data normalization where we subtract the mean and divide by the standard deviation.)\n",
    "</p>\n",
    "\n",
    "<b>What is standardization?</b>\n",
    "\n",
    "<p>Standardization is the process of transforming data into a common format, allowing the researcher to make the meaningful comparison.\n",
    "</p>"
   ]
  },
  {
   "cell_type": "markdown",
   "metadata": {
    "id": "gQHH2MqWLtZ_"
   },
   "source": [
    "<p> standardization is done by the following formula for every data point.</p>\n",
    "<p><b> z = (x-μ)/σ </p>\n",
    "<p>where x= datapoint </p>\n",
    "      <p>μ= mean </p>\n",
    "      <p>σ = standardization </p>"
   ]
  },
  {
   "cell_type": "code",
   "execution_count": 55,
   "metadata": {
    "executionInfo": {
     "elapsed": 39,
     "status": "ok",
     "timestamp": 1669002155112,
     "user": {
      "displayName": "Mallikarjun Thripuraboina",
      "userId": "01775111500134944659"
     },
     "user_tz": -330
    },
    "id": "h1o2KOZhPTVH"
   },
   "outputs": [],
   "source": [
    "std = StandardScaler()"
   ]
  },
  {
   "cell_type": "markdown",
   "metadata": {
    "id": "VWLC3kSDM_ct"
   },
   "source": [
    "<h3> Standardizing for numerical data"
   ]
  },
  {
   "cell_type": "code",
   "execution_count": 56,
   "metadata": {
    "executionInfo": {
     "elapsed": 39,
     "status": "ok",
     "timestamp": 1669002155113,
     "user": {
      "displayName": "Mallikarjun Thripuraboina",
      "userId": "01775111500134944659"
     },
     "user_tz": -330
    },
    "id": "i0uNKE5GPpyp"
   },
   "outputs": [],
   "source": [
    "\n",
    "x_train_num = pd.DataFrame(std.fit_transform(x_train_num), columns=x_train_num.columns)\n",
    "x_test_num = pd.DataFrame(std.transform(x_test_num), columns=x_test_num.columns)"
   ]
  },
  {
   "cell_type": "code",
   "execution_count": 57,
   "metadata": {
    "colab": {
     "base_uri": "https://localhost:8080/",
     "height": 0
    },
    "executionInfo": {
     "elapsed": 39,
     "status": "ok",
     "timestamp": 1669002155113,
     "user": {
      "displayName": "Mallikarjun Thripuraboina",
      "userId": "01775111500134944659"
     },
     "user_tz": -330
    },
    "id": "6TIZONawQTcP",
    "outputId": "09892aec-ebda-4598-a154-aebf16ae2d74"
   },
   "outputs": [
    {
     "data": {
      "text/html": [
       "\n",
       "  <div id=\"df-2db92233-7a2d-4043-8d79-28b0ef9c87ba\">\n",
       "    <div class=\"colab-df-container\">\n",
       "      <div>\n",
       "<style scoped>\n",
       "    .dataframe tbody tr th:only-of-type {\n",
       "        vertical-align: middle;\n",
       "    }\n",
       "\n",
       "    .dataframe tbody tr th {\n",
       "        vertical-align: top;\n",
       "    }\n",
       "\n",
       "    .dataframe thead th {\n",
       "        text-align: right;\n",
       "    }\n",
       "</style>\n",
       "<table border=\"1\" class=\"dataframe\">\n",
       "  <thead>\n",
       "    <tr style=\"text-align: right;\">\n",
       "      <th></th>\n",
       "      <th>Income</th>\n",
       "      <th>Monthly.Premium.Auto</th>\n",
       "      <th>Months.Since.Last.Claim</th>\n",
       "      <th>Months.Since.Policy.Inception</th>\n",
       "      <th>Total.Claim.Amount</th>\n",
       "    </tr>\n",
       "  </thead>\n",
       "  <tbody>\n",
       "    <tr>\n",
       "      <th>0</th>\n",
       "      <td>0.802517</td>\n",
       "      <td>-1.169832</td>\n",
       "      <td>-1.502652</td>\n",
       "      <td>1.819828</td>\n",
       "      <td>-0.440068</td>\n",
       "    </tr>\n",
       "    <tr>\n",
       "      <th>1</th>\n",
       "      <td>-1.272297</td>\n",
       "      <td>0.803683</td>\n",
       "      <td>-0.207059</td>\n",
       "      <td>-1.000489</td>\n",
       "      <td>0.541698</td>\n",
       "    </tr>\n",
       "    <tr>\n",
       "      <th>2</th>\n",
       "      <td>0.584373</td>\n",
       "      <td>1.367544</td>\n",
       "      <td>1.586839</td>\n",
       "      <td>-1.571692</td>\n",
       "      <td>0.795972</td>\n",
       "    </tr>\n",
       "    <tr>\n",
       "      <th>3</th>\n",
       "      <td>-1.272297</td>\n",
       "      <td>0.662718</td>\n",
       "      <td>-0.306720</td>\n",
       "      <td>-1.607392</td>\n",
       "      <td>1.687092</td>\n",
       "    </tr>\n",
       "    <tr>\n",
       "      <th>4</th>\n",
       "      <td>-0.300347</td>\n",
       "      <td>-0.934890</td>\n",
       "      <td>-0.805025</td>\n",
       "      <td>-1.178990</td>\n",
       "      <td>-0.293699</td>\n",
       "    </tr>\n",
       "  </tbody>\n",
       "</table>\n",
       "</div>\n",
       "      <button class=\"colab-df-convert\" onclick=\"convertToInteractive('df-2db92233-7a2d-4043-8d79-28b0ef9c87ba')\"\n",
       "              title=\"Convert this dataframe to an interactive table.\"\n",
       "              style=\"display:none;\">\n",
       "        \n",
       "  <svg xmlns=\"http://www.w3.org/2000/svg\" height=\"24px\"viewBox=\"0 0 24 24\"\n",
       "       width=\"24px\">\n",
       "    <path d=\"M0 0h24v24H0V0z\" fill=\"none\"/>\n",
       "    <path d=\"M18.56 5.44l.94 2.06.94-2.06 2.06-.94-2.06-.94-.94-2.06-.94 2.06-2.06.94zm-11 1L8.5 8.5l.94-2.06 2.06-.94-2.06-.94L8.5 2.5l-.94 2.06-2.06.94zm10 10l.94 2.06.94-2.06 2.06-.94-2.06-.94-.94-2.06-.94 2.06-2.06.94z\"/><path d=\"M17.41 7.96l-1.37-1.37c-.4-.4-.92-.59-1.43-.59-.52 0-1.04.2-1.43.59L10.3 9.45l-7.72 7.72c-.78.78-.78 2.05 0 2.83L4 21.41c.39.39.9.59 1.41.59.51 0 1.02-.2 1.41-.59l7.78-7.78 2.81-2.81c.8-.78.8-2.07 0-2.86zM5.41 20L4 18.59l7.72-7.72 1.47 1.35L5.41 20z\"/>\n",
       "  </svg>\n",
       "      </button>\n",
       "      \n",
       "  <style>\n",
       "    .colab-df-container {\n",
       "      display:flex;\n",
       "      flex-wrap:wrap;\n",
       "      gap: 12px;\n",
       "    }\n",
       "\n",
       "    .colab-df-convert {\n",
       "      background-color: #E8F0FE;\n",
       "      border: none;\n",
       "      border-radius: 50%;\n",
       "      cursor: pointer;\n",
       "      display: none;\n",
       "      fill: #1967D2;\n",
       "      height: 32px;\n",
       "      padding: 0 0 0 0;\n",
       "      width: 32px;\n",
       "    }\n",
       "\n",
       "    .colab-df-convert:hover {\n",
       "      background-color: #E2EBFA;\n",
       "      box-shadow: 0px 1px 2px rgba(60, 64, 67, 0.3), 0px 1px 3px 1px rgba(60, 64, 67, 0.15);\n",
       "      fill: #174EA6;\n",
       "    }\n",
       "\n",
       "    [theme=dark] .colab-df-convert {\n",
       "      background-color: #3B4455;\n",
       "      fill: #D2E3FC;\n",
       "    }\n",
       "\n",
       "    [theme=dark] .colab-df-convert:hover {\n",
       "      background-color: #434B5C;\n",
       "      box-shadow: 0px 1px 3px 1px rgba(0, 0, 0, 0.15);\n",
       "      filter: drop-shadow(0px 1px 2px rgba(0, 0, 0, 0.3));\n",
       "      fill: #FFFFFF;\n",
       "    }\n",
       "  </style>\n",
       "\n",
       "      <script>\n",
       "        const buttonEl =\n",
       "          document.querySelector('#df-2db92233-7a2d-4043-8d79-28b0ef9c87ba button.colab-df-convert');\n",
       "        buttonEl.style.display =\n",
       "          google.colab.kernel.accessAllowed ? 'block' : 'none';\n",
       "\n",
       "        async function convertToInteractive(key) {\n",
       "          const element = document.querySelector('#df-2db92233-7a2d-4043-8d79-28b0ef9c87ba');\n",
       "          const dataTable =\n",
       "            await google.colab.kernel.invokeFunction('convertToInteractive',\n",
       "                                                     [key], {});\n",
       "          if (!dataTable) return;\n",
       "\n",
       "          const docLinkHtml = 'Like what you see? Visit the ' +\n",
       "            '<a target=\"_blank\" href=https://colab.research.google.com/notebooks/data_table.ipynb>data table notebook</a>'\n",
       "            + ' to learn more about interactive tables.';\n",
       "          element.innerHTML = '';\n",
       "          dataTable['output_type'] = 'display_data';\n",
       "          await google.colab.output.renderOutput(dataTable, element);\n",
       "          const docLink = document.createElement('div');\n",
       "          docLink.innerHTML = docLinkHtml;\n",
       "          element.appendChild(docLink);\n",
       "        }\n",
       "      </script>\n",
       "    </div>\n",
       "  </div>\n",
       "  "
      ],
      "text/plain": [
       "     Income  Monthly.Premium.Auto  Months.Since.Last.Claim  \\\n",
       "0  0.802517             -1.169832                -1.502652   \n",
       "1 -1.272297              0.803683                -0.207059   \n",
       "2  0.584373              1.367544                 1.586839   \n",
       "3 -1.272297              0.662718                -0.306720   \n",
       "4 -0.300347             -0.934890                -0.805025   \n",
       "\n",
       "   Months.Since.Policy.Inception  Total.Claim.Amount  \n",
       "0                       1.819828           -0.440068  \n",
       "1                      -1.000489            0.541698  \n",
       "2                      -1.571692            0.795972  \n",
       "3                      -1.607392            1.687092  \n",
       "4                      -1.178990           -0.293699  "
      ]
     },
     "execution_count": 57,
     "metadata": {},
     "output_type": "execute_result"
    }
   ],
   "source": [
    "x_train_num.head()"
   ]
  },
  {
   "cell_type": "markdown",
   "metadata": {
    "id": "EQelQ3gUQkXT"
   },
   "source": [
    "<h2>one Hot encoding"
   ]
  },
  {
   "cell_type": "markdown",
   "metadata": {
    "id": "wom6HQ5SNxm0"
   },
   "source": [
    "In fact, using this encoding and allowing the model to assume a natural ordering between categories may result in poor performance or unexpected results (predictions halfway between categories).\n",
    "\n",
    "In this case, a one-hot encoding can be applied to the integer representation. This is where the integer encoded variable is removed and a new binary variable is added for each unique integer value."
   ]
  },
  {
   "cell_type": "code",
   "execution_count": 58,
   "metadata": {
    "executionInfo": {
     "elapsed": 38,
     "status": "ok",
     "timestamp": 1669002155114,
     "user": {
      "displayName": "Mallikarjun Thripuraboina",
      "userId": "01775111500134944659"
     },
     "user_tz": -330
    },
    "id": "VnQz98OKQZFT"
   },
   "outputs": [],
   "source": [
    "ohe = OneHotEncoder(handle_unknown='ignore')"
   ]
  },
  {
   "cell_type": "markdown",
   "metadata": {
    "id": "S0WCbD6wN98d"
   },
   "source": [
    "<h3> One hot encoding for categorical values"
   ]
  },
  {
   "cell_type": "code",
   "execution_count": 59,
   "metadata": {
    "executionInfo": {
     "elapsed": 39,
     "status": "ok",
     "timestamp": 1669002155115,
     "user": {
      "displayName": "Mallikarjun Thripuraboina",
      "userId": "01775111500134944659"
     },
     "user_tz": -330
    },
    "id": "TIQvmp44Q6IA"
   },
   "outputs": [],
   "source": [
    "x_train_cat = pd.DataFrame(ohe.fit_transform(x_train_cat).todense(), columns=ohe.get_feature_names_out())\n",
    "x_test_cat = pd.DataFrame(ohe.transform(x_test_cat).todense(), columns=ohe.get_feature_names_out())"
   ]
  },
  {
   "cell_type": "code",
   "execution_count": 60,
   "metadata": {
    "colab": {
     "base_uri": "https://localhost:8080/",
     "height": 0
    },
    "executionInfo": {
     "elapsed": 39,
     "status": "ok",
     "timestamp": 1669002155116,
     "user": {
      "displayName": "Mallikarjun Thripuraboina",
      "userId": "01775111500134944659"
     },
     "user_tz": -330
    },
    "id": "I-4Igs7zRaAS",
    "outputId": "dd8bc185-03b9-44a3-8729-89a66d785d0b"
   },
   "outputs": [
    {
     "data": {
      "text/html": [
       "\n",
       "  <div id=\"df-0bb5930e-27f0-457d-bff7-d342299ebade\">\n",
       "    <div class=\"colab-df-container\">\n",
       "      <div>\n",
       "<style scoped>\n",
       "    .dataframe tbody tr th:only-of-type {\n",
       "        vertical-align: middle;\n",
       "    }\n",
       "\n",
       "    .dataframe tbody tr th {\n",
       "        vertical-align: top;\n",
       "    }\n",
       "\n",
       "    .dataframe thead th {\n",
       "        text-align: right;\n",
       "    }\n",
       "</style>\n",
       "<table border=\"1\" class=\"dataframe\">\n",
       "  <thead>\n",
       "    <tr style=\"text-align: right;\">\n",
       "      <th></th>\n",
       "      <th>Coverage_Basic</th>\n",
       "      <th>Coverage_Extended</th>\n",
       "      <th>Coverage_Premium</th>\n",
       "      <th>Education_Bachelor</th>\n",
       "      <th>Education_College</th>\n",
       "      <th>Education_Doctor</th>\n",
       "      <th>Education_High School or Below</th>\n",
       "      <th>Education_Master</th>\n",
       "      <th>EmploymentStatus_Disabled</th>\n",
       "      <th>EmploymentStatus_Employed</th>\n",
       "      <th>...</th>\n",
       "      <th>Sales.Channel_Web</th>\n",
       "      <th>Vehicle.Class_Four-Door Car</th>\n",
       "      <th>Vehicle.Class_Luxury Car</th>\n",
       "      <th>Vehicle.Class_Luxury SUV</th>\n",
       "      <th>Vehicle.Class_SUV</th>\n",
       "      <th>Vehicle.Class_Sports Car</th>\n",
       "      <th>Vehicle.Class_Two-Door Car</th>\n",
       "      <th>Vehicle.Size_1.0</th>\n",
       "      <th>Vehicle.Size_2.0</th>\n",
       "      <th>Vehicle.Size_3.0</th>\n",
       "    </tr>\n",
       "  </thead>\n",
       "  <tbody>\n",
       "    <tr>\n",
       "      <th>0</th>\n",
       "      <td>1.0</td>\n",
       "      <td>0.0</td>\n",
       "      <td>0.0</td>\n",
       "      <td>0.0</td>\n",
       "      <td>0.0</td>\n",
       "      <td>0.0</td>\n",
       "      <td>1.0</td>\n",
       "      <td>0.0</td>\n",
       "      <td>0.0</td>\n",
       "      <td>1.0</td>\n",
       "      <td>...</td>\n",
       "      <td>0.0</td>\n",
       "      <td>1.0</td>\n",
       "      <td>0.0</td>\n",
       "      <td>0.0</td>\n",
       "      <td>0.0</td>\n",
       "      <td>0.0</td>\n",
       "      <td>0.0</td>\n",
       "      <td>0.0</td>\n",
       "      <td>1.0</td>\n",
       "      <td>0.0</td>\n",
       "    </tr>\n",
       "    <tr>\n",
       "      <th>1</th>\n",
       "      <td>0.0</td>\n",
       "      <td>0.0</td>\n",
       "      <td>1.0</td>\n",
       "      <td>0.0</td>\n",
       "      <td>1.0</td>\n",
       "      <td>0.0</td>\n",
       "      <td>0.0</td>\n",
       "      <td>0.0</td>\n",
       "      <td>0.0</td>\n",
       "      <td>0.0</td>\n",
       "      <td>...</td>\n",
       "      <td>0.0</td>\n",
       "      <td>1.0</td>\n",
       "      <td>0.0</td>\n",
       "      <td>0.0</td>\n",
       "      <td>0.0</td>\n",
       "      <td>0.0</td>\n",
       "      <td>0.0</td>\n",
       "      <td>0.0</td>\n",
       "      <td>0.0</td>\n",
       "      <td>1.0</td>\n",
       "    </tr>\n",
       "    <tr>\n",
       "      <th>2</th>\n",
       "      <td>1.0</td>\n",
       "      <td>0.0</td>\n",
       "      <td>0.0</td>\n",
       "      <td>0.0</td>\n",
       "      <td>0.0</td>\n",
       "      <td>0.0</td>\n",
       "      <td>0.0</td>\n",
       "      <td>1.0</td>\n",
       "      <td>0.0</td>\n",
       "      <td>1.0</td>\n",
       "      <td>...</td>\n",
       "      <td>0.0</td>\n",
       "      <td>0.0</td>\n",
       "      <td>0.0</td>\n",
       "      <td>0.0</td>\n",
       "      <td>1.0</td>\n",
       "      <td>0.0</td>\n",
       "      <td>0.0</td>\n",
       "      <td>0.0</td>\n",
       "      <td>0.0</td>\n",
       "      <td>1.0</td>\n",
       "    </tr>\n",
       "    <tr>\n",
       "      <th>3</th>\n",
       "      <td>1.0</td>\n",
       "      <td>0.0</td>\n",
       "      <td>0.0</td>\n",
       "      <td>0.0</td>\n",
       "      <td>1.0</td>\n",
       "      <td>0.0</td>\n",
       "      <td>0.0</td>\n",
       "      <td>0.0</td>\n",
       "      <td>0.0</td>\n",
       "      <td>0.0</td>\n",
       "      <td>...</td>\n",
       "      <td>0.0</td>\n",
       "      <td>0.0</td>\n",
       "      <td>0.0</td>\n",
       "      <td>0.0</td>\n",
       "      <td>1.0</td>\n",
       "      <td>0.0</td>\n",
       "      <td>0.0</td>\n",
       "      <td>0.0</td>\n",
       "      <td>0.0</td>\n",
       "      <td>1.0</td>\n",
       "    </tr>\n",
       "    <tr>\n",
       "      <th>4</th>\n",
       "      <td>1.0</td>\n",
       "      <td>0.0</td>\n",
       "      <td>0.0</td>\n",
       "      <td>0.0</td>\n",
       "      <td>0.0</td>\n",
       "      <td>0.0</td>\n",
       "      <td>1.0</td>\n",
       "      <td>0.0</td>\n",
       "      <td>0.0</td>\n",
       "      <td>1.0</td>\n",
       "      <td>...</td>\n",
       "      <td>0.0</td>\n",
       "      <td>1.0</td>\n",
       "      <td>0.0</td>\n",
       "      <td>0.0</td>\n",
       "      <td>0.0</td>\n",
       "      <td>0.0</td>\n",
       "      <td>0.0</td>\n",
       "      <td>0.0</td>\n",
       "      <td>0.0</td>\n",
       "      <td>1.0</td>\n",
       "    </tr>\n",
       "  </tbody>\n",
       "</table>\n",
       "<p>5 rows × 65 columns</p>\n",
       "</div>\n",
       "      <button class=\"colab-df-convert\" onclick=\"convertToInteractive('df-0bb5930e-27f0-457d-bff7-d342299ebade')\"\n",
       "              title=\"Convert this dataframe to an interactive table.\"\n",
       "              style=\"display:none;\">\n",
       "        \n",
       "  <svg xmlns=\"http://www.w3.org/2000/svg\" height=\"24px\"viewBox=\"0 0 24 24\"\n",
       "       width=\"24px\">\n",
       "    <path d=\"M0 0h24v24H0V0z\" fill=\"none\"/>\n",
       "    <path d=\"M18.56 5.44l.94 2.06.94-2.06 2.06-.94-2.06-.94-.94-2.06-.94 2.06-2.06.94zm-11 1L8.5 8.5l.94-2.06 2.06-.94-2.06-.94L8.5 2.5l-.94 2.06-2.06.94zm10 10l.94 2.06.94-2.06 2.06-.94-2.06-.94-.94-2.06-.94 2.06-2.06.94z\"/><path d=\"M17.41 7.96l-1.37-1.37c-.4-.4-.92-.59-1.43-.59-.52 0-1.04.2-1.43.59L10.3 9.45l-7.72 7.72c-.78.78-.78 2.05 0 2.83L4 21.41c.39.39.9.59 1.41.59.51 0 1.02-.2 1.41-.59l7.78-7.78 2.81-2.81c.8-.78.8-2.07 0-2.86zM5.41 20L4 18.59l7.72-7.72 1.47 1.35L5.41 20z\"/>\n",
       "  </svg>\n",
       "      </button>\n",
       "      \n",
       "  <style>\n",
       "    .colab-df-container {\n",
       "      display:flex;\n",
       "      flex-wrap:wrap;\n",
       "      gap: 12px;\n",
       "    }\n",
       "\n",
       "    .colab-df-convert {\n",
       "      background-color: #E8F0FE;\n",
       "      border: none;\n",
       "      border-radius: 50%;\n",
       "      cursor: pointer;\n",
       "      display: none;\n",
       "      fill: #1967D2;\n",
       "      height: 32px;\n",
       "      padding: 0 0 0 0;\n",
       "      width: 32px;\n",
       "    }\n",
       "\n",
       "    .colab-df-convert:hover {\n",
       "      background-color: #E2EBFA;\n",
       "      box-shadow: 0px 1px 2px rgba(60, 64, 67, 0.3), 0px 1px 3px 1px rgba(60, 64, 67, 0.15);\n",
       "      fill: #174EA6;\n",
       "    }\n",
       "\n",
       "    [theme=dark] .colab-df-convert {\n",
       "      background-color: #3B4455;\n",
       "      fill: #D2E3FC;\n",
       "    }\n",
       "\n",
       "    [theme=dark] .colab-df-convert:hover {\n",
       "      background-color: #434B5C;\n",
       "      box-shadow: 0px 1px 3px 1px rgba(0, 0, 0, 0.15);\n",
       "      filter: drop-shadow(0px 1px 2px rgba(0, 0, 0, 0.3));\n",
       "      fill: #FFFFFF;\n",
       "    }\n",
       "  </style>\n",
       "\n",
       "      <script>\n",
       "        const buttonEl =\n",
       "          document.querySelector('#df-0bb5930e-27f0-457d-bff7-d342299ebade button.colab-df-convert');\n",
       "        buttonEl.style.display =\n",
       "          google.colab.kernel.accessAllowed ? 'block' : 'none';\n",
       "\n",
       "        async function convertToInteractive(key) {\n",
       "          const element = document.querySelector('#df-0bb5930e-27f0-457d-bff7-d342299ebade');\n",
       "          const dataTable =\n",
       "            await google.colab.kernel.invokeFunction('convertToInteractive',\n",
       "                                                     [key], {});\n",
       "          if (!dataTable) return;\n",
       "\n",
       "          const docLinkHtml = 'Like what you see? Visit the ' +\n",
       "            '<a target=\"_blank\" href=https://colab.research.google.com/notebooks/data_table.ipynb>data table notebook</a>'\n",
       "            + ' to learn more about interactive tables.';\n",
       "          element.innerHTML = '';\n",
       "          dataTable['output_type'] = 'display_data';\n",
       "          await google.colab.output.renderOutput(dataTable, element);\n",
       "          const docLink = document.createElement('div');\n",
       "          docLink.innerHTML = docLinkHtml;\n",
       "          element.appendChild(docLink);\n",
       "        }\n",
       "      </script>\n",
       "    </div>\n",
       "  </div>\n",
       "  "
      ],
      "text/plain": [
       "   Coverage_Basic  Coverage_Extended  Coverage_Premium  Education_Bachelor  \\\n",
       "0             1.0                0.0               0.0                 0.0   \n",
       "1             0.0                0.0               1.0                 0.0   \n",
       "2             1.0                0.0               0.0                 0.0   \n",
       "3             1.0                0.0               0.0                 0.0   \n",
       "4             1.0                0.0               0.0                 0.0   \n",
       "\n",
       "   Education_College  Education_Doctor  Education_High School or Below  \\\n",
       "0                0.0               0.0                             1.0   \n",
       "1                1.0               0.0                             0.0   \n",
       "2                0.0               0.0                             0.0   \n",
       "3                1.0               0.0                             0.0   \n",
       "4                0.0               0.0                             1.0   \n",
       "\n",
       "   Education_Master  EmploymentStatus_Disabled  EmploymentStatus_Employed  \\\n",
       "0               0.0                        0.0                        1.0   \n",
       "1               0.0                        0.0                        0.0   \n",
       "2               1.0                        0.0                        1.0   \n",
       "3               0.0                        0.0                        0.0   \n",
       "4               0.0                        0.0                        1.0   \n",
       "\n",
       "   ...  Sales.Channel_Web  Vehicle.Class_Four-Door Car  \\\n",
       "0  ...                0.0                          1.0   \n",
       "1  ...                0.0                          1.0   \n",
       "2  ...                0.0                          0.0   \n",
       "3  ...                0.0                          0.0   \n",
       "4  ...                0.0                          1.0   \n",
       "\n",
       "   Vehicle.Class_Luxury Car  Vehicle.Class_Luxury SUV  Vehicle.Class_SUV  \\\n",
       "0                       0.0                       0.0                0.0   \n",
       "1                       0.0                       0.0                0.0   \n",
       "2                       0.0                       0.0                1.0   \n",
       "3                       0.0                       0.0                1.0   \n",
       "4                       0.0                       0.0                0.0   \n",
       "\n",
       "   Vehicle.Class_Sports Car  Vehicle.Class_Two-Door Car  Vehicle.Size_1.0  \\\n",
       "0                       0.0                         0.0               0.0   \n",
       "1                       0.0                         0.0               0.0   \n",
       "2                       0.0                         0.0               0.0   \n",
       "3                       0.0                         0.0               0.0   \n",
       "4                       0.0                         0.0               0.0   \n",
       "\n",
       "   Vehicle.Size_2.0  Vehicle.Size_3.0  \n",
       "0               1.0               0.0  \n",
       "1               0.0               1.0  \n",
       "2               0.0               1.0  \n",
       "3               0.0               1.0  \n",
       "4               0.0               1.0  \n",
       "\n",
       "[5 rows x 65 columns]"
      ]
     },
     "execution_count": 60,
     "metadata": {},
     "output_type": "execute_result"
    }
   ],
   "source": [
    "x_train_cat.head()"
   ]
  },
  {
   "cell_type": "code",
   "execution_count": 61,
   "metadata": {
    "executionInfo": {
     "elapsed": 38,
     "status": "ok",
     "timestamp": 1669002155117,
     "user": {
      "displayName": "Mallikarjun Thripuraboina",
      "userId": "01775111500134944659"
     },
     "user_tz": -330
    },
    "id": "J_fzxhgTRx0t"
   },
   "outputs": [],
   "source": [
    "Train = pd.concat([x_train_num, x_train_cat], axis=1)"
   ]
  },
  {
   "cell_type": "code",
   "execution_count": 62,
   "metadata": {
    "colab": {
     "base_uri": "https://localhost:8080/"
    },
    "executionInfo": {
     "elapsed": 38,
     "status": "ok",
     "timestamp": 1669002155118,
     "user": {
      "displayName": "Mallikarjun Thripuraboina",
      "userId": "01775111500134944659"
     },
     "user_tz": -330
    },
    "id": "2bSFN72P-qQb",
    "outputId": "7ec460b1-b950-4f88-eecc-00135d6cb473"
   },
   "outputs": [
    {
     "data": {
      "text/plain": [
       "(6389, 70)"
      ]
     },
     "execution_count": 62,
     "metadata": {},
     "output_type": "execute_result"
    }
   ],
   "source": [
    "Train.shape"
   ]
  },
  {
   "cell_type": "code",
   "execution_count": 63,
   "metadata": {
    "executionInfo": {
     "elapsed": 32,
     "status": "ok",
     "timestamp": 1669002155119,
     "user": {
      "displayName": "Mallikarjun Thripuraboina",
      "userId": "01775111500134944659"
     },
     "user_tz": -330
    },
    "id": "rSaKXuF8SP1w"
   },
   "outputs": [],
   "source": [
    "validation = pd.concat([x_test_num, x_test_cat], axis=1)"
   ]
  },
  {
   "cell_type": "code",
   "execution_count": 64,
   "metadata": {
    "executionInfo": {
     "elapsed": 34,
     "status": "ok",
     "timestamp": 1669002155121,
     "user": {
      "displayName": "Mallikarjun Thripuraboina",
      "userId": "01775111500134944659"
     },
     "user_tz": -330
    },
    "id": "xOjUOcjNSaYn"
   },
   "outputs": [],
   "source": [
    "from sklearn.linear_model import LinearRegression\n",
    "from sklearn.metrics import mean_squared_error, r2_score"
   ]
  },
  {
   "cell_type": "code",
   "execution_count": 65,
   "metadata": {
    "executionInfo": {
     "elapsed": 35,
     "status": "ok",
     "timestamp": 1669002155123,
     "user": {
      "displayName": "Mallikarjun Thripuraboina",
      "userId": "01775111500134944659"
     },
     "user_tz": -330
    },
    "id": "LXIXvUOdaR2N"
   },
   "outputs": [],
   "source": [
    "regression_model = LinearRegression()"
   ]
  },
  {
   "cell_type": "code",
   "execution_count": 66,
   "metadata": {
    "colab": {
     "base_uri": "https://localhost:8080/"
    },
    "executionInfo": {
     "elapsed": 66,
     "status": "ok",
     "timestamp": 1669002155590,
     "user": {
      "displayName": "Mallikarjun Thripuraboina",
      "userId": "01775111500134944659"
     },
     "user_tz": -330
    },
    "id": "aQ9Axu-va_K3",
    "outputId": "45a3bcff-3078-4975-982e-da0040d89f53"
   },
   "outputs": [
    {
     "data": {
      "text/plain": [
       "LinearRegression()"
      ]
     },
     "execution_count": 66,
     "metadata": {},
     "output_type": "execute_result"
    }
   ],
   "source": [
    "regression_model.fit(Train, y_train)"
   ]
  },
  {
   "cell_type": "code",
   "execution_count": 67,
   "metadata": {
    "executionInfo": {
     "elapsed": 59,
     "status": "ok",
     "timestamp": 1669002155591,
     "user": {
      "displayName": "Mallikarjun Thripuraboina",
      "userId": "01775111500134944659"
     },
     "user_tz": -330
    },
    "id": "3toBN3N3bDKk"
   },
   "outputs": [],
   "source": [
    "train_pred_ln=regression_model.predict(Train)"
   ]
  },
  {
   "cell_type": "code",
   "execution_count": 68,
   "metadata": {
    "colab": {
     "base_uri": "https://localhost:8080/"
    },
    "executionInfo": {
     "elapsed": 60,
     "status": "ok",
     "timestamp": 1669002155592,
     "user": {
      "displayName": "Mallikarjun Thripuraboina",
      "userId": "01775111500134944659"
     },
     "user_tz": -330
    },
    "id": "BeA2hePPbFtK",
    "outputId": "80ed856a-032c-4938-c8b1-686920f283ef"
   },
   "outputs": [
    {
     "data": {
      "text/plain": [
       "array([ 5342. ,  7450.5,  9496. , ...,  5275. , 14176. ,  5514. ])"
      ]
     },
     "execution_count": 68,
     "metadata": {},
     "output_type": "execute_result"
    }
   ],
   "source": [
    "train_pred_ln"
   ]
  },
  {
   "cell_type": "code",
   "execution_count": 69,
   "metadata": {
    "executionInfo": {
     "elapsed": 54,
     "status": "ok",
     "timestamp": 1669002155592,
     "user": {
      "displayName": "Mallikarjun Thripuraboina",
      "userId": "01775111500134944659"
     },
     "user_tz": -330
    },
    "id": "c_yceP5tbHt1"
   },
   "outputs": [],
   "source": [
    "validation_pred_ln = regression_model.predict(validation)"
   ]
  },
  {
   "cell_type": "code",
   "execution_count": 70,
   "metadata": {
    "colab": {
     "base_uri": "https://localhost:8080/"
    },
    "executionInfo": {
     "elapsed": 54,
     "status": "ok",
     "timestamp": 1669002155592,
     "user": {
      "displayName": "Mallikarjun Thripuraboina",
      "userId": "01775111500134944659"
     },
     "user_tz": -330
    },
    "id": "eFbLTnvqbMHx",
    "outputId": "cb1792a0-b3a9-4da2-8789-d8db6f3a9df1"
   },
   "outputs": [
    {
     "data": {
      "text/plain": [
       "array([ 5748. ,  2093. , 16735. , ...,  5565.5,  2341. ,  6917.5])"
      ]
     },
     "execution_count": 70,
     "metadata": {},
     "output_type": "execute_result"
    }
   ],
   "source": [
    "validation_pred_ln"
   ]
  },
  {
   "cell_type": "code",
   "execution_count": 71,
   "metadata": {
    "executionInfo": {
     "elapsed": 49,
     "status": "ok",
     "timestamp": 1669002155593,
     "user": {
      "displayName": "Mallikarjun Thripuraboina",
      "userId": "01775111500134944659"
     },
     "user_tz": -330
    },
    "id": "iLUDx-EBbRHC"
   },
   "outputs": [],
   "source": [
    "rmse = mean_squared_error(y_train,train_pred_ln)\n",
    "r2 = r2_score(y_train, train_pred_ln)"
   ]
  },
  {
   "cell_type": "code",
   "execution_count": 71,
   "metadata": {
    "executionInfo": {
     "elapsed": 49,
     "status": "ok",
     "timestamp": 1669002155593,
     "user": {
      "displayName": "Mallikarjun Thripuraboina",
      "userId": "01775111500134944659"
     },
     "user_tz": -330
    },
    "id": "PChsYilnsY_a"
   },
   "outputs": [],
   "source": []
  },
  {
   "cell_type": "code",
   "execution_count": 72,
   "metadata": {
    "colab": {
     "base_uri": "https://localhost:8080/"
    },
    "executionInfo": {
     "elapsed": 50,
     "status": "ok",
     "timestamp": 1669002155594,
     "user": {
      "displayName": "Mallikarjun Thripuraboina",
      "userId": "01775111500134944659"
     },
     "user_tz": -330
    },
    "id": "v0jCoHQxbTg2",
    "outputId": "b5496303-e1d7-467b-c77f-054193d1f887"
   },
   "outputs": [
    {
     "data": {
      "text/plain": [
       "14553129.437088218"
      ]
     },
     "execution_count": 72,
     "metadata": {},
     "output_type": "execute_result"
    }
   ],
   "source": [
    "rmse"
   ]
  },
  {
   "cell_type": "code",
   "execution_count": 73,
   "metadata": {
    "colab": {
     "base_uri": "https://localhost:8080/"
    },
    "executionInfo": {
     "elapsed": 45,
     "status": "ok",
     "timestamp": 1669002155595,
     "user": {
      "displayName": "Mallikarjun Thripuraboina",
      "userId": "01775111500134944659"
     },
     "user_tz": -330
    },
    "id": "rEZXQf3IbVQp",
    "outputId": "70120496-6ca6-4676-b6a4-d3c920083496"
   },
   "outputs": [
    {
     "data": {
      "text/plain": [
       "0.6150234226104863"
      ]
     },
     "execution_count": 73,
     "metadata": {},
     "output_type": "execute_result"
    }
   ],
   "source": [
    "r2"
   ]
  },
  {
   "cell_type": "markdown",
   "metadata": {
    "id": "wABrG94IFyQC"
   },
   "source": [
    "for validation"
   ]
  },
  {
   "cell_type": "code",
   "execution_count": 74,
   "metadata": {
    "executionInfo": {
     "elapsed": 40,
     "status": "ok",
     "timestamp": 1669002155596,
     "user": {
      "displayName": "Mallikarjun Thripuraboina",
      "userId": "01775111500134944659"
     },
     "user_tz": -330
    },
    "id": "NehHeKRCsdpd"
   },
   "outputs": [],
   "source": [
    "rmse = mean_squared_error(y_test,validation_pred_ln)\n",
    "r2 = r2_score(y_test, validation_pred_ln)"
   ]
  },
  {
   "cell_type": "code",
   "execution_count": 75,
   "metadata": {
    "colab": {
     "base_uri": "https://localhost:8080/"
    },
    "executionInfo": {
     "elapsed": 39,
     "status": "ok",
     "timestamp": 1669002155596,
     "user": {
      "displayName": "Mallikarjun Thripuraboina",
      "userId": "01775111500134944659"
     },
     "user_tz": -330
    },
    "id": "3MFb535wspp2",
    "outputId": "6040474b-e0f1-4ae3-ae74-d1b624208f56"
   },
   "outputs": [
    {
     "data": {
      "text/plain": [
       "14183238.806605278"
      ]
     },
     "execution_count": 75,
     "metadata": {},
     "output_type": "execute_result"
    }
   ],
   "source": [
    "rmse"
   ]
  },
  {
   "cell_type": "code",
   "execution_count": 76,
   "metadata": {
    "colab": {
     "base_uri": "https://localhost:8080/"
    },
    "executionInfo": {
     "elapsed": 34,
     "status": "ok",
     "timestamp": 1669002155597,
     "user": {
      "displayName": "Mallikarjun Thripuraboina",
      "userId": "01775111500134944659"
     },
     "user_tz": -330
    },
    "id": "ERkyU9wLsq9G",
    "outputId": "9e93db3f-2a61-4ad7-d937-df1ffd3e695f"
   },
   "outputs": [
    {
     "data": {
      "text/plain": [
       "0.6112285480656627"
      ]
     },
     "execution_count": 76,
     "metadata": {},
     "output_type": "execute_result"
    }
   ],
   "source": [
    "r2"
   ]
  },
  {
   "cell_type": "code",
   "execution_count": 76,
   "metadata": {
    "executionInfo": {
     "elapsed": 28,
     "status": "ok",
     "timestamp": 1669002155597,
     "user": {
      "displayName": "Mallikarjun Thripuraboina",
      "userId": "01775111500134944659"
     },
     "user_tz": -330
    },
    "id": "Ar5_cXsWspbF"
   },
   "outputs": [],
   "source": []
  },
  {
   "cell_type": "markdown",
   "metadata": {
    "id": "viZOaitqgXaJ"
   },
   "source": [
    "<h2> Descion tree"
   ]
  },
  {
   "cell_type": "code",
   "execution_count": 77,
   "metadata": {
    "executionInfo": {
     "elapsed": 28,
     "status": "ok",
     "timestamp": 1669002155598,
     "user": {
      "displayName": "Mallikarjun Thripuraboina",
      "userId": "01775111500134944659"
     },
     "user_tz": -330
    },
    "id": "5llsEi9zbWDM"
   },
   "outputs": [],
   "source": [
    "from sklearn.tree import DecisionTreeRegressor\n",
    "dtclf = DecisionTreeRegressor(max_depth=8)"
   ]
  },
  {
   "cell_type": "code",
   "execution_count": 78,
   "metadata": {
    "colab": {
     "base_uri": "https://localhost:8080/"
    },
    "executionInfo": {
     "elapsed": 28,
     "status": "ok",
     "timestamp": 1669002155598,
     "user": {
      "displayName": "Mallikarjun Thripuraboina",
      "userId": "01775111500134944659"
     },
     "user_tz": -330
    },
    "id": "S-TBHr7jgdW7",
    "outputId": "180ef554-2e03-4f13-a70e-9dbeca4a083a"
   },
   "outputs": [
    {
     "data": {
      "text/plain": [
       "DecisionTreeRegressor(max_depth=8)"
      ]
     },
     "execution_count": 78,
     "metadata": {},
     "output_type": "execute_result"
    }
   ],
   "source": [
    "dtclf.fit(Train, y_train)"
   ]
  },
  {
   "cell_type": "code",
   "execution_count": 79,
   "metadata": {
    "executionInfo": {
     "elapsed": 23,
     "status": "ok",
     "timestamp": 1669002155599,
     "user": {
      "displayName": "Mallikarjun Thripuraboina",
      "userId": "01775111500134944659"
     },
     "user_tz": -330
    },
    "id": "1BgDlbyqggmZ"
   },
   "outputs": [],
   "source": [
    "pred_train_dt = dtclf.predict(Train)\n",
    "pred_validation_dt = dtclf.predict(validation)"
   ]
  },
  {
   "cell_type": "code",
   "execution_count": 80,
   "metadata": {
    "executionInfo": {
     "elapsed": 22,
     "status": "ok",
     "timestamp": 1669002155599,
     "user": {
      "displayName": "Mallikarjun Thripuraboina",
      "userId": "01775111500134944659"
     },
     "user_tz": -330
    },
    "id": "3EkdQluEgpE9"
   },
   "outputs": [],
   "source": [
    "mse = mean_squared_error(y_train,pred_train_dt)\n",
    "r2 = r2_score(y_train, pred_train_dt)"
   ]
  },
  {
   "cell_type": "code",
   "execution_count": 81,
   "metadata": {
    "colab": {
     "base_uri": "https://localhost:8080/"
    },
    "executionInfo": {
     "elapsed": 22,
     "status": "ok",
     "timestamp": 1669002155599,
     "user": {
      "displayName": "Mallikarjun Thripuraboina",
      "userId": "01775111500134944659"
     },
     "user_tz": -330
    },
    "id": "12-ZGmEqg-dc",
    "outputId": "98828b5c-6da0-438f-a100-145a796e3640"
   },
   "outputs": [
    {
     "data": {
      "text/plain": [
       "9423840.831110906"
      ]
     },
     "execution_count": 81,
     "metadata": {},
     "output_type": "execute_result"
    }
   ],
   "source": [
    "mse"
   ]
  },
  {
   "cell_type": "code",
   "execution_count": 82,
   "metadata": {
    "colab": {
     "base_uri": "https://localhost:8080/"
    },
    "executionInfo": {
     "elapsed": 18,
     "status": "ok",
     "timestamp": 1669002156400,
     "user": {
      "displayName": "Mallikarjun Thripuraboina",
      "userId": "01775111500134944659"
     },
     "user_tz": -330
    },
    "id": "Ftez4YBJhLzR",
    "outputId": "cf51c789-6624-4cee-b9ed-f718ebe74df8"
   },
   "outputs": [
    {
     "data": {
      "text/plain": [
       "0.7507094261266664"
      ]
     },
     "execution_count": 82,
     "metadata": {},
     "output_type": "execute_result"
    }
   ],
   "source": [
    "r2"
   ]
  },
  {
   "cell_type": "markdown",
   "metadata": {
    "id": "Lhat4W3nF3J0"
   },
   "source": [
    "<h3> for validation"
   ]
  },
  {
   "cell_type": "code",
   "execution_count": 83,
   "metadata": {
    "executionInfo": {
     "elapsed": 18,
     "status": "ok",
     "timestamp": 1669002156401,
     "user": {
      "displayName": "Mallikarjun Thripuraboina",
      "userId": "01775111500134944659"
     },
     "user_tz": -330
    },
    "id": "TCSZF8kTsvKI"
   },
   "outputs": [],
   "source": [
    "mse = mean_squared_error(y_test,pred_validation_dt)\n",
    "r2 = r2_score(y_test, pred_validation_dt)\n"
   ]
  },
  {
   "cell_type": "code",
   "execution_count": 84,
   "metadata": {
    "colab": {
     "base_uri": "https://localhost:8080/"
    },
    "executionInfo": {
     "elapsed": 18,
     "status": "ok",
     "timestamp": 1669002156402,
     "user": {
      "displayName": "Mallikarjun Thripuraboina",
      "userId": "01775111500134944659"
     },
     "user_tz": -330
    },
    "id": "bxsVJI_5su8K",
    "outputId": "3ac84d67-8459-4f91-86f4-8381df6b12bc"
   },
   "outputs": [
    {
     "data": {
      "text/plain": [
       "15104918.510283146"
      ]
     },
     "execution_count": 84,
     "metadata": {},
     "output_type": "execute_result"
    }
   ],
   "source": [
    "mse"
   ]
  },
  {
   "cell_type": "code",
   "execution_count": 85,
   "metadata": {
    "colab": {
     "base_uri": "https://localhost:8080/"
    },
    "executionInfo": {
     "elapsed": 14,
     "status": "ok",
     "timestamp": 1669002156402,
     "user": {
      "displayName": "Mallikarjun Thripuraboina",
      "userId": "01775111500134944659"
     },
     "user_tz": -330
    },
    "id": "QYDrkgmstEwi",
    "outputId": "ca46c877-b613-4810-a375-371810fabe02"
   },
   "outputs": [
    {
     "data": {
      "text/plain": [
       "0.5859647305763613"
      ]
     },
     "execution_count": 85,
     "metadata": {},
     "output_type": "execute_result"
    }
   ],
   "source": [
    "r2"
   ]
  },
  {
   "cell_type": "markdown",
   "metadata": {
    "id": "SJ7UI7DvFC1e"
   },
   "source": [
    "<h2> Random Forest"
   ]
  },
  {
   "cell_type": "code",
   "execution_count": 86,
   "metadata": {
    "executionInfo": {
     "elapsed": 1161,
     "status": "ok",
     "timestamp": 1669002157554,
     "user": {
      "displayName": "Mallikarjun Thripuraboina",
      "userId": "01775111500134944659"
     },
     "user_tz": -330
    },
    "id": "99p-7Sebh4Qz"
   },
   "outputs": [],
   "source": [
    "from sklearn.ensemble import RandomForestRegressor\n",
    "\n",
    "regressor = RandomForestRegressor(n_estimators=20, random_state=0)\n",
    "regressor.fit(Train, y_train)\n",
    "train_pred = regressor.predict(Train)\n",
    "validation_pred = regressor.predict(validation)"
   ]
  },
  {
   "cell_type": "code",
   "execution_count": 87,
   "metadata": {
    "colab": {
     "base_uri": "https://localhost:8080/"
    },
    "executionInfo": {
     "elapsed": 40,
     "status": "ok",
     "timestamp": 1669002157555,
     "user": {
      "displayName": "Mallikarjun Thripuraboina",
      "userId": "01775111500134944659"
     },
     "user_tz": -330
    },
    "id": "puI1-E_NimPk",
    "outputId": "c6dd6c42-9b6a-4ab1-a3bc-cb3d1fb719be"
   },
   "outputs": [
    {
     "data": {
      "text/plain": [
       "array([4970.7555603 , 7551.527485  , 9249.05487885, ..., 5157.1862155 ,\n",
       "       8455.5643068 , 5780.182197  ])"
      ]
     },
     "execution_count": 87,
     "metadata": {},
     "output_type": "execute_result"
    }
   ],
   "source": [
    "train_pred"
   ]
  },
  {
   "cell_type": "code",
   "execution_count": 88,
   "metadata": {
    "executionInfo": {
     "elapsed": 34,
     "status": "ok",
     "timestamp": 1669002157555,
     "user": {
      "displayName": "Mallikarjun Thripuraboina",
      "userId": "01775111500134944659"
     },
     "user_tz": -330
    },
    "id": "bjWJhZFvirVN"
   },
   "outputs": [],
   "source": [
    "mse = mean_squared_error(y_train,train_pred)\n",
    "r2 = r2_score(y_train, train_pred)"
   ]
  },
  {
   "cell_type": "code",
   "execution_count": 89,
   "metadata": {
    "colab": {
     "base_uri": "https://localhost:8080/"
    },
    "executionInfo": {
     "elapsed": 35,
     "status": "ok",
     "timestamp": 1669002157556,
     "user": {
      "displayName": "Mallikarjun Thripuraboina",
      "userId": "01775111500134944659"
     },
     "user_tz": -330
    },
    "id": "DLeeefjNi7Ay",
    "outputId": "6e659fff-90cc-44fb-afe8-c4682b82e30f"
   },
   "outputs": [
    {
     "data": {
      "text/plain": [
       "1970119.5496337642"
      ]
     },
     "execution_count": 89,
     "metadata": {},
     "output_type": "execute_result"
    }
   ],
   "source": [
    "mse"
   ]
  },
  {
   "cell_type": "code",
   "execution_count": 90,
   "metadata": {
    "colab": {
     "base_uri": "https://localhost:8080/"
    },
    "executionInfo": {
     "elapsed": 29,
     "status": "ok",
     "timestamp": 1669002157556,
     "user": {
      "displayName": "Mallikarjun Thripuraboina",
      "userId": "01775111500134944659"
     },
     "user_tz": -330
    },
    "id": "C76xEwfcjDNN",
    "outputId": "0d5ba3da-404f-41c5-fd13-6dee28241553"
   },
   "outputs": [
    {
     "data": {
      "text/plain": [
       "0.9478840695710924"
      ]
     },
     "execution_count": 90,
     "metadata": {},
     "output_type": "execute_result"
    }
   ],
   "source": [
    "r2"
   ]
  },
  {
   "cell_type": "markdown",
   "metadata": {
    "id": "YqHXRiHNF9fu"
   },
   "source": [
    "<h3> for validation"
   ]
  },
  {
   "cell_type": "code",
   "execution_count": 91,
   "metadata": {
    "executionInfo": {
     "elapsed": 24,
     "status": "ok",
     "timestamp": 1669002157557,
     "user": {
      "displayName": "Mallikarjun Thripuraboina",
      "userId": "01775111500134944659"
     },
     "user_tz": -330
    },
    "id": "bZb7xVGIFMUR"
   },
   "outputs": [],
   "source": [
    "mse = mean_squared_error(y_test,validation_pred)\n",
    "r2 = r2_score(y_test, validation_pred)"
   ]
  },
  {
   "cell_type": "code",
   "execution_count": 92,
   "metadata": {
    "colab": {
     "base_uri": "https://localhost:8080/"
    },
    "executionInfo": {
     "elapsed": 23,
     "status": "ok",
     "timestamp": 1669002157557,
     "user": {
      "displayName": "Mallikarjun Thripuraboina",
      "userId": "01775111500134944659"
     },
     "user_tz": -330
    },
    "id": "rBwDYSeQjJB1",
    "outputId": "7969ba04-d7cf-4e7e-e3f9-0f18a13cf981"
   },
   "outputs": [
    {
     "data": {
      "text/plain": [
       "12485341.659520887"
      ]
     },
     "execution_count": 92,
     "metadata": {},
     "output_type": "execute_result"
    }
   ],
   "source": [
    "mse"
   ]
  },
  {
   "cell_type": "code",
   "execution_count": 93,
   "metadata": {
    "colab": {
     "base_uri": "https://localhost:8080/"
    },
    "executionInfo": {
     "elapsed": 18,
     "status": "ok",
     "timestamp": 1669002157557,
     "user": {
      "displayName": "Mallikarjun Thripuraboina",
      "userId": "01775111500134944659"
     },
     "user_tz": -330
    },
    "id": "QsCHf7F8FaEw",
    "outputId": "0f71b17c-754d-48d0-945c-68099c475566"
   },
   "outputs": [
    {
     "data": {
      "text/plain": [
       "0.6577689714561056"
      ]
     },
     "execution_count": 93,
     "metadata": {},
     "output_type": "execute_result"
    }
   ],
   "source": [
    "r2"
   ]
  },
  {
   "cell_type": "code",
   "execution_count": 93,
   "metadata": {
    "executionInfo": {
     "elapsed": 13,
     "status": "ok",
     "timestamp": 1669002157558,
     "user": {
      "displayName": "Mallikarjun Thripuraboina",
      "userId": "01775111500134944659"
     },
     "user_tz": -330
    },
    "id": "CVB1lNaXUCG4"
   },
   "outputs": [],
   "source": []
  }
 ],
 "metadata": {
  "colab": {
   "authorship_tag": "ABX9TyNHA4ZBg03lGk3UAAeNjRkb",
   "provenance": []
  },
  "kernelspec": {
   "display_name": "Python 3 (ipykernel)",
   "language": "python",
   "name": "python3"
  },
  "language_info": {
   "codemirror_mode": {
    "name": "ipython",
    "version": 3
   },
   "file_extension": ".py",
   "mimetype": "text/x-python",
   "name": "python",
   "nbconvert_exporter": "python",
   "pygments_lexer": "ipython3",
   "version": "3.9.12"
  }
 },
 "nbformat": 4,
 "nbformat_minor": 1
}
